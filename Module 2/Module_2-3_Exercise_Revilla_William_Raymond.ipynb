{
 "metadata": {
  "language_info": {
   "codemirror_mode": {
    "name": "ipython",
    "version": 3
   },
   "file_extension": ".py",
   "mimetype": "text/x-python",
   "name": "python",
   "nbconvert_exporter": "python",
   "pygments_lexer": "ipython3",
   "version": "3.8.3-final"
  },
  "orig_nbformat": 2,
  "kernelspec": {
   "name": "python_defaultSpec_1598627823866",
   "display_name": "Python 3.8.3 64-bit ('base': conda)"
  }
 },
 "nbformat": 4,
 "nbformat_minor": 2,
 "cells": [
  {
   "cell_type": "code",
   "execution_count": 1,
   "metadata": {
    "tags": []
   },
   "outputs": [
    {
     "output_type": "execute_result",
     "data": {
      "text/plain": "      CRIM    ZN  INDUS  CHAS    NOX     RM   AGE     DIS  RAD    TAX  \\\n0  0.00632  18.0   2.31   0.0  0.538  6.575  65.2  4.0900  1.0  296.0   \n1  0.02731   0.0   7.07   0.0  0.469  6.421  78.9  4.9671  2.0  242.0   \n2  0.02729   0.0   7.07   0.0  0.469  7.185  61.1  4.9671  2.0  242.0   \n3  0.03237   0.0   2.18   0.0  0.458  6.998  45.8  6.0622  3.0  222.0   \n4  0.06905   0.0   2.18   0.0  0.458  7.147  54.2  6.0622  3.0  222.0   \n\n   PTRATIO       B  LSTAT  \n0     15.3  396.90   4.98  \n1     17.8  396.90   9.14  \n2     17.8  392.83   4.03  \n3     18.7  394.63   2.94  \n4     18.7  396.90   5.33  ",
      "text/html": "<div>\n<style scoped>\n    .dataframe tbody tr th:only-of-type {\n        vertical-align: middle;\n    }\n\n    .dataframe tbody tr th {\n        vertical-align: top;\n    }\n\n    .dataframe thead th {\n        text-align: right;\n    }\n</style>\n<table border=\"1\" class=\"dataframe\">\n  <thead>\n    <tr style=\"text-align: right;\">\n      <th></th>\n      <th>CRIM</th>\n      <th>ZN</th>\n      <th>INDUS</th>\n      <th>CHAS</th>\n      <th>NOX</th>\n      <th>RM</th>\n      <th>AGE</th>\n      <th>DIS</th>\n      <th>RAD</th>\n      <th>TAX</th>\n      <th>PTRATIO</th>\n      <th>B</th>\n      <th>LSTAT</th>\n    </tr>\n  </thead>\n  <tbody>\n    <tr>\n      <th>0</th>\n      <td>0.00632</td>\n      <td>18.0</td>\n      <td>2.31</td>\n      <td>0.0</td>\n      <td>0.538</td>\n      <td>6.575</td>\n      <td>65.2</td>\n      <td>4.0900</td>\n      <td>1.0</td>\n      <td>296.0</td>\n      <td>15.3</td>\n      <td>396.90</td>\n      <td>4.98</td>\n    </tr>\n    <tr>\n      <th>1</th>\n      <td>0.02731</td>\n      <td>0.0</td>\n      <td>7.07</td>\n      <td>0.0</td>\n      <td>0.469</td>\n      <td>6.421</td>\n      <td>78.9</td>\n      <td>4.9671</td>\n      <td>2.0</td>\n      <td>242.0</td>\n      <td>17.8</td>\n      <td>396.90</td>\n      <td>9.14</td>\n    </tr>\n    <tr>\n      <th>2</th>\n      <td>0.02729</td>\n      <td>0.0</td>\n      <td>7.07</td>\n      <td>0.0</td>\n      <td>0.469</td>\n      <td>7.185</td>\n      <td>61.1</td>\n      <td>4.9671</td>\n      <td>2.0</td>\n      <td>242.0</td>\n      <td>17.8</td>\n      <td>392.83</td>\n      <td>4.03</td>\n    </tr>\n    <tr>\n      <th>3</th>\n      <td>0.03237</td>\n      <td>0.0</td>\n      <td>2.18</td>\n      <td>0.0</td>\n      <td>0.458</td>\n      <td>6.998</td>\n      <td>45.8</td>\n      <td>6.0622</td>\n      <td>3.0</td>\n      <td>222.0</td>\n      <td>18.7</td>\n      <td>394.63</td>\n      <td>2.94</td>\n    </tr>\n    <tr>\n      <th>4</th>\n      <td>0.06905</td>\n      <td>0.0</td>\n      <td>2.18</td>\n      <td>0.0</td>\n      <td>0.458</td>\n      <td>7.147</td>\n      <td>54.2</td>\n      <td>6.0622</td>\n      <td>3.0</td>\n      <td>222.0</td>\n      <td>18.7</td>\n      <td>396.90</td>\n      <td>5.33</td>\n    </tr>\n  </tbody>\n</table>\n</div>"
     },
     "metadata": {},
     "execution_count": 1
    }
   ],
   "source": [
    "import pandas as pd\n",
    "from sklearn.datasets import load_boston\n",
    "\n",
    "data_bunch = load_boston()\n",
    "data = data_bunch['data']\n",
    "feature_names = data_bunch['feature_names']\n",
    "descr = data_bunch['DESCR']\n",
    "\n",
    "df = pd.DataFrame(data, columns=feature_names)\n",
    "df.head()"
   ]
  },
  {
   "cell_type": "code",
   "execution_count": 2,
   "metadata": {},
   "outputs": [],
   "source": [
    "#Exercise 1"
   ]
  },
  {
   "cell_type": "code",
   "execution_count": 3,
   "metadata": {},
   "outputs": [],
   "source": [
    "df1 = df.copy()"
   ]
  },
  {
   "cell_type": "code",
   "execution_count": 4,
   "metadata": {},
   "outputs": [
    {
     "output_type": "execute_result",
     "data": {
      "text/plain": "CRIM       float64\nZN         float64\nINDUS      float64\nCHAS       float64\nNOX        float64\nRM         float64\nAGE        float64\nDIS        float64\nRAD        float64\nTAX        float64\nPTRATIO    float64\nB          float64\nLSTAT      float64\ndtype: object"
     },
     "metadata": {},
     "execution_count": 4
    }
   ],
   "source": [
    "df1.dtypes"
   ]
  },
  {
   "cell_type": "code",
   "execution_count": 5,
   "metadata": {},
   "outputs": [],
   "source": [
    "df1['CHAS'] = df1['CHAS'].astype(int)"
   ]
  },
  {
   "cell_type": "code",
   "execution_count": 6,
   "metadata": {},
   "outputs": [
    {
     "output_type": "execute_result",
     "data": {
      "text/plain": "        CRIM    ZN  INDUS  CHAS    NOX     RM   AGE     DIS  RAD    TAX  \\\n0    0.00632  18.0   2.31     0  0.538  6.575  65.2  4.0900  1.0  296.0   \n1    0.02731   0.0   7.07     0  0.469  6.421  78.9  4.9671  2.0  242.0   \n2    0.02729   0.0   7.07     0  0.469  7.185  61.1  4.9671  2.0  242.0   \n3    0.03237   0.0   2.18     0  0.458  6.998  45.8  6.0622  3.0  222.0   \n4    0.06905   0.0   2.18     0  0.458  7.147  54.2  6.0622  3.0  222.0   \n..       ...   ...    ...   ...    ...    ...   ...     ...  ...    ...   \n501  0.06263   0.0  11.93     0  0.573  6.593  69.1  2.4786  1.0  273.0   \n502  0.04527   0.0  11.93     0  0.573  6.120  76.7  2.2875  1.0  273.0   \n503  0.06076   0.0  11.93     0  0.573  6.976  91.0  2.1675  1.0  273.0   \n504  0.10959   0.0  11.93     0  0.573  6.794  89.3  2.3889  1.0  273.0   \n505  0.04741   0.0  11.93     0  0.573  6.030  80.8  2.5050  1.0  273.0   \n\n     PTRATIO       B  LSTAT  \n0       15.3  396.90   4.98  \n1       17.8  396.90   9.14  \n2       17.8  392.83   4.03  \n3       18.7  394.63   2.94  \n4       18.7  396.90   5.33  \n..       ...     ...    ...  \n501     21.0  391.99   9.67  \n502     21.0  396.90   9.08  \n503     21.0  396.90   5.64  \n504     21.0  393.45   6.48  \n505     21.0  396.90   7.88  \n\n[506 rows x 13 columns]",
      "text/html": "<div>\n<style scoped>\n    .dataframe tbody tr th:only-of-type {\n        vertical-align: middle;\n    }\n\n    .dataframe tbody tr th {\n        vertical-align: top;\n    }\n\n    .dataframe thead th {\n        text-align: right;\n    }\n</style>\n<table border=\"1\" class=\"dataframe\">\n  <thead>\n    <tr style=\"text-align: right;\">\n      <th></th>\n      <th>CRIM</th>\n      <th>ZN</th>\n      <th>INDUS</th>\n      <th>CHAS</th>\n      <th>NOX</th>\n      <th>RM</th>\n      <th>AGE</th>\n      <th>DIS</th>\n      <th>RAD</th>\n      <th>TAX</th>\n      <th>PTRATIO</th>\n      <th>B</th>\n      <th>LSTAT</th>\n    </tr>\n  </thead>\n  <tbody>\n    <tr>\n      <th>0</th>\n      <td>0.00632</td>\n      <td>18.0</td>\n      <td>2.31</td>\n      <td>0</td>\n      <td>0.538</td>\n      <td>6.575</td>\n      <td>65.2</td>\n      <td>4.0900</td>\n      <td>1.0</td>\n      <td>296.0</td>\n      <td>15.3</td>\n      <td>396.90</td>\n      <td>4.98</td>\n    </tr>\n    <tr>\n      <th>1</th>\n      <td>0.02731</td>\n      <td>0.0</td>\n      <td>7.07</td>\n      <td>0</td>\n      <td>0.469</td>\n      <td>6.421</td>\n      <td>78.9</td>\n      <td>4.9671</td>\n      <td>2.0</td>\n      <td>242.0</td>\n      <td>17.8</td>\n      <td>396.90</td>\n      <td>9.14</td>\n    </tr>\n    <tr>\n      <th>2</th>\n      <td>0.02729</td>\n      <td>0.0</td>\n      <td>7.07</td>\n      <td>0</td>\n      <td>0.469</td>\n      <td>7.185</td>\n      <td>61.1</td>\n      <td>4.9671</td>\n      <td>2.0</td>\n      <td>242.0</td>\n      <td>17.8</td>\n      <td>392.83</td>\n      <td>4.03</td>\n    </tr>\n    <tr>\n      <th>3</th>\n      <td>0.03237</td>\n      <td>0.0</td>\n      <td>2.18</td>\n      <td>0</td>\n      <td>0.458</td>\n      <td>6.998</td>\n      <td>45.8</td>\n      <td>6.0622</td>\n      <td>3.0</td>\n      <td>222.0</td>\n      <td>18.7</td>\n      <td>394.63</td>\n      <td>2.94</td>\n    </tr>\n    <tr>\n      <th>4</th>\n      <td>0.06905</td>\n      <td>0.0</td>\n      <td>2.18</td>\n      <td>0</td>\n      <td>0.458</td>\n      <td>7.147</td>\n      <td>54.2</td>\n      <td>6.0622</td>\n      <td>3.0</td>\n      <td>222.0</td>\n      <td>18.7</td>\n      <td>396.90</td>\n      <td>5.33</td>\n    </tr>\n    <tr>\n      <th>...</th>\n      <td>...</td>\n      <td>...</td>\n      <td>...</td>\n      <td>...</td>\n      <td>...</td>\n      <td>...</td>\n      <td>...</td>\n      <td>...</td>\n      <td>...</td>\n      <td>...</td>\n      <td>...</td>\n      <td>...</td>\n      <td>...</td>\n    </tr>\n    <tr>\n      <th>501</th>\n      <td>0.06263</td>\n      <td>0.0</td>\n      <td>11.93</td>\n      <td>0</td>\n      <td>0.573</td>\n      <td>6.593</td>\n      <td>69.1</td>\n      <td>2.4786</td>\n      <td>1.0</td>\n      <td>273.0</td>\n      <td>21.0</td>\n      <td>391.99</td>\n      <td>9.67</td>\n    </tr>\n    <tr>\n      <th>502</th>\n      <td>0.04527</td>\n      <td>0.0</td>\n      <td>11.93</td>\n      <td>0</td>\n      <td>0.573</td>\n      <td>6.120</td>\n      <td>76.7</td>\n      <td>2.2875</td>\n      <td>1.0</td>\n      <td>273.0</td>\n      <td>21.0</td>\n      <td>396.90</td>\n      <td>9.08</td>\n    </tr>\n    <tr>\n      <th>503</th>\n      <td>0.06076</td>\n      <td>0.0</td>\n      <td>11.93</td>\n      <td>0</td>\n      <td>0.573</td>\n      <td>6.976</td>\n      <td>91.0</td>\n      <td>2.1675</td>\n      <td>1.0</td>\n      <td>273.0</td>\n      <td>21.0</td>\n      <td>396.90</td>\n      <td>5.64</td>\n    </tr>\n    <tr>\n      <th>504</th>\n      <td>0.10959</td>\n      <td>0.0</td>\n      <td>11.93</td>\n      <td>0</td>\n      <td>0.573</td>\n      <td>6.794</td>\n      <td>89.3</td>\n      <td>2.3889</td>\n      <td>1.0</td>\n      <td>273.0</td>\n      <td>21.0</td>\n      <td>393.45</td>\n      <td>6.48</td>\n    </tr>\n    <tr>\n      <th>505</th>\n      <td>0.04741</td>\n      <td>0.0</td>\n      <td>11.93</td>\n      <td>0</td>\n      <td>0.573</td>\n      <td>6.030</td>\n      <td>80.8</td>\n      <td>2.5050</td>\n      <td>1.0</td>\n      <td>273.0</td>\n      <td>21.0</td>\n      <td>396.90</td>\n      <td>7.88</td>\n    </tr>\n  </tbody>\n</table>\n<p>506 rows × 13 columns</p>\n</div>"
     },
     "metadata": {},
     "execution_count": 6
    }
   ],
   "source": [
    "df1"
   ]
  },
  {
   "cell_type": "code",
   "execution_count": 7,
   "metadata": {},
   "outputs": [
    {
     "output_type": "execute_result",
     "data": {
      "text/plain": "CRIM       float64\nZN         float64\nINDUS      float64\nCHAS         int32\nNOX        float64\nRM         float64\nAGE        float64\nDIS        float64\nRAD        float64\nTAX        float64\nPTRATIO    float64\nB          float64\nLSTAT      float64\ndtype: object"
     },
     "metadata": {},
     "execution_count": 7
    }
   ],
   "source": [
    "df1.dtypes"
   ]
  },
  {
   "cell_type": "code",
   "execution_count": 8,
   "metadata": {},
   "outputs": [],
   "source": [
    "from sklearn.preprocessing import OneHotEncoder, LabelEncoder"
   ]
  },
  {
   "cell_type": "code",
   "execution_count": 9,
   "metadata": {},
   "outputs": [],
   "source": [
    "chashot = OneHotEncoder()"
   ]
  },
  {
   "cell_type": "code",
   "execution_count": 10,
   "metadata": {},
   "outputs": [],
   "source": [
    "xchas = chashot.fit_transform(df1.CHAS.values.reshape(-1,1)).toarray()"
   ]
  },
  {
   "cell_type": "code",
   "execution_count": 11,
   "metadata": {},
   "outputs": [
    {
     "output_type": "execute_result",
     "data": {
      "text/plain": "array([[1., 0.],\n       [1., 0.],\n       [1., 0.],\n       ...,\n       [1., 0.],\n       [1., 0.],\n       [1., 0.]])"
     },
     "metadata": {},
     "execution_count": 11
    }
   ],
   "source": [
    "xchas"
   ]
  },
  {
   "cell_type": "code",
   "execution_count": 12,
   "metadata": {},
   "outputs": [],
   "source": [
    "df1_OH = pd.DataFrame(xchas, columns = [\"CHAS_\"+str(int(i)) for i in range(xchas.shape[1])])"
   ]
  },
  {
   "cell_type": "code",
   "execution_count": 13,
   "metadata": {},
   "outputs": [],
   "source": [
    "df1_chas_test = pd.concat([df1,df1_OH], axis=1)"
   ]
  },
  {
   "cell_type": "code",
   "execution_count": 14,
   "metadata": {},
   "outputs": [
    {
     "output_type": "execute_result",
     "data": {
      "text/plain": "      CRIM    ZN  INDUS  CHAS    NOX     RM   AGE     DIS  RAD    TAX  \\\n0  0.00632  18.0   2.31     0  0.538  6.575  65.2  4.0900  1.0  296.0   \n1  0.02731   0.0   7.07     0  0.469  6.421  78.9  4.9671  2.0  242.0   \n2  0.02729   0.0   7.07     0  0.469  7.185  61.1  4.9671  2.0  242.0   \n3  0.03237   0.0   2.18     0  0.458  6.998  45.8  6.0622  3.0  222.0   \n4  0.06905   0.0   2.18     0  0.458  7.147  54.2  6.0622  3.0  222.0   \n\n   PTRATIO       B  LSTAT  CHAS_0  CHAS_1  \n0     15.3  396.90   4.98     1.0     0.0  \n1     17.8  396.90   9.14     1.0     0.0  \n2     17.8  392.83   4.03     1.0     0.0  \n3     18.7  394.63   2.94     1.0     0.0  \n4     18.7  396.90   5.33     1.0     0.0  ",
      "text/html": "<div>\n<style scoped>\n    .dataframe tbody tr th:only-of-type {\n        vertical-align: middle;\n    }\n\n    .dataframe tbody tr th {\n        vertical-align: top;\n    }\n\n    .dataframe thead th {\n        text-align: right;\n    }\n</style>\n<table border=\"1\" class=\"dataframe\">\n  <thead>\n    <tr style=\"text-align: right;\">\n      <th></th>\n      <th>CRIM</th>\n      <th>ZN</th>\n      <th>INDUS</th>\n      <th>CHAS</th>\n      <th>NOX</th>\n      <th>RM</th>\n      <th>AGE</th>\n      <th>DIS</th>\n      <th>RAD</th>\n      <th>TAX</th>\n      <th>PTRATIO</th>\n      <th>B</th>\n      <th>LSTAT</th>\n      <th>CHAS_0</th>\n      <th>CHAS_1</th>\n    </tr>\n  </thead>\n  <tbody>\n    <tr>\n      <th>0</th>\n      <td>0.00632</td>\n      <td>18.0</td>\n      <td>2.31</td>\n      <td>0</td>\n      <td>0.538</td>\n      <td>6.575</td>\n      <td>65.2</td>\n      <td>4.0900</td>\n      <td>1.0</td>\n      <td>296.0</td>\n      <td>15.3</td>\n      <td>396.90</td>\n      <td>4.98</td>\n      <td>1.0</td>\n      <td>0.0</td>\n    </tr>\n    <tr>\n      <th>1</th>\n      <td>0.02731</td>\n      <td>0.0</td>\n      <td>7.07</td>\n      <td>0</td>\n      <td>0.469</td>\n      <td>6.421</td>\n      <td>78.9</td>\n      <td>4.9671</td>\n      <td>2.0</td>\n      <td>242.0</td>\n      <td>17.8</td>\n      <td>396.90</td>\n      <td>9.14</td>\n      <td>1.0</td>\n      <td>0.0</td>\n    </tr>\n    <tr>\n      <th>2</th>\n      <td>0.02729</td>\n      <td>0.0</td>\n      <td>7.07</td>\n      <td>0</td>\n      <td>0.469</td>\n      <td>7.185</td>\n      <td>61.1</td>\n      <td>4.9671</td>\n      <td>2.0</td>\n      <td>242.0</td>\n      <td>17.8</td>\n      <td>392.83</td>\n      <td>4.03</td>\n      <td>1.0</td>\n      <td>0.0</td>\n    </tr>\n    <tr>\n      <th>3</th>\n      <td>0.03237</td>\n      <td>0.0</td>\n      <td>2.18</td>\n      <td>0</td>\n      <td>0.458</td>\n      <td>6.998</td>\n      <td>45.8</td>\n      <td>6.0622</td>\n      <td>3.0</td>\n      <td>222.0</td>\n      <td>18.7</td>\n      <td>394.63</td>\n      <td>2.94</td>\n      <td>1.0</td>\n      <td>0.0</td>\n    </tr>\n    <tr>\n      <th>4</th>\n      <td>0.06905</td>\n      <td>0.0</td>\n      <td>2.18</td>\n      <td>0</td>\n      <td>0.458</td>\n      <td>7.147</td>\n      <td>54.2</td>\n      <td>6.0622</td>\n      <td>3.0</td>\n      <td>222.0</td>\n      <td>18.7</td>\n      <td>396.90</td>\n      <td>5.33</td>\n      <td>1.0</td>\n      <td>0.0</td>\n    </tr>\n  </tbody>\n</table>\n</div>"
     },
     "metadata": {},
     "execution_count": 14
    }
   ],
   "source": [
    "df1_chas_test.head()"
   ]
  },
  {
   "cell_type": "code",
   "execution_count": 15,
   "metadata": {},
   "outputs": [],
   "source": [
    "#Exercise 2"
   ]
  },
  {
   "cell_type": "code",
   "execution_count": 16,
   "metadata": {},
   "outputs": [],
   "source": [
    "df2 = df.copy()"
   ]
  },
  {
   "cell_type": "code",
   "execution_count": 17,
   "metadata": {},
   "outputs": [
    {
     "output_type": "execute_result",
     "data": {
      "text/plain": "        CRIM    ZN  INDUS  CHAS    NOX     RM   AGE     DIS  RAD    TAX  \\\n0    0.00632  18.0   2.31   0.0  0.538  6.575  65.2  4.0900  1.0  296.0   \n1    0.02731   0.0   7.07   0.0  0.469  6.421  78.9  4.9671  2.0  242.0   \n2    0.02729   0.0   7.07   0.0  0.469  7.185  61.1  4.9671  2.0  242.0   \n3    0.03237   0.0   2.18   0.0  0.458  6.998  45.8  6.0622  3.0  222.0   \n4    0.06905   0.0   2.18   0.0  0.458  7.147  54.2  6.0622  3.0  222.0   \n..       ...   ...    ...   ...    ...    ...   ...     ...  ...    ...   \n501  0.06263   0.0  11.93   0.0  0.573  6.593  69.1  2.4786  1.0  273.0   \n502  0.04527   0.0  11.93   0.0  0.573  6.120  76.7  2.2875  1.0  273.0   \n503  0.06076   0.0  11.93   0.0  0.573  6.976  91.0  2.1675  1.0  273.0   \n504  0.10959   0.0  11.93   0.0  0.573  6.794  89.3  2.3889  1.0  273.0   \n505  0.04741   0.0  11.93   0.0  0.573  6.030  80.8  2.5050  1.0  273.0   \n\n     PTRATIO       B  LSTAT  \n0       15.3  396.90   4.98  \n1       17.8  396.90   9.14  \n2       17.8  392.83   4.03  \n3       18.7  394.63   2.94  \n4       18.7  396.90   5.33  \n..       ...     ...    ...  \n501     21.0  391.99   9.67  \n502     21.0  396.90   9.08  \n503     21.0  396.90   5.64  \n504     21.0  393.45   6.48  \n505     21.0  396.90   7.88  \n\n[506 rows x 13 columns]",
      "text/html": "<div>\n<style scoped>\n    .dataframe tbody tr th:only-of-type {\n        vertical-align: middle;\n    }\n\n    .dataframe tbody tr th {\n        vertical-align: top;\n    }\n\n    .dataframe thead th {\n        text-align: right;\n    }\n</style>\n<table border=\"1\" class=\"dataframe\">\n  <thead>\n    <tr style=\"text-align: right;\">\n      <th></th>\n      <th>CRIM</th>\n      <th>ZN</th>\n      <th>INDUS</th>\n      <th>CHAS</th>\n      <th>NOX</th>\n      <th>RM</th>\n      <th>AGE</th>\n      <th>DIS</th>\n      <th>RAD</th>\n      <th>TAX</th>\n      <th>PTRATIO</th>\n      <th>B</th>\n      <th>LSTAT</th>\n    </tr>\n  </thead>\n  <tbody>\n    <tr>\n      <th>0</th>\n      <td>0.00632</td>\n      <td>18.0</td>\n      <td>2.31</td>\n      <td>0.0</td>\n      <td>0.538</td>\n      <td>6.575</td>\n      <td>65.2</td>\n      <td>4.0900</td>\n      <td>1.0</td>\n      <td>296.0</td>\n      <td>15.3</td>\n      <td>396.90</td>\n      <td>4.98</td>\n    </tr>\n    <tr>\n      <th>1</th>\n      <td>0.02731</td>\n      <td>0.0</td>\n      <td>7.07</td>\n      <td>0.0</td>\n      <td>0.469</td>\n      <td>6.421</td>\n      <td>78.9</td>\n      <td>4.9671</td>\n      <td>2.0</td>\n      <td>242.0</td>\n      <td>17.8</td>\n      <td>396.90</td>\n      <td>9.14</td>\n    </tr>\n    <tr>\n      <th>2</th>\n      <td>0.02729</td>\n      <td>0.0</td>\n      <td>7.07</td>\n      <td>0.0</td>\n      <td>0.469</td>\n      <td>7.185</td>\n      <td>61.1</td>\n      <td>4.9671</td>\n      <td>2.0</td>\n      <td>242.0</td>\n      <td>17.8</td>\n      <td>392.83</td>\n      <td>4.03</td>\n    </tr>\n    <tr>\n      <th>3</th>\n      <td>0.03237</td>\n      <td>0.0</td>\n      <td>2.18</td>\n      <td>0.0</td>\n      <td>0.458</td>\n      <td>6.998</td>\n      <td>45.8</td>\n      <td>6.0622</td>\n      <td>3.0</td>\n      <td>222.0</td>\n      <td>18.7</td>\n      <td>394.63</td>\n      <td>2.94</td>\n    </tr>\n    <tr>\n      <th>4</th>\n      <td>0.06905</td>\n      <td>0.0</td>\n      <td>2.18</td>\n      <td>0.0</td>\n      <td>0.458</td>\n      <td>7.147</td>\n      <td>54.2</td>\n      <td>6.0622</td>\n      <td>3.0</td>\n      <td>222.0</td>\n      <td>18.7</td>\n      <td>396.90</td>\n      <td>5.33</td>\n    </tr>\n    <tr>\n      <th>...</th>\n      <td>...</td>\n      <td>...</td>\n      <td>...</td>\n      <td>...</td>\n      <td>...</td>\n      <td>...</td>\n      <td>...</td>\n      <td>...</td>\n      <td>...</td>\n      <td>...</td>\n      <td>...</td>\n      <td>...</td>\n      <td>...</td>\n    </tr>\n    <tr>\n      <th>501</th>\n      <td>0.06263</td>\n      <td>0.0</td>\n      <td>11.93</td>\n      <td>0.0</td>\n      <td>0.573</td>\n      <td>6.593</td>\n      <td>69.1</td>\n      <td>2.4786</td>\n      <td>1.0</td>\n      <td>273.0</td>\n      <td>21.0</td>\n      <td>391.99</td>\n      <td>9.67</td>\n    </tr>\n    <tr>\n      <th>502</th>\n      <td>0.04527</td>\n      <td>0.0</td>\n      <td>11.93</td>\n      <td>0.0</td>\n      <td>0.573</td>\n      <td>6.120</td>\n      <td>76.7</td>\n      <td>2.2875</td>\n      <td>1.0</td>\n      <td>273.0</td>\n      <td>21.0</td>\n      <td>396.90</td>\n      <td>9.08</td>\n    </tr>\n    <tr>\n      <th>503</th>\n      <td>0.06076</td>\n      <td>0.0</td>\n      <td>11.93</td>\n      <td>0.0</td>\n      <td>0.573</td>\n      <td>6.976</td>\n      <td>91.0</td>\n      <td>2.1675</td>\n      <td>1.0</td>\n      <td>273.0</td>\n      <td>21.0</td>\n      <td>396.90</td>\n      <td>5.64</td>\n    </tr>\n    <tr>\n      <th>504</th>\n      <td>0.10959</td>\n      <td>0.0</td>\n      <td>11.93</td>\n      <td>0.0</td>\n      <td>0.573</td>\n      <td>6.794</td>\n      <td>89.3</td>\n      <td>2.3889</td>\n      <td>1.0</td>\n      <td>273.0</td>\n      <td>21.0</td>\n      <td>393.45</td>\n      <td>6.48</td>\n    </tr>\n    <tr>\n      <th>505</th>\n      <td>0.04741</td>\n      <td>0.0</td>\n      <td>11.93</td>\n      <td>0.0</td>\n      <td>0.573</td>\n      <td>6.030</td>\n      <td>80.8</td>\n      <td>2.5050</td>\n      <td>1.0</td>\n      <td>273.0</td>\n      <td>21.0</td>\n      <td>396.90</td>\n      <td>7.88</td>\n    </tr>\n  </tbody>\n</table>\n<p>506 rows × 13 columns</p>\n</div>"
     },
     "metadata": {},
     "execution_count": 17
    }
   ],
   "source": [
    "df2"
   ]
  },
  {
   "cell_type": "code",
   "execution_count": 18,
   "metadata": {},
   "outputs": [
    {
     "output_type": "execute_result",
     "data": {
      "text/plain": "3.6135235573122535"
     },
     "metadata": {},
     "execution_count": 18
    }
   ],
   "source": [
    "df2['CRIM'].mean()"
   ]
  },
  {
   "cell_type": "code",
   "execution_count": 19,
   "metadata": {},
   "outputs": [],
   "source": [
    "df2 = df2[df2['CRIM'] > 3.6135235573122535]"
   ]
  },
  {
   "cell_type": "code",
   "execution_count": 20,
   "metadata": {},
   "outputs": [
    {
     "output_type": "execute_result",
     "data": {
      "text/plain": "        CRIM   ZN  INDUS  CHAS    NOX     RM    AGE     DIS   RAD    TAX  \\\n143  4.09740  0.0  19.58   0.0  0.871  5.468  100.0  1.4118   5.0  403.0   \n356  8.98296  0.0  18.10   1.0  0.770  6.212   97.4  2.1222  24.0  666.0   \n357  3.84970  0.0  18.10   1.0  0.770  6.395   91.0  2.5052  24.0  666.0   \n358  5.20177  0.0  18.10   1.0  0.770  6.127   83.4  2.7227  24.0  666.0   \n359  4.26131  0.0  18.10   0.0  0.770  6.112   81.3  2.5091  24.0  666.0   \n..       ...  ...    ...   ...    ...    ...    ...     ...   ...    ...   \n481  5.70818  0.0  18.10   0.0  0.532  6.750   74.9  3.3317  24.0  666.0   \n482  5.73116  0.0  18.10   0.0  0.532  7.061   77.0  3.4106  24.0  666.0   \n485  3.67367  0.0  18.10   0.0  0.583  6.312   51.9  3.9917  24.0  666.0   \n486  5.69175  0.0  18.10   0.0  0.583  6.114   79.8  3.5459  24.0  666.0   \n487  4.83567  0.0  18.10   0.0  0.583  5.905   53.2  3.1523  24.0  666.0   \n\n     PTRATIO       B  LSTAT  \n143     14.7  396.90  26.42  \n356     20.2  377.73  17.60  \n357     20.2  391.34  13.27  \n358     20.2  395.43  11.48  \n359     20.2  390.74  12.67  \n..       ...     ...    ...  \n481     20.2  393.07   7.74  \n482     20.2  395.28   7.01  \n485     20.2  388.62  10.58  \n486     20.2  392.68  14.98  \n487     20.2  388.22  11.45  \n\n[128 rows x 13 columns]",
      "text/html": "<div>\n<style scoped>\n    .dataframe tbody tr th:only-of-type {\n        vertical-align: middle;\n    }\n\n    .dataframe tbody tr th {\n        vertical-align: top;\n    }\n\n    .dataframe thead th {\n        text-align: right;\n    }\n</style>\n<table border=\"1\" class=\"dataframe\">\n  <thead>\n    <tr style=\"text-align: right;\">\n      <th></th>\n      <th>CRIM</th>\n      <th>ZN</th>\n      <th>INDUS</th>\n      <th>CHAS</th>\n      <th>NOX</th>\n      <th>RM</th>\n      <th>AGE</th>\n      <th>DIS</th>\n      <th>RAD</th>\n      <th>TAX</th>\n      <th>PTRATIO</th>\n      <th>B</th>\n      <th>LSTAT</th>\n    </tr>\n  </thead>\n  <tbody>\n    <tr>\n      <th>143</th>\n      <td>4.09740</td>\n      <td>0.0</td>\n      <td>19.58</td>\n      <td>0.0</td>\n      <td>0.871</td>\n      <td>5.468</td>\n      <td>100.0</td>\n      <td>1.4118</td>\n      <td>5.0</td>\n      <td>403.0</td>\n      <td>14.7</td>\n      <td>396.90</td>\n      <td>26.42</td>\n    </tr>\n    <tr>\n      <th>356</th>\n      <td>8.98296</td>\n      <td>0.0</td>\n      <td>18.10</td>\n      <td>1.0</td>\n      <td>0.770</td>\n      <td>6.212</td>\n      <td>97.4</td>\n      <td>2.1222</td>\n      <td>24.0</td>\n      <td>666.0</td>\n      <td>20.2</td>\n      <td>377.73</td>\n      <td>17.60</td>\n    </tr>\n    <tr>\n      <th>357</th>\n      <td>3.84970</td>\n      <td>0.0</td>\n      <td>18.10</td>\n      <td>1.0</td>\n      <td>0.770</td>\n      <td>6.395</td>\n      <td>91.0</td>\n      <td>2.5052</td>\n      <td>24.0</td>\n      <td>666.0</td>\n      <td>20.2</td>\n      <td>391.34</td>\n      <td>13.27</td>\n    </tr>\n    <tr>\n      <th>358</th>\n      <td>5.20177</td>\n      <td>0.0</td>\n      <td>18.10</td>\n      <td>1.0</td>\n      <td>0.770</td>\n      <td>6.127</td>\n      <td>83.4</td>\n      <td>2.7227</td>\n      <td>24.0</td>\n      <td>666.0</td>\n      <td>20.2</td>\n      <td>395.43</td>\n      <td>11.48</td>\n    </tr>\n    <tr>\n      <th>359</th>\n      <td>4.26131</td>\n      <td>0.0</td>\n      <td>18.10</td>\n      <td>0.0</td>\n      <td>0.770</td>\n      <td>6.112</td>\n      <td>81.3</td>\n      <td>2.5091</td>\n      <td>24.0</td>\n      <td>666.0</td>\n      <td>20.2</td>\n      <td>390.74</td>\n      <td>12.67</td>\n    </tr>\n    <tr>\n      <th>...</th>\n      <td>...</td>\n      <td>...</td>\n      <td>...</td>\n      <td>...</td>\n      <td>...</td>\n      <td>...</td>\n      <td>...</td>\n      <td>...</td>\n      <td>...</td>\n      <td>...</td>\n      <td>...</td>\n      <td>...</td>\n      <td>...</td>\n    </tr>\n    <tr>\n      <th>481</th>\n      <td>5.70818</td>\n      <td>0.0</td>\n      <td>18.10</td>\n      <td>0.0</td>\n      <td>0.532</td>\n      <td>6.750</td>\n      <td>74.9</td>\n      <td>3.3317</td>\n      <td>24.0</td>\n      <td>666.0</td>\n      <td>20.2</td>\n      <td>393.07</td>\n      <td>7.74</td>\n    </tr>\n    <tr>\n      <th>482</th>\n      <td>5.73116</td>\n      <td>0.0</td>\n      <td>18.10</td>\n      <td>0.0</td>\n      <td>0.532</td>\n      <td>7.061</td>\n      <td>77.0</td>\n      <td>3.4106</td>\n      <td>24.0</td>\n      <td>666.0</td>\n      <td>20.2</td>\n      <td>395.28</td>\n      <td>7.01</td>\n    </tr>\n    <tr>\n      <th>485</th>\n      <td>3.67367</td>\n      <td>0.0</td>\n      <td>18.10</td>\n      <td>0.0</td>\n      <td>0.583</td>\n      <td>6.312</td>\n      <td>51.9</td>\n      <td>3.9917</td>\n      <td>24.0</td>\n      <td>666.0</td>\n      <td>20.2</td>\n      <td>388.62</td>\n      <td>10.58</td>\n    </tr>\n    <tr>\n      <th>486</th>\n      <td>5.69175</td>\n      <td>0.0</td>\n      <td>18.10</td>\n      <td>0.0</td>\n      <td>0.583</td>\n      <td>6.114</td>\n      <td>79.8</td>\n      <td>3.5459</td>\n      <td>24.0</td>\n      <td>666.0</td>\n      <td>20.2</td>\n      <td>392.68</td>\n      <td>14.98</td>\n    </tr>\n    <tr>\n      <th>487</th>\n      <td>4.83567</td>\n      <td>0.0</td>\n      <td>18.10</td>\n      <td>0.0</td>\n      <td>0.583</td>\n      <td>5.905</td>\n      <td>53.2</td>\n      <td>3.1523</td>\n      <td>24.0</td>\n      <td>666.0</td>\n      <td>20.2</td>\n      <td>388.22</td>\n      <td>11.45</td>\n    </tr>\n  </tbody>\n</table>\n<p>128 rows × 13 columns</p>\n</div>"
     },
     "metadata": {},
     "execution_count": 20
    }
   ],
   "source": [
    "df2"
   ]
  },
  {
   "cell_type": "code",
   "execution_count": 21,
   "metadata": {},
   "outputs": [],
   "source": [
    "#Exercise 3"
   ]
  },
  {
   "cell_type": "code",
   "execution_count": 22,
   "metadata": {},
   "outputs": [],
   "source": [
    "df3=df.copy()"
   ]
  },
  {
   "cell_type": "code",
   "execution_count": 23,
   "metadata": {},
   "outputs": [
    {
     "output_type": "execute_result",
     "data": {
      "text/plain": "         CRIM    ZN  INDUS  CHAS    NOX     RM    AGE      DIS   RAD    TAX  \\\n350   0.06211  40.0   1.25   0.0  0.429  6.490   44.4   8.7921   1.0  335.0   \n351   0.07950  60.0   1.69   0.0  0.411  6.579   35.9  10.7103   4.0  411.0   \n352   0.07244  60.0   1.69   0.0  0.411  5.884   18.5  10.7103   4.0  411.0   \n353   0.01709  90.0   2.02   0.0  0.410  6.728   36.1  12.1265   5.0  187.0   \n354   0.04301  80.0   1.91   0.0  0.413  5.663   21.9  10.5857   4.0  334.0   \n355   0.10659  80.0   1.91   0.0  0.413  5.936   19.5  10.5857   4.0  334.0   \n356   8.98296   0.0  18.10   1.0  0.770  6.212   97.4   2.1222  24.0  666.0   \n357   3.84970   0.0  18.10   1.0  0.770  6.395   91.0   2.5052  24.0  666.0   \n358   5.20177   0.0  18.10   1.0  0.770  6.127   83.4   2.7227  24.0  666.0   \n359   4.26131   0.0  18.10   0.0  0.770  6.112   81.3   2.5091  24.0  666.0   \n360   4.54192   0.0  18.10   0.0  0.770  6.398   88.0   2.5182  24.0  666.0   \n361   3.83684   0.0  18.10   0.0  0.770  6.251   91.1   2.2955  24.0  666.0   \n362   3.67822   0.0  18.10   0.0  0.770  5.362   96.2   2.1036  24.0  666.0   \n363   4.22239   0.0  18.10   1.0  0.770  5.803   89.0   1.9047  24.0  666.0   \n364   3.47428   0.0  18.10   1.0  0.718  8.780   82.9   1.9047  24.0  666.0   \n365   4.55587   0.0  18.10   0.0  0.718  3.561   87.9   1.6132  24.0  666.0   \n366   3.69695   0.0  18.10   0.0  0.718  4.963   91.4   1.7523  24.0  666.0   \n367  13.52220   0.0  18.10   0.0  0.631  3.863  100.0   1.5106  24.0  666.0   \n368   4.89822   0.0  18.10   0.0  0.631  4.970  100.0   1.3325  24.0  666.0   \n369   5.66998   0.0  18.10   1.0  0.631  6.683   96.8   1.3567  24.0  666.0   \n370   6.53876   0.0  18.10   1.0  0.631  7.016   97.5   1.2024  24.0  666.0   \n371   9.23230   0.0  18.10   0.0  0.631  6.216  100.0   1.1691  24.0  666.0   \n372   8.26725   0.0  18.10   1.0  0.668  5.875   89.6   1.1296  24.0  666.0   \n373  11.10810   0.0  18.10   0.0  0.668  4.906  100.0   1.1742  24.0  666.0   \n374  18.49820   0.0  18.10   0.0  0.668  4.138  100.0   1.1370  24.0  666.0   \n375  19.60910   0.0  18.10   0.0  0.671  7.313   97.9   1.3163  24.0  666.0   \n376  15.28800   0.0  18.10   0.0  0.671  6.649   93.3   1.3449  24.0  666.0   \n377   9.82349   0.0  18.10   0.0  0.671  6.794   98.8   1.3580  24.0  666.0   \n378  23.64820   0.0  18.10   0.0  0.671  6.380   96.2   1.3861  24.0  666.0   \n379  17.86670   0.0  18.10   0.0  0.671  6.223  100.0   1.3861  24.0  666.0   \n380  88.97620   0.0  18.10   0.0  0.671  6.968   91.9   1.4165  24.0  666.0   \n381  15.87440   0.0  18.10   0.0  0.671  6.545   99.1   1.5192  24.0  666.0   \n382   9.18702   0.0  18.10   0.0  0.700  5.536  100.0   1.5804  24.0  666.0   \n383   7.99248   0.0  18.10   0.0  0.700  5.520  100.0   1.5331  24.0  666.0   \n384  20.08490   0.0  18.10   0.0  0.700  4.368   91.2   1.4395  24.0  666.0   \n385  16.81180   0.0  18.10   0.0  0.700  5.277   98.1   1.4261  24.0  666.0   \n386  24.39380   0.0  18.10   0.0  0.700  4.652  100.0   1.4672  24.0  666.0   \n387  22.59710   0.0  18.10   0.0  0.700  5.000   89.5   1.5184  24.0  666.0   \n388  14.33370   0.0  18.10   0.0  0.700  4.880  100.0   1.5895  24.0  666.0   \n389   8.15174   0.0  18.10   0.0  0.700  5.390   98.9   1.7281  24.0  666.0   \n390   6.96215   0.0  18.10   0.0  0.700  5.713   97.0   1.9265  24.0  666.0   \n391   5.29305   0.0  18.10   0.0  0.700  6.051   82.5   2.1678  24.0  666.0   \n392  11.57790   0.0  18.10   0.0  0.700  5.036   97.0   1.7700  24.0  666.0   \n393   8.64476   0.0  18.10   0.0  0.693  6.193   92.6   1.7912  24.0  666.0   \n394  13.35980   0.0  18.10   0.0  0.693  5.887   94.7   1.7821  24.0  666.0   \n395   8.71675   0.0  18.10   0.0  0.693  6.471   98.8   1.7257  24.0  666.0   \n396   5.87205   0.0  18.10   0.0  0.693  6.405   96.0   1.6768  24.0  666.0   \n397   7.67202   0.0  18.10   0.0  0.693  5.747   98.9   1.6334  24.0  666.0   \n398  38.35180   0.0  18.10   0.0  0.693  5.453  100.0   1.4896  24.0  666.0   \n399   9.91655   0.0  18.10   0.0  0.693  5.852   77.8   1.5004  24.0  666.0   \n\n     PTRATIO       B  LSTAT  \n350     19.7  396.90   5.98  \n351     18.3  370.78   5.49  \n352     18.3  392.33   7.79  \n353     17.0  384.46   4.50  \n354     22.0  382.80   8.05  \n355     22.0  376.04   5.57  \n356     20.2  377.73  17.60  \n357     20.2  391.34  13.27  \n358     20.2  395.43  11.48  \n359     20.2  390.74  12.67  \n360     20.2  374.56   7.79  \n361     20.2  350.65  14.19  \n362     20.2  380.79  10.19  \n363     20.2  353.04  14.64  \n364     20.2  354.55   5.29  \n365     20.2  354.70   7.12  \n366     20.2  316.03  14.00  \n367     20.2  131.42  13.33  \n368     20.2  375.52   3.26  \n369     20.2  375.33   3.73  \n370     20.2  392.05   2.96  \n371     20.2  366.15   9.53  \n372     20.2  347.88   8.88  \n373     20.2  396.90  34.77  \n374     20.2  396.90  37.97  \n375     20.2  396.90  13.44  \n376     20.2  363.02  23.24  \n377     20.2  396.90  21.24  \n378     20.2  396.90  23.69  \n379     20.2  393.74  21.78  \n380     20.2  396.90  17.21  \n381     20.2  396.90  21.08  \n382     20.2  396.90  23.60  \n383     20.2  396.90  24.56  \n384     20.2  285.83  30.63  \n385     20.2  396.90  30.81  \n386     20.2  396.90  28.28  \n387     20.2  396.90  31.99  \n388     20.2  372.92  30.62  \n389     20.2  396.90  20.85  \n390     20.2  394.43  17.11  \n391     20.2  378.38  18.76  \n392     20.2  396.90  25.68  \n393     20.2  396.90  15.17  \n394     20.2  396.90  16.35  \n395     20.2  391.98  17.12  \n396     20.2  396.90  19.37  \n397     20.2  393.10  19.92  \n398     20.2  396.90  30.59  \n399     20.2  338.16  29.97  ",
      "text/html": "<div>\n<style scoped>\n    .dataframe tbody tr th:only-of-type {\n        vertical-align: middle;\n    }\n\n    .dataframe tbody tr th {\n        vertical-align: top;\n    }\n\n    .dataframe thead th {\n        text-align: right;\n    }\n</style>\n<table border=\"1\" class=\"dataframe\">\n  <thead>\n    <tr style=\"text-align: right;\">\n      <th></th>\n      <th>CRIM</th>\n      <th>ZN</th>\n      <th>INDUS</th>\n      <th>CHAS</th>\n      <th>NOX</th>\n      <th>RM</th>\n      <th>AGE</th>\n      <th>DIS</th>\n      <th>RAD</th>\n      <th>TAX</th>\n      <th>PTRATIO</th>\n      <th>B</th>\n      <th>LSTAT</th>\n    </tr>\n  </thead>\n  <tbody>\n    <tr>\n      <th>350</th>\n      <td>0.06211</td>\n      <td>40.0</td>\n      <td>1.25</td>\n      <td>0.0</td>\n      <td>0.429</td>\n      <td>6.490</td>\n      <td>44.4</td>\n      <td>8.7921</td>\n      <td>1.0</td>\n      <td>335.0</td>\n      <td>19.7</td>\n      <td>396.90</td>\n      <td>5.98</td>\n    </tr>\n    <tr>\n      <th>351</th>\n      <td>0.07950</td>\n      <td>60.0</td>\n      <td>1.69</td>\n      <td>0.0</td>\n      <td>0.411</td>\n      <td>6.579</td>\n      <td>35.9</td>\n      <td>10.7103</td>\n      <td>4.0</td>\n      <td>411.0</td>\n      <td>18.3</td>\n      <td>370.78</td>\n      <td>5.49</td>\n    </tr>\n    <tr>\n      <th>352</th>\n      <td>0.07244</td>\n      <td>60.0</td>\n      <td>1.69</td>\n      <td>0.0</td>\n      <td>0.411</td>\n      <td>5.884</td>\n      <td>18.5</td>\n      <td>10.7103</td>\n      <td>4.0</td>\n      <td>411.0</td>\n      <td>18.3</td>\n      <td>392.33</td>\n      <td>7.79</td>\n    </tr>\n    <tr>\n      <th>353</th>\n      <td>0.01709</td>\n      <td>90.0</td>\n      <td>2.02</td>\n      <td>0.0</td>\n      <td>0.410</td>\n      <td>6.728</td>\n      <td>36.1</td>\n      <td>12.1265</td>\n      <td>5.0</td>\n      <td>187.0</td>\n      <td>17.0</td>\n      <td>384.46</td>\n      <td>4.50</td>\n    </tr>\n    <tr>\n      <th>354</th>\n      <td>0.04301</td>\n      <td>80.0</td>\n      <td>1.91</td>\n      <td>0.0</td>\n      <td>0.413</td>\n      <td>5.663</td>\n      <td>21.9</td>\n      <td>10.5857</td>\n      <td>4.0</td>\n      <td>334.0</td>\n      <td>22.0</td>\n      <td>382.80</td>\n      <td>8.05</td>\n    </tr>\n    <tr>\n      <th>355</th>\n      <td>0.10659</td>\n      <td>80.0</td>\n      <td>1.91</td>\n      <td>0.0</td>\n      <td>0.413</td>\n      <td>5.936</td>\n      <td>19.5</td>\n      <td>10.5857</td>\n      <td>4.0</td>\n      <td>334.0</td>\n      <td>22.0</td>\n      <td>376.04</td>\n      <td>5.57</td>\n    </tr>\n    <tr>\n      <th>356</th>\n      <td>8.98296</td>\n      <td>0.0</td>\n      <td>18.10</td>\n      <td>1.0</td>\n      <td>0.770</td>\n      <td>6.212</td>\n      <td>97.4</td>\n      <td>2.1222</td>\n      <td>24.0</td>\n      <td>666.0</td>\n      <td>20.2</td>\n      <td>377.73</td>\n      <td>17.60</td>\n    </tr>\n    <tr>\n      <th>357</th>\n      <td>3.84970</td>\n      <td>0.0</td>\n      <td>18.10</td>\n      <td>1.0</td>\n      <td>0.770</td>\n      <td>6.395</td>\n      <td>91.0</td>\n      <td>2.5052</td>\n      <td>24.0</td>\n      <td>666.0</td>\n      <td>20.2</td>\n      <td>391.34</td>\n      <td>13.27</td>\n    </tr>\n    <tr>\n      <th>358</th>\n      <td>5.20177</td>\n      <td>0.0</td>\n      <td>18.10</td>\n      <td>1.0</td>\n      <td>0.770</td>\n      <td>6.127</td>\n      <td>83.4</td>\n      <td>2.7227</td>\n      <td>24.0</td>\n      <td>666.0</td>\n      <td>20.2</td>\n      <td>395.43</td>\n      <td>11.48</td>\n    </tr>\n    <tr>\n      <th>359</th>\n      <td>4.26131</td>\n      <td>0.0</td>\n      <td>18.10</td>\n      <td>0.0</td>\n      <td>0.770</td>\n      <td>6.112</td>\n      <td>81.3</td>\n      <td>2.5091</td>\n      <td>24.0</td>\n      <td>666.0</td>\n      <td>20.2</td>\n      <td>390.74</td>\n      <td>12.67</td>\n    </tr>\n    <tr>\n      <th>360</th>\n      <td>4.54192</td>\n      <td>0.0</td>\n      <td>18.10</td>\n      <td>0.0</td>\n      <td>0.770</td>\n      <td>6.398</td>\n      <td>88.0</td>\n      <td>2.5182</td>\n      <td>24.0</td>\n      <td>666.0</td>\n      <td>20.2</td>\n      <td>374.56</td>\n      <td>7.79</td>\n    </tr>\n    <tr>\n      <th>361</th>\n      <td>3.83684</td>\n      <td>0.0</td>\n      <td>18.10</td>\n      <td>0.0</td>\n      <td>0.770</td>\n      <td>6.251</td>\n      <td>91.1</td>\n      <td>2.2955</td>\n      <td>24.0</td>\n      <td>666.0</td>\n      <td>20.2</td>\n      <td>350.65</td>\n      <td>14.19</td>\n    </tr>\n    <tr>\n      <th>362</th>\n      <td>3.67822</td>\n      <td>0.0</td>\n      <td>18.10</td>\n      <td>0.0</td>\n      <td>0.770</td>\n      <td>5.362</td>\n      <td>96.2</td>\n      <td>2.1036</td>\n      <td>24.0</td>\n      <td>666.0</td>\n      <td>20.2</td>\n      <td>380.79</td>\n      <td>10.19</td>\n    </tr>\n    <tr>\n      <th>363</th>\n      <td>4.22239</td>\n      <td>0.0</td>\n      <td>18.10</td>\n      <td>1.0</td>\n      <td>0.770</td>\n      <td>5.803</td>\n      <td>89.0</td>\n      <td>1.9047</td>\n      <td>24.0</td>\n      <td>666.0</td>\n      <td>20.2</td>\n      <td>353.04</td>\n      <td>14.64</td>\n    </tr>\n    <tr>\n      <th>364</th>\n      <td>3.47428</td>\n      <td>0.0</td>\n      <td>18.10</td>\n      <td>1.0</td>\n      <td>0.718</td>\n      <td>8.780</td>\n      <td>82.9</td>\n      <td>1.9047</td>\n      <td>24.0</td>\n      <td>666.0</td>\n      <td>20.2</td>\n      <td>354.55</td>\n      <td>5.29</td>\n    </tr>\n    <tr>\n      <th>365</th>\n      <td>4.55587</td>\n      <td>0.0</td>\n      <td>18.10</td>\n      <td>0.0</td>\n      <td>0.718</td>\n      <td>3.561</td>\n      <td>87.9</td>\n      <td>1.6132</td>\n      <td>24.0</td>\n      <td>666.0</td>\n      <td>20.2</td>\n      <td>354.70</td>\n      <td>7.12</td>\n    </tr>\n    <tr>\n      <th>366</th>\n      <td>3.69695</td>\n      <td>0.0</td>\n      <td>18.10</td>\n      <td>0.0</td>\n      <td>0.718</td>\n      <td>4.963</td>\n      <td>91.4</td>\n      <td>1.7523</td>\n      <td>24.0</td>\n      <td>666.0</td>\n      <td>20.2</td>\n      <td>316.03</td>\n      <td>14.00</td>\n    </tr>\n    <tr>\n      <th>367</th>\n      <td>13.52220</td>\n      <td>0.0</td>\n      <td>18.10</td>\n      <td>0.0</td>\n      <td>0.631</td>\n      <td>3.863</td>\n      <td>100.0</td>\n      <td>1.5106</td>\n      <td>24.0</td>\n      <td>666.0</td>\n      <td>20.2</td>\n      <td>131.42</td>\n      <td>13.33</td>\n    </tr>\n    <tr>\n      <th>368</th>\n      <td>4.89822</td>\n      <td>0.0</td>\n      <td>18.10</td>\n      <td>0.0</td>\n      <td>0.631</td>\n      <td>4.970</td>\n      <td>100.0</td>\n      <td>1.3325</td>\n      <td>24.0</td>\n      <td>666.0</td>\n      <td>20.2</td>\n      <td>375.52</td>\n      <td>3.26</td>\n    </tr>\n    <tr>\n      <th>369</th>\n      <td>5.66998</td>\n      <td>0.0</td>\n      <td>18.10</td>\n      <td>1.0</td>\n      <td>0.631</td>\n      <td>6.683</td>\n      <td>96.8</td>\n      <td>1.3567</td>\n      <td>24.0</td>\n      <td>666.0</td>\n      <td>20.2</td>\n      <td>375.33</td>\n      <td>3.73</td>\n    </tr>\n    <tr>\n      <th>370</th>\n      <td>6.53876</td>\n      <td>0.0</td>\n      <td>18.10</td>\n      <td>1.0</td>\n      <td>0.631</td>\n      <td>7.016</td>\n      <td>97.5</td>\n      <td>1.2024</td>\n      <td>24.0</td>\n      <td>666.0</td>\n      <td>20.2</td>\n      <td>392.05</td>\n      <td>2.96</td>\n    </tr>\n    <tr>\n      <th>371</th>\n      <td>9.23230</td>\n      <td>0.0</td>\n      <td>18.10</td>\n      <td>0.0</td>\n      <td>0.631</td>\n      <td>6.216</td>\n      <td>100.0</td>\n      <td>1.1691</td>\n      <td>24.0</td>\n      <td>666.0</td>\n      <td>20.2</td>\n      <td>366.15</td>\n      <td>9.53</td>\n    </tr>\n    <tr>\n      <th>372</th>\n      <td>8.26725</td>\n      <td>0.0</td>\n      <td>18.10</td>\n      <td>1.0</td>\n      <td>0.668</td>\n      <td>5.875</td>\n      <td>89.6</td>\n      <td>1.1296</td>\n      <td>24.0</td>\n      <td>666.0</td>\n      <td>20.2</td>\n      <td>347.88</td>\n      <td>8.88</td>\n    </tr>\n    <tr>\n      <th>373</th>\n      <td>11.10810</td>\n      <td>0.0</td>\n      <td>18.10</td>\n      <td>0.0</td>\n      <td>0.668</td>\n      <td>4.906</td>\n      <td>100.0</td>\n      <td>1.1742</td>\n      <td>24.0</td>\n      <td>666.0</td>\n      <td>20.2</td>\n      <td>396.90</td>\n      <td>34.77</td>\n    </tr>\n    <tr>\n      <th>374</th>\n      <td>18.49820</td>\n      <td>0.0</td>\n      <td>18.10</td>\n      <td>0.0</td>\n      <td>0.668</td>\n      <td>4.138</td>\n      <td>100.0</td>\n      <td>1.1370</td>\n      <td>24.0</td>\n      <td>666.0</td>\n      <td>20.2</td>\n      <td>396.90</td>\n      <td>37.97</td>\n    </tr>\n    <tr>\n      <th>375</th>\n      <td>19.60910</td>\n      <td>0.0</td>\n      <td>18.10</td>\n      <td>0.0</td>\n      <td>0.671</td>\n      <td>7.313</td>\n      <td>97.9</td>\n      <td>1.3163</td>\n      <td>24.0</td>\n      <td>666.0</td>\n      <td>20.2</td>\n      <td>396.90</td>\n      <td>13.44</td>\n    </tr>\n    <tr>\n      <th>376</th>\n      <td>15.28800</td>\n      <td>0.0</td>\n      <td>18.10</td>\n      <td>0.0</td>\n      <td>0.671</td>\n      <td>6.649</td>\n      <td>93.3</td>\n      <td>1.3449</td>\n      <td>24.0</td>\n      <td>666.0</td>\n      <td>20.2</td>\n      <td>363.02</td>\n      <td>23.24</td>\n    </tr>\n    <tr>\n      <th>377</th>\n      <td>9.82349</td>\n      <td>0.0</td>\n      <td>18.10</td>\n      <td>0.0</td>\n      <td>0.671</td>\n      <td>6.794</td>\n      <td>98.8</td>\n      <td>1.3580</td>\n      <td>24.0</td>\n      <td>666.0</td>\n      <td>20.2</td>\n      <td>396.90</td>\n      <td>21.24</td>\n    </tr>\n    <tr>\n      <th>378</th>\n      <td>23.64820</td>\n      <td>0.0</td>\n      <td>18.10</td>\n      <td>0.0</td>\n      <td>0.671</td>\n      <td>6.380</td>\n      <td>96.2</td>\n      <td>1.3861</td>\n      <td>24.0</td>\n      <td>666.0</td>\n      <td>20.2</td>\n      <td>396.90</td>\n      <td>23.69</td>\n    </tr>\n    <tr>\n      <th>379</th>\n      <td>17.86670</td>\n      <td>0.0</td>\n      <td>18.10</td>\n      <td>0.0</td>\n      <td>0.671</td>\n      <td>6.223</td>\n      <td>100.0</td>\n      <td>1.3861</td>\n      <td>24.0</td>\n      <td>666.0</td>\n      <td>20.2</td>\n      <td>393.74</td>\n      <td>21.78</td>\n    </tr>\n    <tr>\n      <th>380</th>\n      <td>88.97620</td>\n      <td>0.0</td>\n      <td>18.10</td>\n      <td>0.0</td>\n      <td>0.671</td>\n      <td>6.968</td>\n      <td>91.9</td>\n      <td>1.4165</td>\n      <td>24.0</td>\n      <td>666.0</td>\n      <td>20.2</td>\n      <td>396.90</td>\n      <td>17.21</td>\n    </tr>\n    <tr>\n      <th>381</th>\n      <td>15.87440</td>\n      <td>0.0</td>\n      <td>18.10</td>\n      <td>0.0</td>\n      <td>0.671</td>\n      <td>6.545</td>\n      <td>99.1</td>\n      <td>1.5192</td>\n      <td>24.0</td>\n      <td>666.0</td>\n      <td>20.2</td>\n      <td>396.90</td>\n      <td>21.08</td>\n    </tr>\n    <tr>\n      <th>382</th>\n      <td>9.18702</td>\n      <td>0.0</td>\n      <td>18.10</td>\n      <td>0.0</td>\n      <td>0.700</td>\n      <td>5.536</td>\n      <td>100.0</td>\n      <td>1.5804</td>\n      <td>24.0</td>\n      <td>666.0</td>\n      <td>20.2</td>\n      <td>396.90</td>\n      <td>23.60</td>\n    </tr>\n    <tr>\n      <th>383</th>\n      <td>7.99248</td>\n      <td>0.0</td>\n      <td>18.10</td>\n      <td>0.0</td>\n      <td>0.700</td>\n      <td>5.520</td>\n      <td>100.0</td>\n      <td>1.5331</td>\n      <td>24.0</td>\n      <td>666.0</td>\n      <td>20.2</td>\n      <td>396.90</td>\n      <td>24.56</td>\n    </tr>\n    <tr>\n      <th>384</th>\n      <td>20.08490</td>\n      <td>0.0</td>\n      <td>18.10</td>\n      <td>0.0</td>\n      <td>0.700</td>\n      <td>4.368</td>\n      <td>91.2</td>\n      <td>1.4395</td>\n      <td>24.0</td>\n      <td>666.0</td>\n      <td>20.2</td>\n      <td>285.83</td>\n      <td>30.63</td>\n    </tr>\n    <tr>\n      <th>385</th>\n      <td>16.81180</td>\n      <td>0.0</td>\n      <td>18.10</td>\n      <td>0.0</td>\n      <td>0.700</td>\n      <td>5.277</td>\n      <td>98.1</td>\n      <td>1.4261</td>\n      <td>24.0</td>\n      <td>666.0</td>\n      <td>20.2</td>\n      <td>396.90</td>\n      <td>30.81</td>\n    </tr>\n    <tr>\n      <th>386</th>\n      <td>24.39380</td>\n      <td>0.0</td>\n      <td>18.10</td>\n      <td>0.0</td>\n      <td>0.700</td>\n      <td>4.652</td>\n      <td>100.0</td>\n      <td>1.4672</td>\n      <td>24.0</td>\n      <td>666.0</td>\n      <td>20.2</td>\n      <td>396.90</td>\n      <td>28.28</td>\n    </tr>\n    <tr>\n      <th>387</th>\n      <td>22.59710</td>\n      <td>0.0</td>\n      <td>18.10</td>\n      <td>0.0</td>\n      <td>0.700</td>\n      <td>5.000</td>\n      <td>89.5</td>\n      <td>1.5184</td>\n      <td>24.0</td>\n      <td>666.0</td>\n      <td>20.2</td>\n      <td>396.90</td>\n      <td>31.99</td>\n    </tr>\n    <tr>\n      <th>388</th>\n      <td>14.33370</td>\n      <td>0.0</td>\n      <td>18.10</td>\n      <td>0.0</td>\n      <td>0.700</td>\n      <td>4.880</td>\n      <td>100.0</td>\n      <td>1.5895</td>\n      <td>24.0</td>\n      <td>666.0</td>\n      <td>20.2</td>\n      <td>372.92</td>\n      <td>30.62</td>\n    </tr>\n    <tr>\n      <th>389</th>\n      <td>8.15174</td>\n      <td>0.0</td>\n      <td>18.10</td>\n      <td>0.0</td>\n      <td>0.700</td>\n      <td>5.390</td>\n      <td>98.9</td>\n      <td>1.7281</td>\n      <td>24.0</td>\n      <td>666.0</td>\n      <td>20.2</td>\n      <td>396.90</td>\n      <td>20.85</td>\n    </tr>\n    <tr>\n      <th>390</th>\n      <td>6.96215</td>\n      <td>0.0</td>\n      <td>18.10</td>\n      <td>0.0</td>\n      <td>0.700</td>\n      <td>5.713</td>\n      <td>97.0</td>\n      <td>1.9265</td>\n      <td>24.0</td>\n      <td>666.0</td>\n      <td>20.2</td>\n      <td>394.43</td>\n      <td>17.11</td>\n    </tr>\n    <tr>\n      <th>391</th>\n      <td>5.29305</td>\n      <td>0.0</td>\n      <td>18.10</td>\n      <td>0.0</td>\n      <td>0.700</td>\n      <td>6.051</td>\n      <td>82.5</td>\n      <td>2.1678</td>\n      <td>24.0</td>\n      <td>666.0</td>\n      <td>20.2</td>\n      <td>378.38</td>\n      <td>18.76</td>\n    </tr>\n    <tr>\n      <th>392</th>\n      <td>11.57790</td>\n      <td>0.0</td>\n      <td>18.10</td>\n      <td>0.0</td>\n      <td>0.700</td>\n      <td>5.036</td>\n      <td>97.0</td>\n      <td>1.7700</td>\n      <td>24.0</td>\n      <td>666.0</td>\n      <td>20.2</td>\n      <td>396.90</td>\n      <td>25.68</td>\n    </tr>\n    <tr>\n      <th>393</th>\n      <td>8.64476</td>\n      <td>0.0</td>\n      <td>18.10</td>\n      <td>0.0</td>\n      <td>0.693</td>\n      <td>6.193</td>\n      <td>92.6</td>\n      <td>1.7912</td>\n      <td>24.0</td>\n      <td>666.0</td>\n      <td>20.2</td>\n      <td>396.90</td>\n      <td>15.17</td>\n    </tr>\n    <tr>\n      <th>394</th>\n      <td>13.35980</td>\n      <td>0.0</td>\n      <td>18.10</td>\n      <td>0.0</td>\n      <td>0.693</td>\n      <td>5.887</td>\n      <td>94.7</td>\n      <td>1.7821</td>\n      <td>24.0</td>\n      <td>666.0</td>\n      <td>20.2</td>\n      <td>396.90</td>\n      <td>16.35</td>\n    </tr>\n    <tr>\n      <th>395</th>\n      <td>8.71675</td>\n      <td>0.0</td>\n      <td>18.10</td>\n      <td>0.0</td>\n      <td>0.693</td>\n      <td>6.471</td>\n      <td>98.8</td>\n      <td>1.7257</td>\n      <td>24.0</td>\n      <td>666.0</td>\n      <td>20.2</td>\n      <td>391.98</td>\n      <td>17.12</td>\n    </tr>\n    <tr>\n      <th>396</th>\n      <td>5.87205</td>\n      <td>0.0</td>\n      <td>18.10</td>\n      <td>0.0</td>\n      <td>0.693</td>\n      <td>6.405</td>\n      <td>96.0</td>\n      <td>1.6768</td>\n      <td>24.0</td>\n      <td>666.0</td>\n      <td>20.2</td>\n      <td>396.90</td>\n      <td>19.37</td>\n    </tr>\n    <tr>\n      <th>397</th>\n      <td>7.67202</td>\n      <td>0.0</td>\n      <td>18.10</td>\n      <td>0.0</td>\n      <td>0.693</td>\n      <td>5.747</td>\n      <td>98.9</td>\n      <td>1.6334</td>\n      <td>24.0</td>\n      <td>666.0</td>\n      <td>20.2</td>\n      <td>393.10</td>\n      <td>19.92</td>\n    </tr>\n    <tr>\n      <th>398</th>\n      <td>38.35180</td>\n      <td>0.0</td>\n      <td>18.10</td>\n      <td>0.0</td>\n      <td>0.693</td>\n      <td>5.453</td>\n      <td>100.0</td>\n      <td>1.4896</td>\n      <td>24.0</td>\n      <td>666.0</td>\n      <td>20.2</td>\n      <td>396.90</td>\n      <td>30.59</td>\n    </tr>\n    <tr>\n      <th>399</th>\n      <td>9.91655</td>\n      <td>0.0</td>\n      <td>18.10</td>\n      <td>0.0</td>\n      <td>0.693</td>\n      <td>5.852</td>\n      <td>77.8</td>\n      <td>1.5004</td>\n      <td>24.0</td>\n      <td>666.0</td>\n      <td>20.2</td>\n      <td>338.16</td>\n      <td>29.97</td>\n    </tr>\n  </tbody>\n</table>\n</div>"
     },
     "metadata": {},
     "execution_count": 23
    }
   ],
   "source": [
    "df3[350:400]"
   ]
  },
  {
   "cell_type": "code",
   "execution_count": 24,
   "metadata": {},
   "outputs": [],
   "source": [
    "df3.loc[(df3['RAD'] >= 1) & (df3['RAD'] <= 4),'RAD'] = 1 "
   ]
  },
  {
   "cell_type": "code",
   "execution_count": 25,
   "metadata": {},
   "outputs": [],
   "source": [
    "df3.loc[(df3['RAD'] >= 5) & (df3['RAD'] <= 8),'RAD'] = 2 \n"
   ]
  },
  {
   "cell_type": "code",
   "execution_count": 26,
   "metadata": {},
   "outputs": [],
   "source": [
    "df3.loc[(df3['RAD'] > 8),'RAD'] = 3"
   ]
  },
  {
   "cell_type": "code",
   "execution_count": 27,
   "metadata": {},
   "outputs": [],
   "source": [
    "#Exercise4"
   ]
  },
  {
   "cell_type": "code",
   "execution_count": 28,
   "metadata": {},
   "outputs": [],
   "source": [
    "df4 = df3.copy()"
   ]
  },
  {
   "cell_type": "code",
   "execution_count": 29,
   "metadata": {},
   "outputs": [
    {
     "output_type": "execute_result",
     "data": {
      "text/plain": "        CRIM    ZN  INDUS  CHAS    NOX     RM   AGE     DIS  RAD    TAX  \\\n0    0.00632  18.0   2.31   0.0  0.538  6.575  65.2  4.0900  1.0  296.0   \n1    0.02731   0.0   7.07   0.0  0.469  6.421  78.9  4.9671  1.0  242.0   \n2    0.02729   0.0   7.07   0.0  0.469  7.185  61.1  4.9671  1.0  242.0   \n3    0.03237   0.0   2.18   0.0  0.458  6.998  45.8  6.0622  1.0  222.0   \n4    0.06905   0.0   2.18   0.0  0.458  7.147  54.2  6.0622  1.0  222.0   \n..       ...   ...    ...   ...    ...    ...   ...     ...  ...    ...   \n501  0.06263   0.0  11.93   0.0  0.573  6.593  69.1  2.4786  1.0  273.0   \n502  0.04527   0.0  11.93   0.0  0.573  6.120  76.7  2.2875  1.0  273.0   \n503  0.06076   0.0  11.93   0.0  0.573  6.976  91.0  2.1675  1.0  273.0   \n504  0.10959   0.0  11.93   0.0  0.573  6.794  89.3  2.3889  1.0  273.0   \n505  0.04741   0.0  11.93   0.0  0.573  6.030  80.8  2.5050  1.0  273.0   \n\n     PTRATIO       B  LSTAT  \n0       15.3  396.90   4.98  \n1       17.8  396.90   9.14  \n2       17.8  392.83   4.03  \n3       18.7  394.63   2.94  \n4       18.7  396.90   5.33  \n..       ...     ...    ...  \n501     21.0  391.99   9.67  \n502     21.0  396.90   9.08  \n503     21.0  396.90   5.64  \n504     21.0  393.45   6.48  \n505     21.0  396.90   7.88  \n\n[506 rows x 13 columns]",
      "text/html": "<div>\n<style scoped>\n    .dataframe tbody tr th:only-of-type {\n        vertical-align: middle;\n    }\n\n    .dataframe tbody tr th {\n        vertical-align: top;\n    }\n\n    .dataframe thead th {\n        text-align: right;\n    }\n</style>\n<table border=\"1\" class=\"dataframe\">\n  <thead>\n    <tr style=\"text-align: right;\">\n      <th></th>\n      <th>CRIM</th>\n      <th>ZN</th>\n      <th>INDUS</th>\n      <th>CHAS</th>\n      <th>NOX</th>\n      <th>RM</th>\n      <th>AGE</th>\n      <th>DIS</th>\n      <th>RAD</th>\n      <th>TAX</th>\n      <th>PTRATIO</th>\n      <th>B</th>\n      <th>LSTAT</th>\n    </tr>\n  </thead>\n  <tbody>\n    <tr>\n      <th>0</th>\n      <td>0.00632</td>\n      <td>18.0</td>\n      <td>2.31</td>\n      <td>0.0</td>\n      <td>0.538</td>\n      <td>6.575</td>\n      <td>65.2</td>\n      <td>4.0900</td>\n      <td>1.0</td>\n      <td>296.0</td>\n      <td>15.3</td>\n      <td>396.90</td>\n      <td>4.98</td>\n    </tr>\n    <tr>\n      <th>1</th>\n      <td>0.02731</td>\n      <td>0.0</td>\n      <td>7.07</td>\n      <td>0.0</td>\n      <td>0.469</td>\n      <td>6.421</td>\n      <td>78.9</td>\n      <td>4.9671</td>\n      <td>1.0</td>\n      <td>242.0</td>\n      <td>17.8</td>\n      <td>396.90</td>\n      <td>9.14</td>\n    </tr>\n    <tr>\n      <th>2</th>\n      <td>0.02729</td>\n      <td>0.0</td>\n      <td>7.07</td>\n      <td>0.0</td>\n      <td>0.469</td>\n      <td>7.185</td>\n      <td>61.1</td>\n      <td>4.9671</td>\n      <td>1.0</td>\n      <td>242.0</td>\n      <td>17.8</td>\n      <td>392.83</td>\n      <td>4.03</td>\n    </tr>\n    <tr>\n      <th>3</th>\n      <td>0.03237</td>\n      <td>0.0</td>\n      <td>2.18</td>\n      <td>0.0</td>\n      <td>0.458</td>\n      <td>6.998</td>\n      <td>45.8</td>\n      <td>6.0622</td>\n      <td>1.0</td>\n      <td>222.0</td>\n      <td>18.7</td>\n      <td>394.63</td>\n      <td>2.94</td>\n    </tr>\n    <tr>\n      <th>4</th>\n      <td>0.06905</td>\n      <td>0.0</td>\n      <td>2.18</td>\n      <td>0.0</td>\n      <td>0.458</td>\n      <td>7.147</td>\n      <td>54.2</td>\n      <td>6.0622</td>\n      <td>1.0</td>\n      <td>222.0</td>\n      <td>18.7</td>\n      <td>396.90</td>\n      <td>5.33</td>\n    </tr>\n    <tr>\n      <th>...</th>\n      <td>...</td>\n      <td>...</td>\n      <td>...</td>\n      <td>...</td>\n      <td>...</td>\n      <td>...</td>\n      <td>...</td>\n      <td>...</td>\n      <td>...</td>\n      <td>...</td>\n      <td>...</td>\n      <td>...</td>\n      <td>...</td>\n    </tr>\n    <tr>\n      <th>501</th>\n      <td>0.06263</td>\n      <td>0.0</td>\n      <td>11.93</td>\n      <td>0.0</td>\n      <td>0.573</td>\n      <td>6.593</td>\n      <td>69.1</td>\n      <td>2.4786</td>\n      <td>1.0</td>\n      <td>273.0</td>\n      <td>21.0</td>\n      <td>391.99</td>\n      <td>9.67</td>\n    </tr>\n    <tr>\n      <th>502</th>\n      <td>0.04527</td>\n      <td>0.0</td>\n      <td>11.93</td>\n      <td>0.0</td>\n      <td>0.573</td>\n      <td>6.120</td>\n      <td>76.7</td>\n      <td>2.2875</td>\n      <td>1.0</td>\n      <td>273.0</td>\n      <td>21.0</td>\n      <td>396.90</td>\n      <td>9.08</td>\n    </tr>\n    <tr>\n      <th>503</th>\n      <td>0.06076</td>\n      <td>0.0</td>\n      <td>11.93</td>\n      <td>0.0</td>\n      <td>0.573</td>\n      <td>6.976</td>\n      <td>91.0</td>\n      <td>2.1675</td>\n      <td>1.0</td>\n      <td>273.0</td>\n      <td>21.0</td>\n      <td>396.90</td>\n      <td>5.64</td>\n    </tr>\n    <tr>\n      <th>504</th>\n      <td>0.10959</td>\n      <td>0.0</td>\n      <td>11.93</td>\n      <td>0.0</td>\n      <td>0.573</td>\n      <td>6.794</td>\n      <td>89.3</td>\n      <td>2.3889</td>\n      <td>1.0</td>\n      <td>273.0</td>\n      <td>21.0</td>\n      <td>393.45</td>\n      <td>6.48</td>\n    </tr>\n    <tr>\n      <th>505</th>\n      <td>0.04741</td>\n      <td>0.0</td>\n      <td>11.93</td>\n      <td>0.0</td>\n      <td>0.573</td>\n      <td>6.030</td>\n      <td>80.8</td>\n      <td>2.5050</td>\n      <td>1.0</td>\n      <td>273.0</td>\n      <td>21.0</td>\n      <td>396.90</td>\n      <td>7.88</td>\n    </tr>\n  </tbody>\n</table>\n<p>506 rows × 13 columns</p>\n</div>"
     },
     "metadata": {},
     "execution_count": 29
    }
   ],
   "source": [
    "df4"
   ]
  },
  {
   "cell_type": "code",
   "execution_count": 30,
   "metadata": {},
   "outputs": [
    {
     "output_type": "execute_result",
     "data": {
      "text/plain": "   RAD       CRIM         ZN      INDUS      CHAS       NOX        RM  \\\n0  1.0   0.259107  18.390625   8.763073  0.057292  0.487303  6.309031   \n1  2.0   0.519055  12.192308   8.590659  0.087912  0.540410  6.449269   \n2  3.0  12.759291   0.000000  18.100000  0.060606  0.672417  6.022152   \n\n         AGE       DIS         TAX    PTRATIO           B      LSTAT  \n0  57.403125  4.698341  304.135417  18.550521  385.784427  10.806146  \n1  64.962637  4.099586  331.109890  17.090110  375.707033  10.287857  \n2  89.805303  2.061254  666.000000  20.200000  288.089167  18.600606  ",
      "text/html": "<div>\n<style scoped>\n    .dataframe tbody tr th:only-of-type {\n        vertical-align: middle;\n    }\n\n    .dataframe tbody tr th {\n        vertical-align: top;\n    }\n\n    .dataframe thead th {\n        text-align: right;\n    }\n</style>\n<table border=\"1\" class=\"dataframe\">\n  <thead>\n    <tr style=\"text-align: right;\">\n      <th></th>\n      <th>RAD</th>\n      <th>CRIM</th>\n      <th>ZN</th>\n      <th>INDUS</th>\n      <th>CHAS</th>\n      <th>NOX</th>\n      <th>RM</th>\n      <th>AGE</th>\n      <th>DIS</th>\n      <th>TAX</th>\n      <th>PTRATIO</th>\n      <th>B</th>\n      <th>LSTAT</th>\n    </tr>\n  </thead>\n  <tbody>\n    <tr>\n      <th>0</th>\n      <td>1.0</td>\n      <td>0.259107</td>\n      <td>18.390625</td>\n      <td>8.763073</td>\n      <td>0.057292</td>\n      <td>0.487303</td>\n      <td>6.309031</td>\n      <td>57.403125</td>\n      <td>4.698341</td>\n      <td>304.135417</td>\n      <td>18.550521</td>\n      <td>385.784427</td>\n      <td>10.806146</td>\n    </tr>\n    <tr>\n      <th>1</th>\n      <td>2.0</td>\n      <td>0.519055</td>\n      <td>12.192308</td>\n      <td>8.590659</td>\n      <td>0.087912</td>\n      <td>0.540410</td>\n      <td>6.449269</td>\n      <td>64.962637</td>\n      <td>4.099586</td>\n      <td>331.109890</td>\n      <td>17.090110</td>\n      <td>375.707033</td>\n      <td>10.287857</td>\n    </tr>\n    <tr>\n      <th>2</th>\n      <td>3.0</td>\n      <td>12.759291</td>\n      <td>0.000000</td>\n      <td>18.100000</td>\n      <td>0.060606</td>\n      <td>0.672417</td>\n      <td>6.022152</td>\n      <td>89.805303</td>\n      <td>2.061254</td>\n      <td>666.000000</td>\n      <td>20.200000</td>\n      <td>288.089167</td>\n      <td>18.600606</td>\n    </tr>\n  </tbody>\n</table>\n</div>"
     },
     "metadata": {},
     "execution_count": 30
    }
   ],
   "source": [
    "df4.groupby(['RAD'],as_index=False).mean()"
   ]
  },
  {
   "cell_type": "code",
   "execution_count": 31,
   "metadata": {},
   "outputs": [],
   "source": [
    "#Exercise5"
   ]
  },
  {
   "cell_type": "code",
   "execution_count": 32,
   "metadata": {},
   "outputs": [],
   "source": [
    "df5 = df3.copy()"
   ]
  },
  {
   "cell_type": "code",
   "execution_count": 33,
   "metadata": {},
   "outputs": [
    {
     "output_type": "execute_result",
     "data": {
      "text/plain": "        CRIM    ZN  INDUS  CHAS    NOX     RM   AGE     DIS  RAD    TAX  \\\n0    0.00632  18.0   2.31   0.0  0.538  6.575  65.2  4.0900  1.0  296.0   \n1    0.02731   0.0   7.07   0.0  0.469  6.421  78.9  4.9671  1.0  242.0   \n2    0.02729   0.0   7.07   0.0  0.469  7.185  61.1  4.9671  1.0  242.0   \n3    0.03237   0.0   2.18   0.0  0.458  6.998  45.8  6.0622  1.0  222.0   \n4    0.06905   0.0   2.18   0.0  0.458  7.147  54.2  6.0622  1.0  222.0   \n..       ...   ...    ...   ...    ...    ...   ...     ...  ...    ...   \n501  0.06263   0.0  11.93   0.0  0.573  6.593  69.1  2.4786  1.0  273.0   \n502  0.04527   0.0  11.93   0.0  0.573  6.120  76.7  2.2875  1.0  273.0   \n503  0.06076   0.0  11.93   0.0  0.573  6.976  91.0  2.1675  1.0  273.0   \n504  0.10959   0.0  11.93   0.0  0.573  6.794  89.3  2.3889  1.0  273.0   \n505  0.04741   0.0  11.93   0.0  0.573  6.030  80.8  2.5050  1.0  273.0   \n\n     PTRATIO       B  LSTAT  \n0       15.3  396.90   4.98  \n1       17.8  396.90   9.14  \n2       17.8  392.83   4.03  \n3       18.7  394.63   2.94  \n4       18.7  396.90   5.33  \n..       ...     ...    ...  \n501     21.0  391.99   9.67  \n502     21.0  396.90   9.08  \n503     21.0  396.90   5.64  \n504     21.0  393.45   6.48  \n505     21.0  396.90   7.88  \n\n[506 rows x 13 columns]",
      "text/html": "<div>\n<style scoped>\n    .dataframe tbody tr th:only-of-type {\n        vertical-align: middle;\n    }\n\n    .dataframe tbody tr th {\n        vertical-align: top;\n    }\n\n    .dataframe thead th {\n        text-align: right;\n    }\n</style>\n<table border=\"1\" class=\"dataframe\">\n  <thead>\n    <tr style=\"text-align: right;\">\n      <th></th>\n      <th>CRIM</th>\n      <th>ZN</th>\n      <th>INDUS</th>\n      <th>CHAS</th>\n      <th>NOX</th>\n      <th>RM</th>\n      <th>AGE</th>\n      <th>DIS</th>\n      <th>RAD</th>\n      <th>TAX</th>\n      <th>PTRATIO</th>\n      <th>B</th>\n      <th>LSTAT</th>\n    </tr>\n  </thead>\n  <tbody>\n    <tr>\n      <th>0</th>\n      <td>0.00632</td>\n      <td>18.0</td>\n      <td>2.31</td>\n      <td>0.0</td>\n      <td>0.538</td>\n      <td>6.575</td>\n      <td>65.2</td>\n      <td>4.0900</td>\n      <td>1.0</td>\n      <td>296.0</td>\n      <td>15.3</td>\n      <td>396.90</td>\n      <td>4.98</td>\n    </tr>\n    <tr>\n      <th>1</th>\n      <td>0.02731</td>\n      <td>0.0</td>\n      <td>7.07</td>\n      <td>0.0</td>\n      <td>0.469</td>\n      <td>6.421</td>\n      <td>78.9</td>\n      <td>4.9671</td>\n      <td>1.0</td>\n      <td>242.0</td>\n      <td>17.8</td>\n      <td>396.90</td>\n      <td>9.14</td>\n    </tr>\n    <tr>\n      <th>2</th>\n      <td>0.02729</td>\n      <td>0.0</td>\n      <td>7.07</td>\n      <td>0.0</td>\n      <td>0.469</td>\n      <td>7.185</td>\n      <td>61.1</td>\n      <td>4.9671</td>\n      <td>1.0</td>\n      <td>242.0</td>\n      <td>17.8</td>\n      <td>392.83</td>\n      <td>4.03</td>\n    </tr>\n    <tr>\n      <th>3</th>\n      <td>0.03237</td>\n      <td>0.0</td>\n      <td>2.18</td>\n      <td>0.0</td>\n      <td>0.458</td>\n      <td>6.998</td>\n      <td>45.8</td>\n      <td>6.0622</td>\n      <td>1.0</td>\n      <td>222.0</td>\n      <td>18.7</td>\n      <td>394.63</td>\n      <td>2.94</td>\n    </tr>\n    <tr>\n      <th>4</th>\n      <td>0.06905</td>\n      <td>0.0</td>\n      <td>2.18</td>\n      <td>0.0</td>\n      <td>0.458</td>\n      <td>7.147</td>\n      <td>54.2</td>\n      <td>6.0622</td>\n      <td>1.0</td>\n      <td>222.0</td>\n      <td>18.7</td>\n      <td>396.90</td>\n      <td>5.33</td>\n    </tr>\n    <tr>\n      <th>...</th>\n      <td>...</td>\n      <td>...</td>\n      <td>...</td>\n      <td>...</td>\n      <td>...</td>\n      <td>...</td>\n      <td>...</td>\n      <td>...</td>\n      <td>...</td>\n      <td>...</td>\n      <td>...</td>\n      <td>...</td>\n      <td>...</td>\n    </tr>\n    <tr>\n      <th>501</th>\n      <td>0.06263</td>\n      <td>0.0</td>\n      <td>11.93</td>\n      <td>0.0</td>\n      <td>0.573</td>\n      <td>6.593</td>\n      <td>69.1</td>\n      <td>2.4786</td>\n      <td>1.0</td>\n      <td>273.0</td>\n      <td>21.0</td>\n      <td>391.99</td>\n      <td>9.67</td>\n    </tr>\n    <tr>\n      <th>502</th>\n      <td>0.04527</td>\n      <td>0.0</td>\n      <td>11.93</td>\n      <td>0.0</td>\n      <td>0.573</td>\n      <td>6.120</td>\n      <td>76.7</td>\n      <td>2.2875</td>\n      <td>1.0</td>\n      <td>273.0</td>\n      <td>21.0</td>\n      <td>396.90</td>\n      <td>9.08</td>\n    </tr>\n    <tr>\n      <th>503</th>\n      <td>0.06076</td>\n      <td>0.0</td>\n      <td>11.93</td>\n      <td>0.0</td>\n      <td>0.573</td>\n      <td>6.976</td>\n      <td>91.0</td>\n      <td>2.1675</td>\n      <td>1.0</td>\n      <td>273.0</td>\n      <td>21.0</td>\n      <td>396.90</td>\n      <td>5.64</td>\n    </tr>\n    <tr>\n      <th>504</th>\n      <td>0.10959</td>\n      <td>0.0</td>\n      <td>11.93</td>\n      <td>0.0</td>\n      <td>0.573</td>\n      <td>6.794</td>\n      <td>89.3</td>\n      <td>2.3889</td>\n      <td>1.0</td>\n      <td>273.0</td>\n      <td>21.0</td>\n      <td>393.45</td>\n      <td>6.48</td>\n    </tr>\n    <tr>\n      <th>505</th>\n      <td>0.04741</td>\n      <td>0.0</td>\n      <td>11.93</td>\n      <td>0.0</td>\n      <td>0.573</td>\n      <td>6.030</td>\n      <td>80.8</td>\n      <td>2.5050</td>\n      <td>1.0</td>\n      <td>273.0</td>\n      <td>21.0</td>\n      <td>396.90</td>\n      <td>7.88</td>\n    </tr>\n  </tbody>\n</table>\n<p>506 rows × 13 columns</p>\n</div>"
     },
     "metadata": {},
     "execution_count": 33
    }
   ],
   "source": [
    "df5"
   ]
  },
  {
   "cell_type": "code",
   "execution_count": 34,
   "metadata": {},
   "outputs": [
    {
     "output_type": "execute_result",
     "data": {
      "text/plain": "          CRIM         ZN      INDUS      CHAS       NOX        RM        AGE  \\\nRAD                                                                             \n1.0   0.259107  18.390625   8.763073  0.057292  0.487303  6.309031  57.403125   \n2.0   0.519055  12.192308   8.590659  0.087912  0.540410  6.449269  64.962637   \n3.0  12.759291   0.000000  18.100000  0.060606  0.672417  6.022152  89.805303   \n\n          DIS         TAX    PTRATIO           B      LSTAT  \nRAD                                                          \n1.0  4.698341  304.135417  18.550521  385.784427  10.806146  \n2.0  4.099586  331.109890  17.090110  375.707033  10.287857  \n3.0  2.061254  666.000000  20.200000  288.089167  18.600606  ",
      "text/html": "<div>\n<style scoped>\n    .dataframe tbody tr th:only-of-type {\n        vertical-align: middle;\n    }\n\n    .dataframe tbody tr th {\n        vertical-align: top;\n    }\n\n    .dataframe thead th {\n        text-align: right;\n    }\n</style>\n<table border=\"1\" class=\"dataframe\">\n  <thead>\n    <tr style=\"text-align: right;\">\n      <th></th>\n      <th>CRIM</th>\n      <th>ZN</th>\n      <th>INDUS</th>\n      <th>CHAS</th>\n      <th>NOX</th>\n      <th>RM</th>\n      <th>AGE</th>\n      <th>DIS</th>\n      <th>TAX</th>\n      <th>PTRATIO</th>\n      <th>B</th>\n      <th>LSTAT</th>\n    </tr>\n    <tr>\n      <th>RAD</th>\n      <th></th>\n      <th></th>\n      <th></th>\n      <th></th>\n      <th></th>\n      <th></th>\n      <th></th>\n      <th></th>\n      <th></th>\n      <th></th>\n      <th></th>\n      <th></th>\n    </tr>\n  </thead>\n  <tbody>\n    <tr>\n      <th>1.0</th>\n      <td>0.259107</td>\n      <td>18.390625</td>\n      <td>8.763073</td>\n      <td>0.057292</td>\n      <td>0.487303</td>\n      <td>6.309031</td>\n      <td>57.403125</td>\n      <td>4.698341</td>\n      <td>304.135417</td>\n      <td>18.550521</td>\n      <td>385.784427</td>\n      <td>10.806146</td>\n    </tr>\n    <tr>\n      <th>2.0</th>\n      <td>0.519055</td>\n      <td>12.192308</td>\n      <td>8.590659</td>\n      <td>0.087912</td>\n      <td>0.540410</td>\n      <td>6.449269</td>\n      <td>64.962637</td>\n      <td>4.099586</td>\n      <td>331.109890</td>\n      <td>17.090110</td>\n      <td>375.707033</td>\n      <td>10.287857</td>\n    </tr>\n    <tr>\n      <th>3.0</th>\n      <td>12.759291</td>\n      <td>0.000000</td>\n      <td>18.100000</td>\n      <td>0.060606</td>\n      <td>0.672417</td>\n      <td>6.022152</td>\n      <td>89.805303</td>\n      <td>2.061254</td>\n      <td>666.000000</td>\n      <td>20.200000</td>\n      <td>288.089167</td>\n      <td>18.600606</td>\n    </tr>\n  </tbody>\n</table>\n</div>"
     },
     "metadata": {},
     "execution_count": 34
    }
   ],
   "source": [
    "df5.groupby(['RAD']).mean()"
   ]
  },
  {
   "cell_type": "code",
   "execution_count": 35,
   "metadata": {},
   "outputs": [
    {
     "output_type": "execute_result",
     "data": {
      "text/plain": "          CRIM         ZN     INDUS      CHAS       NOX        RM        AGE  \\\nRAD                                                                            \n1.0   0.379949  30.563230  7.077054  0.233007  0.069265  0.603232  29.020384   \n2.0   0.786160  19.612513  5.532166  0.283948  0.120740  0.735979  27.063137   \n3.0  13.041169   0.000000  0.000000  0.239515  0.061004  0.718449  12.625809   \n\n          DIS        TAX   PTRATIO           B     LSTAT  \nRAD                                                       \n1.0  2.040951  93.724629  1.922667   23.940449  6.224312  \n2.0  2.132643  63.633698  2.252221   50.575289  5.643060  \n3.0  0.617901   0.000000  0.000000  145.860431  6.905296  ",
      "text/html": "<div>\n<style scoped>\n    .dataframe tbody tr th:only-of-type {\n        vertical-align: middle;\n    }\n\n    .dataframe tbody tr th {\n        vertical-align: top;\n    }\n\n    .dataframe thead th {\n        text-align: right;\n    }\n</style>\n<table border=\"1\" class=\"dataframe\">\n  <thead>\n    <tr style=\"text-align: right;\">\n      <th></th>\n      <th>CRIM</th>\n      <th>ZN</th>\n      <th>INDUS</th>\n      <th>CHAS</th>\n      <th>NOX</th>\n      <th>RM</th>\n      <th>AGE</th>\n      <th>DIS</th>\n      <th>TAX</th>\n      <th>PTRATIO</th>\n      <th>B</th>\n      <th>LSTAT</th>\n    </tr>\n    <tr>\n      <th>RAD</th>\n      <th></th>\n      <th></th>\n      <th></th>\n      <th></th>\n      <th></th>\n      <th></th>\n      <th></th>\n      <th></th>\n      <th></th>\n      <th></th>\n      <th></th>\n      <th></th>\n    </tr>\n  </thead>\n  <tbody>\n    <tr>\n      <th>1.0</th>\n      <td>0.379949</td>\n      <td>30.563230</td>\n      <td>7.077054</td>\n      <td>0.233007</td>\n      <td>0.069265</td>\n      <td>0.603232</td>\n      <td>29.020384</td>\n      <td>2.040951</td>\n      <td>93.724629</td>\n      <td>1.922667</td>\n      <td>23.940449</td>\n      <td>6.224312</td>\n    </tr>\n    <tr>\n      <th>2.0</th>\n      <td>0.786160</td>\n      <td>19.612513</td>\n      <td>5.532166</td>\n      <td>0.283948</td>\n      <td>0.120740</td>\n      <td>0.735979</td>\n      <td>27.063137</td>\n      <td>2.132643</td>\n      <td>63.633698</td>\n      <td>2.252221</td>\n      <td>50.575289</td>\n      <td>5.643060</td>\n    </tr>\n    <tr>\n      <th>3.0</th>\n      <td>13.041169</td>\n      <td>0.000000</td>\n      <td>0.000000</td>\n      <td>0.239515</td>\n      <td>0.061004</td>\n      <td>0.718449</td>\n      <td>12.625809</td>\n      <td>0.617901</td>\n      <td>0.000000</td>\n      <td>0.000000</td>\n      <td>145.860431</td>\n      <td>6.905296</td>\n    </tr>\n  </tbody>\n</table>\n</div>"
     },
     "metadata": {},
     "execution_count": 35
    }
   ],
   "source": [
    "df5.groupby(['RAD']).std()"
   ]
  },
  {
   "cell_type": "code",
   "execution_count": 36,
   "metadata": {},
   "outputs": [
    {
     "output_type": "execute_result",
     "data": {
      "text/plain": "        CRIM   ZN  INDUS  CHAS    NOX     RM   AGE     DIS    TAX  PTRATIO  \\\nRAD                                                                          \n1.0  0.00632  0.0   0.46   0.0  0.385  4.973   2.9  1.4394  188.0     12.6   \n2.0  0.01311  0.0   1.22   0.0  0.400  4.903   6.0  1.3216  187.0     13.0   \n3.0  2.37857  0.0  18.10   0.0  0.532  3.561  40.3  1.1296  666.0     20.2   \n\n          B  LSTAT  \nRAD                 \n1.0  232.60   1.98  \n2.0   70.80   1.73  \n3.0    0.32   2.96  ",
      "text/html": "<div>\n<style scoped>\n    .dataframe tbody tr th:only-of-type {\n        vertical-align: middle;\n    }\n\n    .dataframe tbody tr th {\n        vertical-align: top;\n    }\n\n    .dataframe thead th {\n        text-align: right;\n    }\n</style>\n<table border=\"1\" class=\"dataframe\">\n  <thead>\n    <tr style=\"text-align: right;\">\n      <th></th>\n      <th>CRIM</th>\n      <th>ZN</th>\n      <th>INDUS</th>\n      <th>CHAS</th>\n      <th>NOX</th>\n      <th>RM</th>\n      <th>AGE</th>\n      <th>DIS</th>\n      <th>TAX</th>\n      <th>PTRATIO</th>\n      <th>B</th>\n      <th>LSTAT</th>\n    </tr>\n    <tr>\n      <th>RAD</th>\n      <th></th>\n      <th></th>\n      <th></th>\n      <th></th>\n      <th></th>\n      <th></th>\n      <th></th>\n      <th></th>\n      <th></th>\n      <th></th>\n      <th></th>\n      <th></th>\n    </tr>\n  </thead>\n  <tbody>\n    <tr>\n      <th>1.0</th>\n      <td>0.00632</td>\n      <td>0.0</td>\n      <td>0.46</td>\n      <td>0.0</td>\n      <td>0.385</td>\n      <td>4.973</td>\n      <td>2.9</td>\n      <td>1.4394</td>\n      <td>188.0</td>\n      <td>12.6</td>\n      <td>232.60</td>\n      <td>1.98</td>\n    </tr>\n    <tr>\n      <th>2.0</th>\n      <td>0.01311</td>\n      <td>0.0</td>\n      <td>1.22</td>\n      <td>0.0</td>\n      <td>0.400</td>\n      <td>4.903</td>\n      <td>6.0</td>\n      <td>1.3216</td>\n      <td>187.0</td>\n      <td>13.0</td>\n      <td>70.80</td>\n      <td>1.73</td>\n    </tr>\n    <tr>\n      <th>3.0</th>\n      <td>2.37857</td>\n      <td>0.0</td>\n      <td>18.10</td>\n      <td>0.0</td>\n      <td>0.532</td>\n      <td>3.561</td>\n      <td>40.3</td>\n      <td>1.1296</td>\n      <td>666.0</td>\n      <td>20.2</td>\n      <td>0.32</td>\n      <td>2.96</td>\n    </tr>\n  </tbody>\n</table>\n</div>"
     },
     "metadata": {},
     "execution_count": 36
    }
   ],
   "source": [
    "df5.groupby(['RAD']).min()\n"
   ]
  },
  {
   "cell_type": "code",
   "execution_count": 37,
   "metadata": {},
   "outputs": [
    {
     "output_type": "execute_result",
     "data": {
      "text/plain": "         CRIM   ZN  INDUS  CHAS     NOX       RM     AGE       DIS    TAX  \\\nRAD                                                                         \n1.0  0.045107  0.0   3.24   0.0  0.4365  5.89625  32.175  3.390250  247.0   \n2.0  0.087375  0.0   4.93   0.0  0.4530  5.96600  42.300  2.412075  287.0   \n3.0  5.686307  0.0  18.10   0.0  0.6140  5.71300  85.925  1.589250  666.0   \n\n     PTRATIO        B    LSTAT  \nRAD                             \n1.0     17.8  386.825   6.0350  \n2.0     14.9  378.500   6.3075  \n3.0     20.2  167.375  14.1750  ",
      "text/html": "<div>\n<style scoped>\n    .dataframe tbody tr th:only-of-type {\n        vertical-align: middle;\n    }\n\n    .dataframe tbody tr th {\n        vertical-align: top;\n    }\n\n    .dataframe thead th {\n        text-align: right;\n    }\n</style>\n<table border=\"1\" class=\"dataframe\">\n  <thead>\n    <tr style=\"text-align: right;\">\n      <th></th>\n      <th>CRIM</th>\n      <th>ZN</th>\n      <th>INDUS</th>\n      <th>CHAS</th>\n      <th>NOX</th>\n      <th>RM</th>\n      <th>AGE</th>\n      <th>DIS</th>\n      <th>TAX</th>\n      <th>PTRATIO</th>\n      <th>B</th>\n      <th>LSTAT</th>\n    </tr>\n    <tr>\n      <th>RAD</th>\n      <th></th>\n      <th></th>\n      <th></th>\n      <th></th>\n      <th></th>\n      <th></th>\n      <th></th>\n      <th></th>\n      <th></th>\n      <th></th>\n      <th></th>\n      <th></th>\n    </tr>\n  </thead>\n  <tbody>\n    <tr>\n      <th>1.0</th>\n      <td>0.045107</td>\n      <td>0.0</td>\n      <td>3.24</td>\n      <td>0.0</td>\n      <td>0.4365</td>\n      <td>5.89625</td>\n      <td>32.175</td>\n      <td>3.390250</td>\n      <td>247.0</td>\n      <td>17.8</td>\n      <td>386.825</td>\n      <td>6.0350</td>\n    </tr>\n    <tr>\n      <th>2.0</th>\n      <td>0.087375</td>\n      <td>0.0</td>\n      <td>4.93</td>\n      <td>0.0</td>\n      <td>0.4530</td>\n      <td>5.96600</td>\n      <td>42.300</td>\n      <td>2.412075</td>\n      <td>287.0</td>\n      <td>14.9</td>\n      <td>378.500</td>\n      <td>6.3075</td>\n    </tr>\n    <tr>\n      <th>3.0</th>\n      <td>5.686307</td>\n      <td>0.0</td>\n      <td>18.10</td>\n      <td>0.0</td>\n      <td>0.6140</td>\n      <td>5.71300</td>\n      <td>85.925</td>\n      <td>1.589250</td>\n      <td>666.0</td>\n      <td>20.2</td>\n      <td>167.375</td>\n      <td>14.1750</td>\n    </tr>\n  </tbody>\n</table>\n</div>"
     },
     "metadata": {},
     "execution_count": 37
    }
   ],
   "source": [
    "df5.groupby(['RAD']).quantile(q=0.25)"
   ]
  },
  {
   "cell_type": "code",
   "execution_count": 38,
   "metadata": {},
   "outputs": [
    {
     "output_type": "execute_result",
     "data": {
      "text/plain": "         CRIM   ZN   INDUS  CHAS    NOX      RM   AGE      DIS    TAX  \\\nRAD                                                                     \n1.0  0.094515  0.0   6.935   0.0  0.464  6.1625  57.3  4.38305  287.0   \n2.0  0.171525  0.0   6.200   0.0  0.510  6.3135  70.5  3.37255  311.0   \n3.0  9.084990  0.0  18.100   0.0  0.693  6.1760  94.4  1.94340  666.0   \n\n     PTRATIO        B   LSTAT  \nRAD                            \n1.0     18.5  393.700   9.195  \n2.0     17.4  391.045   9.530  \n3.0     20.2  373.740  17.910  ",
      "text/html": "<div>\n<style scoped>\n    .dataframe tbody tr th:only-of-type {\n        vertical-align: middle;\n    }\n\n    .dataframe tbody tr th {\n        vertical-align: top;\n    }\n\n    .dataframe thead th {\n        text-align: right;\n    }\n</style>\n<table border=\"1\" class=\"dataframe\">\n  <thead>\n    <tr style=\"text-align: right;\">\n      <th></th>\n      <th>CRIM</th>\n      <th>ZN</th>\n      <th>INDUS</th>\n      <th>CHAS</th>\n      <th>NOX</th>\n      <th>RM</th>\n      <th>AGE</th>\n      <th>DIS</th>\n      <th>TAX</th>\n      <th>PTRATIO</th>\n      <th>B</th>\n      <th>LSTAT</th>\n    </tr>\n    <tr>\n      <th>RAD</th>\n      <th></th>\n      <th></th>\n      <th></th>\n      <th></th>\n      <th></th>\n      <th></th>\n      <th></th>\n      <th></th>\n      <th></th>\n      <th></th>\n      <th></th>\n      <th></th>\n    </tr>\n  </thead>\n  <tbody>\n    <tr>\n      <th>1.0</th>\n      <td>0.094515</td>\n      <td>0.0</td>\n      <td>6.935</td>\n      <td>0.0</td>\n      <td>0.464</td>\n      <td>6.1625</td>\n      <td>57.3</td>\n      <td>4.38305</td>\n      <td>287.0</td>\n      <td>18.5</td>\n      <td>393.700</td>\n      <td>9.195</td>\n    </tr>\n    <tr>\n      <th>2.0</th>\n      <td>0.171525</td>\n      <td>0.0</td>\n      <td>6.200</td>\n      <td>0.0</td>\n      <td>0.510</td>\n      <td>6.3135</td>\n      <td>70.5</td>\n      <td>3.37255</td>\n      <td>311.0</td>\n      <td>17.4</td>\n      <td>391.045</td>\n      <td>9.530</td>\n    </tr>\n    <tr>\n      <th>3.0</th>\n      <td>9.084990</td>\n      <td>0.0</td>\n      <td>18.100</td>\n      <td>0.0</td>\n      <td>0.693</td>\n      <td>6.1760</td>\n      <td>94.4</td>\n      <td>1.94340</td>\n      <td>666.0</td>\n      <td>20.2</td>\n      <td>373.740</td>\n      <td>17.910</td>\n    </tr>\n  </tbody>\n</table>\n</div>"
     },
     "metadata": {},
     "execution_count": 38
    }
   ],
   "source": [
    "df5.groupby(['RAD']).quantile(q=0.50)\n"
   ]
  },
  {
   "cell_type": "code",
   "execution_count": 39,
   "metadata": {},
   "outputs": [
    {
     "output_type": "execute_result",
     "data": {
      "text/plain": "          CRIM    ZN  INDUS  CHAS    NOX       RM     AGE      DIS    TAX  \\\nRAD                                                                         \n1.0   0.274423  25.0  10.59   0.0  0.538  6.60775  86.550  5.90385  313.5   \n2.0   0.525343  21.5  10.01   0.0  0.585  6.81500  89.850  5.54330  398.0   \n3.0  14.333700   0.0  18.10   0.0  0.713  6.41900  98.825  2.43130  666.0   \n\n     PTRATIO         B   LSTAT  \nRAD                             \n1.0     20.1  396.9000  14.295  \n2.0     19.1  395.5975  12.980  \n3.0     20.2  395.2925  23.045  ",
      "text/html": "<div>\n<style scoped>\n    .dataframe tbody tr th:only-of-type {\n        vertical-align: middle;\n    }\n\n    .dataframe tbody tr th {\n        vertical-align: top;\n    }\n\n    .dataframe thead th {\n        text-align: right;\n    }\n</style>\n<table border=\"1\" class=\"dataframe\">\n  <thead>\n    <tr style=\"text-align: right;\">\n      <th></th>\n      <th>CRIM</th>\n      <th>ZN</th>\n      <th>INDUS</th>\n      <th>CHAS</th>\n      <th>NOX</th>\n      <th>RM</th>\n      <th>AGE</th>\n      <th>DIS</th>\n      <th>TAX</th>\n      <th>PTRATIO</th>\n      <th>B</th>\n      <th>LSTAT</th>\n    </tr>\n    <tr>\n      <th>RAD</th>\n      <th></th>\n      <th></th>\n      <th></th>\n      <th></th>\n      <th></th>\n      <th></th>\n      <th></th>\n      <th></th>\n      <th></th>\n      <th></th>\n      <th></th>\n      <th></th>\n    </tr>\n  </thead>\n  <tbody>\n    <tr>\n      <th>1.0</th>\n      <td>0.274423</td>\n      <td>25.0</td>\n      <td>10.59</td>\n      <td>0.0</td>\n      <td>0.538</td>\n      <td>6.60775</td>\n      <td>86.550</td>\n      <td>5.90385</td>\n      <td>313.5</td>\n      <td>20.1</td>\n      <td>396.9000</td>\n      <td>14.295</td>\n    </tr>\n    <tr>\n      <th>2.0</th>\n      <td>0.525343</td>\n      <td>21.5</td>\n      <td>10.01</td>\n      <td>0.0</td>\n      <td>0.585</td>\n      <td>6.81500</td>\n      <td>89.850</td>\n      <td>5.54330</td>\n      <td>398.0</td>\n      <td>19.1</td>\n      <td>395.5975</td>\n      <td>12.980</td>\n    </tr>\n    <tr>\n      <th>3.0</th>\n      <td>14.333700</td>\n      <td>0.0</td>\n      <td>18.10</td>\n      <td>0.0</td>\n      <td>0.713</td>\n      <td>6.41900</td>\n      <td>98.825</td>\n      <td>2.43130</td>\n      <td>666.0</td>\n      <td>20.2</td>\n      <td>395.2925</td>\n      <td>23.045</td>\n    </tr>\n  </tbody>\n</table>\n</div>"
     },
     "metadata": {},
     "execution_count": 39
    }
   ],
   "source": [
    "df5.groupby(['RAD']).quantile(q=0.75)"
   ]
  },
  {
   "cell_type": "code",
   "execution_count": 40,
   "metadata": {},
   "outputs": [
    {
     "output_type": "execute_result",
     "data": {
      "text/plain": "         CRIM     ZN  INDUS  CHAS    NOX     RM    AGE      DIS    TAX  \\\nRAD                                                                      \n1.0   2.63548   95.0  27.74   1.0  0.624  8.069  100.0  10.7103  711.0   \n2.0   4.09740  100.0  19.58   1.0  0.871  8.725  100.0  12.1265  432.0   \n3.0  88.97620    0.0  18.10   1.0  0.770  8.780  100.0   4.0983  666.0   \n\n     PTRATIO      B  LSTAT  \nRAD                         \n1.0     22.0  396.9  34.41  \n2.0     20.9  396.9  29.93  \n3.0     20.2  396.9  37.97  ",
      "text/html": "<div>\n<style scoped>\n    .dataframe tbody tr th:only-of-type {\n        vertical-align: middle;\n    }\n\n    .dataframe tbody tr th {\n        vertical-align: top;\n    }\n\n    .dataframe thead th {\n        text-align: right;\n    }\n</style>\n<table border=\"1\" class=\"dataframe\">\n  <thead>\n    <tr style=\"text-align: right;\">\n      <th></th>\n      <th>CRIM</th>\n      <th>ZN</th>\n      <th>INDUS</th>\n      <th>CHAS</th>\n      <th>NOX</th>\n      <th>RM</th>\n      <th>AGE</th>\n      <th>DIS</th>\n      <th>TAX</th>\n      <th>PTRATIO</th>\n      <th>B</th>\n      <th>LSTAT</th>\n    </tr>\n    <tr>\n      <th>RAD</th>\n      <th></th>\n      <th></th>\n      <th></th>\n      <th></th>\n      <th></th>\n      <th></th>\n      <th></th>\n      <th></th>\n      <th></th>\n      <th></th>\n      <th></th>\n      <th></th>\n    </tr>\n  </thead>\n  <tbody>\n    <tr>\n      <th>1.0</th>\n      <td>2.63548</td>\n      <td>95.0</td>\n      <td>27.74</td>\n      <td>1.0</td>\n      <td>0.624</td>\n      <td>8.069</td>\n      <td>100.0</td>\n      <td>10.7103</td>\n      <td>711.0</td>\n      <td>22.0</td>\n      <td>396.9</td>\n      <td>34.41</td>\n    </tr>\n    <tr>\n      <th>2.0</th>\n      <td>4.09740</td>\n      <td>100.0</td>\n      <td>19.58</td>\n      <td>1.0</td>\n      <td>0.871</td>\n      <td>8.725</td>\n      <td>100.0</td>\n      <td>12.1265</td>\n      <td>432.0</td>\n      <td>20.9</td>\n      <td>396.9</td>\n      <td>29.93</td>\n    </tr>\n    <tr>\n      <th>3.0</th>\n      <td>88.97620</td>\n      <td>0.0</td>\n      <td>18.10</td>\n      <td>1.0</td>\n      <td>0.770</td>\n      <td>8.780</td>\n      <td>100.0</td>\n      <td>4.0983</td>\n      <td>666.0</td>\n      <td>20.2</td>\n      <td>396.9</td>\n      <td>37.97</td>\n    </tr>\n  </tbody>\n</table>\n</div>"
     },
     "metadata": {},
     "execution_count": 40
    }
   ],
   "source": [
    "df5.groupby(['RAD']).max()\n"
   ]
  },
  {
   "cell_type": "code",
   "execution_count": 41,
   "metadata": {},
   "outputs": [],
   "source": [
    "#Exercise 6"
   ]
  },
  {
   "cell_type": "code",
   "execution_count": 42,
   "metadata": {},
   "outputs": [
    {
     "output_type": "execute_result",
     "data": {
      "text/plain": "   PassengerId  Survived  Pclass  \\\n0            1         0       3   \n1            2         1       1   \n2            3         1       3   \n3            4         1       1   \n4            5         0       3   \n\n                                                Name     Sex   Age  SibSp  \\\n0                            Braund, Mr. Owen Harris    male  22.0      1   \n1  Cumings, Mrs. John Bradley (Florence Briggs Th...  female  38.0      1   \n2                             Heikkinen, Miss. Laina  female  26.0      0   \n3       Futrelle, Mrs. Jacques Heath (Lily May Peel)  female  35.0      1   \n4                           Allen, Mr. William Henry    male  35.0      0   \n\n   Parch            Ticket     Fare Cabin Embarked  \n0      0         A/5 21171   7.2500   NaN        S  \n1      0          PC 17599  71.2833   C85        C  \n2      0  STON/O2. 3101282   7.9250   NaN        S  \n3      0            113803  53.1000  C123        S  \n4      0            373450   8.0500   NaN        S  ",
      "text/html": "<div>\n<style scoped>\n    .dataframe tbody tr th:only-of-type {\n        vertical-align: middle;\n    }\n\n    .dataframe tbody tr th {\n        vertical-align: top;\n    }\n\n    .dataframe thead th {\n        text-align: right;\n    }\n</style>\n<table border=\"1\" class=\"dataframe\">\n  <thead>\n    <tr style=\"text-align: right;\">\n      <th></th>\n      <th>PassengerId</th>\n      <th>Survived</th>\n      <th>Pclass</th>\n      <th>Name</th>\n      <th>Sex</th>\n      <th>Age</th>\n      <th>SibSp</th>\n      <th>Parch</th>\n      <th>Ticket</th>\n      <th>Fare</th>\n      <th>Cabin</th>\n      <th>Embarked</th>\n    </tr>\n  </thead>\n  <tbody>\n    <tr>\n      <th>0</th>\n      <td>1</td>\n      <td>0</td>\n      <td>3</td>\n      <td>Braund, Mr. Owen Harris</td>\n      <td>male</td>\n      <td>22.0</td>\n      <td>1</td>\n      <td>0</td>\n      <td>A/5 21171</td>\n      <td>7.2500</td>\n      <td>NaN</td>\n      <td>S</td>\n    </tr>\n    <tr>\n      <th>1</th>\n      <td>2</td>\n      <td>1</td>\n      <td>1</td>\n      <td>Cumings, Mrs. John Bradley (Florence Briggs Th...</td>\n      <td>female</td>\n      <td>38.0</td>\n      <td>1</td>\n      <td>0</td>\n      <td>PC 17599</td>\n      <td>71.2833</td>\n      <td>C85</td>\n      <td>C</td>\n    </tr>\n    <tr>\n      <th>2</th>\n      <td>3</td>\n      <td>1</td>\n      <td>3</td>\n      <td>Heikkinen, Miss. Laina</td>\n      <td>female</td>\n      <td>26.0</td>\n      <td>0</td>\n      <td>0</td>\n      <td>STON/O2. 3101282</td>\n      <td>7.9250</td>\n      <td>NaN</td>\n      <td>S</td>\n    </tr>\n    <tr>\n      <th>3</th>\n      <td>4</td>\n      <td>1</td>\n      <td>1</td>\n      <td>Futrelle, Mrs. Jacques Heath (Lily May Peel)</td>\n      <td>female</td>\n      <td>35.0</td>\n      <td>1</td>\n      <td>0</td>\n      <td>113803</td>\n      <td>53.1000</td>\n      <td>C123</td>\n      <td>S</td>\n    </tr>\n    <tr>\n      <th>4</th>\n      <td>5</td>\n      <td>0</td>\n      <td>3</td>\n      <td>Allen, Mr. William Henry</td>\n      <td>male</td>\n      <td>35.0</td>\n      <td>0</td>\n      <td>0</td>\n      <td>373450</td>\n      <td>8.0500</td>\n      <td>NaN</td>\n      <td>S</td>\n    </tr>\n  </tbody>\n</table>\n</div>"
     },
     "metadata": {},
     "execution_count": 42
    }
   ],
   "source": [
    "df_titanic = pd.read_csv('titanic.csv')\n",
    "df_titanic.head()"
   ]
  },
  {
   "cell_type": "code",
   "execution_count": 43,
   "metadata": {},
   "outputs": [],
   "source": [
    "df6 = df_titanic.copy()"
   ]
  },
  {
   "cell_type": "code",
   "execution_count": 44,
   "metadata": {},
   "outputs": [],
   "source": [
    "namesplit = df6[\"Name\"].str.split(\",\",expand=True)"
   ]
  },
  {
   "cell_type": "code",
   "execution_count": 45,
   "metadata": {},
   "outputs": [],
   "source": [
    "df6[\"Surname\"]=namesplit[0]"
   ]
  },
  {
   "cell_type": "code",
   "execution_count": 46,
   "metadata": {},
   "outputs": [
    {
     "output_type": "execute_result",
     "data": {
      "text/plain": "     PassengerId  Survived  Pclass  \\\n0              1         0       3   \n1              2         1       1   \n2              3         1       3   \n3              4         1       1   \n4              5         0       3   \n..           ...       ...     ...   \n886          887         0       2   \n887          888         1       1   \n888          889         0       3   \n889          890         1       1   \n890          891         0       3   \n\n                                                  Name     Sex   Age  SibSp  \\\n0                              Braund, Mr. Owen Harris    male  22.0      1   \n1    Cumings, Mrs. John Bradley (Florence Briggs Th...  female  38.0      1   \n2                               Heikkinen, Miss. Laina  female  26.0      0   \n3         Futrelle, Mrs. Jacques Heath (Lily May Peel)  female  35.0      1   \n4                             Allen, Mr. William Henry    male  35.0      0   \n..                                                 ...     ...   ...    ...   \n886                              Montvila, Rev. Juozas    male  27.0      0   \n887                       Graham, Miss. Margaret Edith  female  19.0      0   \n888           Johnston, Miss. Catherine Helen \"Carrie\"  female   NaN      1   \n889                              Behr, Mr. Karl Howell    male  26.0      0   \n890                                Dooley, Mr. Patrick    male  32.0      0   \n\n     Parch            Ticket     Fare Cabin Embarked    Surname  \n0        0         A/5 21171   7.2500   NaN        S     Braund  \n1        0          PC 17599  71.2833   C85        C    Cumings  \n2        0  STON/O2. 3101282   7.9250   NaN        S  Heikkinen  \n3        0            113803  53.1000  C123        S   Futrelle  \n4        0            373450   8.0500   NaN        S      Allen  \n..     ...               ...      ...   ...      ...        ...  \n886      0            211536  13.0000   NaN        S   Montvila  \n887      0            112053  30.0000   B42        S     Graham  \n888      2        W./C. 6607  23.4500   NaN        S   Johnston  \n889      0            111369  30.0000  C148        C       Behr  \n890      0            370376   7.7500   NaN        Q     Dooley  \n\n[891 rows x 13 columns]",
      "text/html": "<div>\n<style scoped>\n    .dataframe tbody tr th:only-of-type {\n        vertical-align: middle;\n    }\n\n    .dataframe tbody tr th {\n        vertical-align: top;\n    }\n\n    .dataframe thead th {\n        text-align: right;\n    }\n</style>\n<table border=\"1\" class=\"dataframe\">\n  <thead>\n    <tr style=\"text-align: right;\">\n      <th></th>\n      <th>PassengerId</th>\n      <th>Survived</th>\n      <th>Pclass</th>\n      <th>Name</th>\n      <th>Sex</th>\n      <th>Age</th>\n      <th>SibSp</th>\n      <th>Parch</th>\n      <th>Ticket</th>\n      <th>Fare</th>\n      <th>Cabin</th>\n      <th>Embarked</th>\n      <th>Surname</th>\n    </tr>\n  </thead>\n  <tbody>\n    <tr>\n      <th>0</th>\n      <td>1</td>\n      <td>0</td>\n      <td>3</td>\n      <td>Braund, Mr. Owen Harris</td>\n      <td>male</td>\n      <td>22.0</td>\n      <td>1</td>\n      <td>0</td>\n      <td>A/5 21171</td>\n      <td>7.2500</td>\n      <td>NaN</td>\n      <td>S</td>\n      <td>Braund</td>\n    </tr>\n    <tr>\n      <th>1</th>\n      <td>2</td>\n      <td>1</td>\n      <td>1</td>\n      <td>Cumings, Mrs. John Bradley (Florence Briggs Th...</td>\n      <td>female</td>\n      <td>38.0</td>\n      <td>1</td>\n      <td>0</td>\n      <td>PC 17599</td>\n      <td>71.2833</td>\n      <td>C85</td>\n      <td>C</td>\n      <td>Cumings</td>\n    </tr>\n    <tr>\n      <th>2</th>\n      <td>3</td>\n      <td>1</td>\n      <td>3</td>\n      <td>Heikkinen, Miss. Laina</td>\n      <td>female</td>\n      <td>26.0</td>\n      <td>0</td>\n      <td>0</td>\n      <td>STON/O2. 3101282</td>\n      <td>7.9250</td>\n      <td>NaN</td>\n      <td>S</td>\n      <td>Heikkinen</td>\n    </tr>\n    <tr>\n      <th>3</th>\n      <td>4</td>\n      <td>1</td>\n      <td>1</td>\n      <td>Futrelle, Mrs. Jacques Heath (Lily May Peel)</td>\n      <td>female</td>\n      <td>35.0</td>\n      <td>1</td>\n      <td>0</td>\n      <td>113803</td>\n      <td>53.1000</td>\n      <td>C123</td>\n      <td>S</td>\n      <td>Futrelle</td>\n    </tr>\n    <tr>\n      <th>4</th>\n      <td>5</td>\n      <td>0</td>\n      <td>3</td>\n      <td>Allen, Mr. William Henry</td>\n      <td>male</td>\n      <td>35.0</td>\n      <td>0</td>\n      <td>0</td>\n      <td>373450</td>\n      <td>8.0500</td>\n      <td>NaN</td>\n      <td>S</td>\n      <td>Allen</td>\n    </tr>\n    <tr>\n      <th>...</th>\n      <td>...</td>\n      <td>...</td>\n      <td>...</td>\n      <td>...</td>\n      <td>...</td>\n      <td>...</td>\n      <td>...</td>\n      <td>...</td>\n      <td>...</td>\n      <td>...</td>\n      <td>...</td>\n      <td>...</td>\n      <td>...</td>\n    </tr>\n    <tr>\n      <th>886</th>\n      <td>887</td>\n      <td>0</td>\n      <td>2</td>\n      <td>Montvila, Rev. Juozas</td>\n      <td>male</td>\n      <td>27.0</td>\n      <td>0</td>\n      <td>0</td>\n      <td>211536</td>\n      <td>13.0000</td>\n      <td>NaN</td>\n      <td>S</td>\n      <td>Montvila</td>\n    </tr>\n    <tr>\n      <th>887</th>\n      <td>888</td>\n      <td>1</td>\n      <td>1</td>\n      <td>Graham, Miss. Margaret Edith</td>\n      <td>female</td>\n      <td>19.0</td>\n      <td>0</td>\n      <td>0</td>\n      <td>112053</td>\n      <td>30.0000</td>\n      <td>B42</td>\n      <td>S</td>\n      <td>Graham</td>\n    </tr>\n    <tr>\n      <th>888</th>\n      <td>889</td>\n      <td>0</td>\n      <td>3</td>\n      <td>Johnston, Miss. Catherine Helen \"Carrie\"</td>\n      <td>female</td>\n      <td>NaN</td>\n      <td>1</td>\n      <td>2</td>\n      <td>W./C. 6607</td>\n      <td>23.4500</td>\n      <td>NaN</td>\n      <td>S</td>\n      <td>Johnston</td>\n    </tr>\n    <tr>\n      <th>889</th>\n      <td>890</td>\n      <td>1</td>\n      <td>1</td>\n      <td>Behr, Mr. Karl Howell</td>\n      <td>male</td>\n      <td>26.0</td>\n      <td>0</td>\n      <td>0</td>\n      <td>111369</td>\n      <td>30.0000</td>\n      <td>C148</td>\n      <td>C</td>\n      <td>Behr</td>\n    </tr>\n    <tr>\n      <th>890</th>\n      <td>891</td>\n      <td>0</td>\n      <td>3</td>\n      <td>Dooley, Mr. Patrick</td>\n      <td>male</td>\n      <td>32.0</td>\n      <td>0</td>\n      <td>0</td>\n      <td>370376</td>\n      <td>7.7500</td>\n      <td>NaN</td>\n      <td>Q</td>\n      <td>Dooley</td>\n    </tr>\n  </tbody>\n</table>\n<p>891 rows × 13 columns</p>\n</div>"
     },
     "metadata": {},
     "execution_count": 46
    }
   ],
   "source": [
    "df6"
   ]
  },
  {
   "cell_type": "code",
   "execution_count": 47,
   "metadata": {},
   "outputs": [],
   "source": [
    "df6 = df6.reindex(columns=['PassengerId','Survived','Pclass','Surname','Name','Age','SibSp','Parch','Ticket','Fare','Cabin','Embarked'])"
   ]
  },
  {
   "cell_type": "code",
   "execution_count": 48,
   "metadata": {},
   "outputs": [
    {
     "output_type": "execute_result",
     "data": {
      "text/plain": "     PassengerId  Survived  Pclass  \\\n0              1         0       3   \n1              2         1       1   \n2              3         1       3   \n3              4         1       1   \n4              5         0       3   \n..           ...       ...     ...   \n886          887         0       2   \n887          888         1       1   \n888          889         0       3   \n889          890         1       1   \n890          891         0       3   \n\n                                                  Name     Sex   Age  SibSp  \\\n0                              Braund, Mr. Owen Harris    male  22.0      1   \n1    Cumings, Mrs. John Bradley (Florence Briggs Th...  female  38.0      1   \n2                               Heikkinen, Miss. Laina  female  26.0      0   \n3         Futrelle, Mrs. Jacques Heath (Lily May Peel)  female  35.0      1   \n4                             Allen, Mr. William Henry    male  35.0      0   \n..                                                 ...     ...   ...    ...   \n886                              Montvila, Rev. Juozas    male  27.0      0   \n887                       Graham, Miss. Margaret Edith  female  19.0      0   \n888           Johnston, Miss. Catherine Helen \"Carrie\"  female   NaN      1   \n889                              Behr, Mr. Karl Howell    male  26.0      0   \n890                                Dooley, Mr. Patrick    male  32.0      0   \n\n     Parch            Ticket     Fare Cabin Embarked  \n0        0         A/5 21171   7.2500   NaN        S  \n1        0          PC 17599  71.2833   C85        C  \n2        0  STON/O2. 3101282   7.9250   NaN        S  \n3        0            113803  53.1000  C123        S  \n4        0            373450   8.0500   NaN        S  \n..     ...               ...      ...   ...      ...  \n886      0            211536  13.0000   NaN        S  \n887      0            112053  30.0000   B42        S  \n888      2        W./C. 6607  23.4500   NaN        S  \n889      0            111369  30.0000  C148        C  \n890      0            370376   7.7500   NaN        Q  \n\n[891 rows x 12 columns]",
      "text/html": "<div>\n<style scoped>\n    .dataframe tbody tr th:only-of-type {\n        vertical-align: middle;\n    }\n\n    .dataframe tbody tr th {\n        vertical-align: top;\n    }\n\n    .dataframe thead th {\n        text-align: right;\n    }\n</style>\n<table border=\"1\" class=\"dataframe\">\n  <thead>\n    <tr style=\"text-align: right;\">\n      <th></th>\n      <th>PassengerId</th>\n      <th>Survived</th>\n      <th>Pclass</th>\n      <th>Name</th>\n      <th>Sex</th>\n      <th>Age</th>\n      <th>SibSp</th>\n      <th>Parch</th>\n      <th>Ticket</th>\n      <th>Fare</th>\n      <th>Cabin</th>\n      <th>Embarked</th>\n    </tr>\n  </thead>\n  <tbody>\n    <tr>\n      <th>0</th>\n      <td>1</td>\n      <td>0</td>\n      <td>3</td>\n      <td>Braund, Mr. Owen Harris</td>\n      <td>male</td>\n      <td>22.0</td>\n      <td>1</td>\n      <td>0</td>\n      <td>A/5 21171</td>\n      <td>7.2500</td>\n      <td>NaN</td>\n      <td>S</td>\n    </tr>\n    <tr>\n      <th>1</th>\n      <td>2</td>\n      <td>1</td>\n      <td>1</td>\n      <td>Cumings, Mrs. John Bradley (Florence Briggs Th...</td>\n      <td>female</td>\n      <td>38.0</td>\n      <td>1</td>\n      <td>0</td>\n      <td>PC 17599</td>\n      <td>71.2833</td>\n      <td>C85</td>\n      <td>C</td>\n    </tr>\n    <tr>\n      <th>2</th>\n      <td>3</td>\n      <td>1</td>\n      <td>3</td>\n      <td>Heikkinen, Miss. Laina</td>\n      <td>female</td>\n      <td>26.0</td>\n      <td>0</td>\n      <td>0</td>\n      <td>STON/O2. 3101282</td>\n      <td>7.9250</td>\n      <td>NaN</td>\n      <td>S</td>\n    </tr>\n    <tr>\n      <th>3</th>\n      <td>4</td>\n      <td>1</td>\n      <td>1</td>\n      <td>Futrelle, Mrs. Jacques Heath (Lily May Peel)</td>\n      <td>female</td>\n      <td>35.0</td>\n      <td>1</td>\n      <td>0</td>\n      <td>113803</td>\n      <td>53.1000</td>\n      <td>C123</td>\n      <td>S</td>\n    </tr>\n    <tr>\n      <th>4</th>\n      <td>5</td>\n      <td>0</td>\n      <td>3</td>\n      <td>Allen, Mr. William Henry</td>\n      <td>male</td>\n      <td>35.0</td>\n      <td>0</td>\n      <td>0</td>\n      <td>373450</td>\n      <td>8.0500</td>\n      <td>NaN</td>\n      <td>S</td>\n    </tr>\n    <tr>\n      <th>...</th>\n      <td>...</td>\n      <td>...</td>\n      <td>...</td>\n      <td>...</td>\n      <td>...</td>\n      <td>...</td>\n      <td>...</td>\n      <td>...</td>\n      <td>...</td>\n      <td>...</td>\n      <td>...</td>\n      <td>...</td>\n    </tr>\n    <tr>\n      <th>886</th>\n      <td>887</td>\n      <td>0</td>\n      <td>2</td>\n      <td>Montvila, Rev. Juozas</td>\n      <td>male</td>\n      <td>27.0</td>\n      <td>0</td>\n      <td>0</td>\n      <td>211536</td>\n      <td>13.0000</td>\n      <td>NaN</td>\n      <td>S</td>\n    </tr>\n    <tr>\n      <th>887</th>\n      <td>888</td>\n      <td>1</td>\n      <td>1</td>\n      <td>Graham, Miss. Margaret Edith</td>\n      <td>female</td>\n      <td>19.0</td>\n      <td>0</td>\n      <td>0</td>\n      <td>112053</td>\n      <td>30.0000</td>\n      <td>B42</td>\n      <td>S</td>\n    </tr>\n    <tr>\n      <th>888</th>\n      <td>889</td>\n      <td>0</td>\n      <td>3</td>\n      <td>Johnston, Miss. Catherine Helen \"Carrie\"</td>\n      <td>female</td>\n      <td>NaN</td>\n      <td>1</td>\n      <td>2</td>\n      <td>W./C. 6607</td>\n      <td>23.4500</td>\n      <td>NaN</td>\n      <td>S</td>\n    </tr>\n    <tr>\n      <th>889</th>\n      <td>890</td>\n      <td>1</td>\n      <td>1</td>\n      <td>Behr, Mr. Karl Howell</td>\n      <td>male</td>\n      <td>26.0</td>\n      <td>0</td>\n      <td>0</td>\n      <td>111369</td>\n      <td>30.0000</td>\n      <td>C148</td>\n      <td>C</td>\n    </tr>\n    <tr>\n      <th>890</th>\n      <td>891</td>\n      <td>0</td>\n      <td>3</td>\n      <td>Dooley, Mr. Patrick</td>\n      <td>male</td>\n      <td>32.0</td>\n      <td>0</td>\n      <td>0</td>\n      <td>370376</td>\n      <td>7.7500</td>\n      <td>NaN</td>\n      <td>Q</td>\n    </tr>\n  </tbody>\n</table>\n<p>891 rows × 12 columns</p>\n</div>"
     },
     "metadata": {},
     "execution_count": 48
    }
   ],
   "source": [
    "df_titanic"
   ]
  },
  {
   "cell_type": "code",
   "execution_count": 49,
   "metadata": {},
   "outputs": [],
   "source": [
    "del df6['Name']"
   ]
  },
  {
   "cell_type": "code",
   "execution_count": 50,
   "metadata": {},
   "outputs": [
    {
     "output_type": "execute_result",
     "data": {
      "text/plain": "     PassengerId  Survived  Pclass    Surname   Age  SibSp  Parch  \\\n0              1         0       3     Braund  22.0      1      0   \n1              2         1       1    Cumings  38.0      1      0   \n2              3         1       3  Heikkinen  26.0      0      0   \n3              4         1       1   Futrelle  35.0      1      0   \n4              5         0       3      Allen  35.0      0      0   \n..           ...       ...     ...        ...   ...    ...    ...   \n886          887         0       2   Montvila  27.0      0      0   \n887          888         1       1     Graham  19.0      0      0   \n888          889         0       3   Johnston   NaN      1      2   \n889          890         1       1       Behr  26.0      0      0   \n890          891         0       3     Dooley  32.0      0      0   \n\n               Ticket     Fare Cabin Embarked  \n0           A/5 21171   7.2500   NaN        S  \n1            PC 17599  71.2833   C85        C  \n2    STON/O2. 3101282   7.9250   NaN        S  \n3              113803  53.1000  C123        S  \n4              373450   8.0500   NaN        S  \n..                ...      ...   ...      ...  \n886            211536  13.0000   NaN        S  \n887            112053  30.0000   B42        S  \n888        W./C. 6607  23.4500   NaN        S  \n889            111369  30.0000  C148        C  \n890            370376   7.7500   NaN        Q  \n\n[891 rows x 11 columns]",
      "text/html": "<div>\n<style scoped>\n    .dataframe tbody tr th:only-of-type {\n        vertical-align: middle;\n    }\n\n    .dataframe tbody tr th {\n        vertical-align: top;\n    }\n\n    .dataframe thead th {\n        text-align: right;\n    }\n</style>\n<table border=\"1\" class=\"dataframe\">\n  <thead>\n    <tr style=\"text-align: right;\">\n      <th></th>\n      <th>PassengerId</th>\n      <th>Survived</th>\n      <th>Pclass</th>\n      <th>Surname</th>\n      <th>Age</th>\n      <th>SibSp</th>\n      <th>Parch</th>\n      <th>Ticket</th>\n      <th>Fare</th>\n      <th>Cabin</th>\n      <th>Embarked</th>\n    </tr>\n  </thead>\n  <tbody>\n    <tr>\n      <th>0</th>\n      <td>1</td>\n      <td>0</td>\n      <td>3</td>\n      <td>Braund</td>\n      <td>22.0</td>\n      <td>1</td>\n      <td>0</td>\n      <td>A/5 21171</td>\n      <td>7.2500</td>\n      <td>NaN</td>\n      <td>S</td>\n    </tr>\n    <tr>\n      <th>1</th>\n      <td>2</td>\n      <td>1</td>\n      <td>1</td>\n      <td>Cumings</td>\n      <td>38.0</td>\n      <td>1</td>\n      <td>0</td>\n      <td>PC 17599</td>\n      <td>71.2833</td>\n      <td>C85</td>\n      <td>C</td>\n    </tr>\n    <tr>\n      <th>2</th>\n      <td>3</td>\n      <td>1</td>\n      <td>3</td>\n      <td>Heikkinen</td>\n      <td>26.0</td>\n      <td>0</td>\n      <td>0</td>\n      <td>STON/O2. 3101282</td>\n      <td>7.9250</td>\n      <td>NaN</td>\n      <td>S</td>\n    </tr>\n    <tr>\n      <th>3</th>\n      <td>4</td>\n      <td>1</td>\n      <td>1</td>\n      <td>Futrelle</td>\n      <td>35.0</td>\n      <td>1</td>\n      <td>0</td>\n      <td>113803</td>\n      <td>53.1000</td>\n      <td>C123</td>\n      <td>S</td>\n    </tr>\n    <tr>\n      <th>4</th>\n      <td>5</td>\n      <td>0</td>\n      <td>3</td>\n      <td>Allen</td>\n      <td>35.0</td>\n      <td>0</td>\n      <td>0</td>\n      <td>373450</td>\n      <td>8.0500</td>\n      <td>NaN</td>\n      <td>S</td>\n    </tr>\n    <tr>\n      <th>...</th>\n      <td>...</td>\n      <td>...</td>\n      <td>...</td>\n      <td>...</td>\n      <td>...</td>\n      <td>...</td>\n      <td>...</td>\n      <td>...</td>\n      <td>...</td>\n      <td>...</td>\n      <td>...</td>\n    </tr>\n    <tr>\n      <th>886</th>\n      <td>887</td>\n      <td>0</td>\n      <td>2</td>\n      <td>Montvila</td>\n      <td>27.0</td>\n      <td>0</td>\n      <td>0</td>\n      <td>211536</td>\n      <td>13.0000</td>\n      <td>NaN</td>\n      <td>S</td>\n    </tr>\n    <tr>\n      <th>887</th>\n      <td>888</td>\n      <td>1</td>\n      <td>1</td>\n      <td>Graham</td>\n      <td>19.0</td>\n      <td>0</td>\n      <td>0</td>\n      <td>112053</td>\n      <td>30.0000</td>\n      <td>B42</td>\n      <td>S</td>\n    </tr>\n    <tr>\n      <th>888</th>\n      <td>889</td>\n      <td>0</td>\n      <td>3</td>\n      <td>Johnston</td>\n      <td>NaN</td>\n      <td>1</td>\n      <td>2</td>\n      <td>W./C. 6607</td>\n      <td>23.4500</td>\n      <td>NaN</td>\n      <td>S</td>\n    </tr>\n    <tr>\n      <th>889</th>\n      <td>890</td>\n      <td>1</td>\n      <td>1</td>\n      <td>Behr</td>\n      <td>26.0</td>\n      <td>0</td>\n      <td>0</td>\n      <td>111369</td>\n      <td>30.0000</td>\n      <td>C148</td>\n      <td>C</td>\n    </tr>\n    <tr>\n      <th>890</th>\n      <td>891</td>\n      <td>0</td>\n      <td>3</td>\n      <td>Dooley</td>\n      <td>32.0</td>\n      <td>0</td>\n      <td>0</td>\n      <td>370376</td>\n      <td>7.7500</td>\n      <td>NaN</td>\n      <td>Q</td>\n    </tr>\n  </tbody>\n</table>\n<p>891 rows × 11 columns</p>\n</div>"
     },
     "metadata": {},
     "execution_count": 50
    }
   ],
   "source": [
    "df6"
   ]
  },
  {
   "cell_type": "code",
   "execution_count": 51,
   "metadata": {},
   "outputs": [],
   "source": [
    "df6.rename(columns={'Surname':'Name'},inplace=True)"
   ]
  },
  {
   "cell_type": "code",
   "execution_count": 52,
   "metadata": {},
   "outputs": [
    {
     "output_type": "execute_result",
     "data": {
      "text/plain": "     PassengerId  Survived  Pclass       Name   Age  SibSp  Parch  \\\n0              1         0       3     Braund  22.0      1      0   \n1              2         1       1    Cumings  38.0      1      0   \n2              3         1       3  Heikkinen  26.0      0      0   \n3              4         1       1   Futrelle  35.0      1      0   \n4              5         0       3      Allen  35.0      0      0   \n..           ...       ...     ...        ...   ...    ...    ...   \n886          887         0       2   Montvila  27.0      0      0   \n887          888         1       1     Graham  19.0      0      0   \n888          889         0       3   Johnston   NaN      1      2   \n889          890         1       1       Behr  26.0      0      0   \n890          891         0       3     Dooley  32.0      0      0   \n\n               Ticket     Fare Cabin Embarked  \n0           A/5 21171   7.2500   NaN        S  \n1            PC 17599  71.2833   C85        C  \n2    STON/O2. 3101282   7.9250   NaN        S  \n3              113803  53.1000  C123        S  \n4              373450   8.0500   NaN        S  \n..                ...      ...   ...      ...  \n886            211536  13.0000   NaN        S  \n887            112053  30.0000   B42        S  \n888        W./C. 6607  23.4500   NaN        S  \n889            111369  30.0000  C148        C  \n890            370376   7.7500   NaN        Q  \n\n[891 rows x 11 columns]",
      "text/html": "<div>\n<style scoped>\n    .dataframe tbody tr th:only-of-type {\n        vertical-align: middle;\n    }\n\n    .dataframe tbody tr th {\n        vertical-align: top;\n    }\n\n    .dataframe thead th {\n        text-align: right;\n    }\n</style>\n<table border=\"1\" class=\"dataframe\">\n  <thead>\n    <tr style=\"text-align: right;\">\n      <th></th>\n      <th>PassengerId</th>\n      <th>Survived</th>\n      <th>Pclass</th>\n      <th>Name</th>\n      <th>Age</th>\n      <th>SibSp</th>\n      <th>Parch</th>\n      <th>Ticket</th>\n      <th>Fare</th>\n      <th>Cabin</th>\n      <th>Embarked</th>\n    </tr>\n  </thead>\n  <tbody>\n    <tr>\n      <th>0</th>\n      <td>1</td>\n      <td>0</td>\n      <td>3</td>\n      <td>Braund</td>\n      <td>22.0</td>\n      <td>1</td>\n      <td>0</td>\n      <td>A/5 21171</td>\n      <td>7.2500</td>\n      <td>NaN</td>\n      <td>S</td>\n    </tr>\n    <tr>\n      <th>1</th>\n      <td>2</td>\n      <td>1</td>\n      <td>1</td>\n      <td>Cumings</td>\n      <td>38.0</td>\n      <td>1</td>\n      <td>0</td>\n      <td>PC 17599</td>\n      <td>71.2833</td>\n      <td>C85</td>\n      <td>C</td>\n    </tr>\n    <tr>\n      <th>2</th>\n      <td>3</td>\n      <td>1</td>\n      <td>3</td>\n      <td>Heikkinen</td>\n      <td>26.0</td>\n      <td>0</td>\n      <td>0</td>\n      <td>STON/O2. 3101282</td>\n      <td>7.9250</td>\n      <td>NaN</td>\n      <td>S</td>\n    </tr>\n    <tr>\n      <th>3</th>\n      <td>4</td>\n      <td>1</td>\n      <td>1</td>\n      <td>Futrelle</td>\n      <td>35.0</td>\n      <td>1</td>\n      <td>0</td>\n      <td>113803</td>\n      <td>53.1000</td>\n      <td>C123</td>\n      <td>S</td>\n    </tr>\n    <tr>\n      <th>4</th>\n      <td>5</td>\n      <td>0</td>\n      <td>3</td>\n      <td>Allen</td>\n      <td>35.0</td>\n      <td>0</td>\n      <td>0</td>\n      <td>373450</td>\n      <td>8.0500</td>\n      <td>NaN</td>\n      <td>S</td>\n    </tr>\n    <tr>\n      <th>...</th>\n      <td>...</td>\n      <td>...</td>\n      <td>...</td>\n      <td>...</td>\n      <td>...</td>\n      <td>...</td>\n      <td>...</td>\n      <td>...</td>\n      <td>...</td>\n      <td>...</td>\n      <td>...</td>\n    </tr>\n    <tr>\n      <th>886</th>\n      <td>887</td>\n      <td>0</td>\n      <td>2</td>\n      <td>Montvila</td>\n      <td>27.0</td>\n      <td>0</td>\n      <td>0</td>\n      <td>211536</td>\n      <td>13.0000</td>\n      <td>NaN</td>\n      <td>S</td>\n    </tr>\n    <tr>\n      <th>887</th>\n      <td>888</td>\n      <td>1</td>\n      <td>1</td>\n      <td>Graham</td>\n      <td>19.0</td>\n      <td>0</td>\n      <td>0</td>\n      <td>112053</td>\n      <td>30.0000</td>\n      <td>B42</td>\n      <td>S</td>\n    </tr>\n    <tr>\n      <th>888</th>\n      <td>889</td>\n      <td>0</td>\n      <td>3</td>\n      <td>Johnston</td>\n      <td>NaN</td>\n      <td>1</td>\n      <td>2</td>\n      <td>W./C. 6607</td>\n      <td>23.4500</td>\n      <td>NaN</td>\n      <td>S</td>\n    </tr>\n    <tr>\n      <th>889</th>\n      <td>890</td>\n      <td>1</td>\n      <td>1</td>\n      <td>Behr</td>\n      <td>26.0</td>\n      <td>0</td>\n      <td>0</td>\n      <td>111369</td>\n      <td>30.0000</td>\n      <td>C148</td>\n      <td>C</td>\n    </tr>\n    <tr>\n      <th>890</th>\n      <td>891</td>\n      <td>0</td>\n      <td>3</td>\n      <td>Dooley</td>\n      <td>32.0</td>\n      <td>0</td>\n      <td>0</td>\n      <td>370376</td>\n      <td>7.7500</td>\n      <td>NaN</td>\n      <td>Q</td>\n    </tr>\n  </tbody>\n</table>\n<p>891 rows × 11 columns</p>\n</div>"
     },
     "metadata": {},
     "execution_count": 52
    }
   ],
   "source": [
    "df6"
   ]
  },
  {
   "cell_type": "code",
   "execution_count": 53,
   "metadata": {},
   "outputs": [],
   "source": [
    "#Exercise 7"
   ]
  },
  {
   "cell_type": "code",
   "execution_count": 54,
   "metadata": {},
   "outputs": [],
   "source": [
    "df7 = df_titanic.copy()"
   ]
  },
  {
   "cell_type": "code",
   "execution_count": 55,
   "metadata": {},
   "outputs": [],
   "source": [
    "surname = df7[\"Name\"].str.split(\",\", n = 1, expand = True)"
   ]
  },
  {
   "cell_type": "code",
   "execution_count": 56,
   "metadata": {},
   "outputs": [],
   "source": [
    "title = surname[1].str.split(\" \", n = 2, expand = True)"
   ]
  },
  {
   "cell_type": "code",
   "execution_count": 57,
   "metadata": {},
   "outputs": [],
   "source": [
    "df7[\"Surname\"] = surname[0]"
   ]
  },
  {
   "cell_type": "code",
   "execution_count": 58,
   "metadata": {},
   "outputs": [],
   "source": [
    "df7[\"Title\"] = title[1]"
   ]
  },
  {
   "cell_type": "code",
   "execution_count": 59,
   "metadata": {},
   "outputs": [
    {
     "output_type": "execute_result",
     "data": {
      "text/plain": "     PassengerId  Survived  Pclass  \\\n0              1         0       3   \n1              2         1       1   \n2              3         1       3   \n3              4         1       1   \n4              5         0       3   \n..           ...       ...     ...   \n886          887         0       2   \n887          888         1       1   \n888          889         0       3   \n889          890         1       1   \n890          891         0       3   \n\n                                                  Name     Sex   Age  SibSp  \\\n0                              Braund, Mr. Owen Harris    male  22.0      1   \n1    Cumings, Mrs. John Bradley (Florence Briggs Th...  female  38.0      1   \n2                               Heikkinen, Miss. Laina  female  26.0      0   \n3         Futrelle, Mrs. Jacques Heath (Lily May Peel)  female  35.0      1   \n4                             Allen, Mr. William Henry    male  35.0      0   \n..                                                 ...     ...   ...    ...   \n886                              Montvila, Rev. Juozas    male  27.0      0   \n887                       Graham, Miss. Margaret Edith  female  19.0      0   \n888           Johnston, Miss. Catherine Helen \"Carrie\"  female   NaN      1   \n889                              Behr, Mr. Karl Howell    male  26.0      0   \n890                                Dooley, Mr. Patrick    male  32.0      0   \n\n     Parch            Ticket     Fare Cabin Embarked    Surname  Title  \n0        0         A/5 21171   7.2500   NaN        S     Braund    Mr.  \n1        0          PC 17599  71.2833   C85        C    Cumings   Mrs.  \n2        0  STON/O2. 3101282   7.9250   NaN        S  Heikkinen  Miss.  \n3        0            113803  53.1000  C123        S   Futrelle   Mrs.  \n4        0            373450   8.0500   NaN        S      Allen    Mr.  \n..     ...               ...      ...   ...      ...        ...    ...  \n886      0            211536  13.0000   NaN        S   Montvila   Rev.  \n887      0            112053  30.0000   B42        S     Graham  Miss.  \n888      2        W./C. 6607  23.4500   NaN        S   Johnston  Miss.  \n889      0            111369  30.0000  C148        C       Behr    Mr.  \n890      0            370376   7.7500   NaN        Q     Dooley    Mr.  \n\n[891 rows x 14 columns]",
      "text/html": "<div>\n<style scoped>\n    .dataframe tbody tr th:only-of-type {\n        vertical-align: middle;\n    }\n\n    .dataframe tbody tr th {\n        vertical-align: top;\n    }\n\n    .dataframe thead th {\n        text-align: right;\n    }\n</style>\n<table border=\"1\" class=\"dataframe\">\n  <thead>\n    <tr style=\"text-align: right;\">\n      <th></th>\n      <th>PassengerId</th>\n      <th>Survived</th>\n      <th>Pclass</th>\n      <th>Name</th>\n      <th>Sex</th>\n      <th>Age</th>\n      <th>SibSp</th>\n      <th>Parch</th>\n      <th>Ticket</th>\n      <th>Fare</th>\n      <th>Cabin</th>\n      <th>Embarked</th>\n      <th>Surname</th>\n      <th>Title</th>\n    </tr>\n  </thead>\n  <tbody>\n    <tr>\n      <th>0</th>\n      <td>1</td>\n      <td>0</td>\n      <td>3</td>\n      <td>Braund, Mr. Owen Harris</td>\n      <td>male</td>\n      <td>22.0</td>\n      <td>1</td>\n      <td>0</td>\n      <td>A/5 21171</td>\n      <td>7.2500</td>\n      <td>NaN</td>\n      <td>S</td>\n      <td>Braund</td>\n      <td>Mr.</td>\n    </tr>\n    <tr>\n      <th>1</th>\n      <td>2</td>\n      <td>1</td>\n      <td>1</td>\n      <td>Cumings, Mrs. John Bradley (Florence Briggs Th...</td>\n      <td>female</td>\n      <td>38.0</td>\n      <td>1</td>\n      <td>0</td>\n      <td>PC 17599</td>\n      <td>71.2833</td>\n      <td>C85</td>\n      <td>C</td>\n      <td>Cumings</td>\n      <td>Mrs.</td>\n    </tr>\n    <tr>\n      <th>2</th>\n      <td>3</td>\n      <td>1</td>\n      <td>3</td>\n      <td>Heikkinen, Miss. Laina</td>\n      <td>female</td>\n      <td>26.0</td>\n      <td>0</td>\n      <td>0</td>\n      <td>STON/O2. 3101282</td>\n      <td>7.9250</td>\n      <td>NaN</td>\n      <td>S</td>\n      <td>Heikkinen</td>\n      <td>Miss.</td>\n    </tr>\n    <tr>\n      <th>3</th>\n      <td>4</td>\n      <td>1</td>\n      <td>1</td>\n      <td>Futrelle, Mrs. Jacques Heath (Lily May Peel)</td>\n      <td>female</td>\n      <td>35.0</td>\n      <td>1</td>\n      <td>0</td>\n      <td>113803</td>\n      <td>53.1000</td>\n      <td>C123</td>\n      <td>S</td>\n      <td>Futrelle</td>\n      <td>Mrs.</td>\n    </tr>\n    <tr>\n      <th>4</th>\n      <td>5</td>\n      <td>0</td>\n      <td>3</td>\n      <td>Allen, Mr. William Henry</td>\n      <td>male</td>\n      <td>35.0</td>\n      <td>0</td>\n      <td>0</td>\n      <td>373450</td>\n      <td>8.0500</td>\n      <td>NaN</td>\n      <td>S</td>\n      <td>Allen</td>\n      <td>Mr.</td>\n    </tr>\n    <tr>\n      <th>...</th>\n      <td>...</td>\n      <td>...</td>\n      <td>...</td>\n      <td>...</td>\n      <td>...</td>\n      <td>...</td>\n      <td>...</td>\n      <td>...</td>\n      <td>...</td>\n      <td>...</td>\n      <td>...</td>\n      <td>...</td>\n      <td>...</td>\n      <td>...</td>\n    </tr>\n    <tr>\n      <th>886</th>\n      <td>887</td>\n      <td>0</td>\n      <td>2</td>\n      <td>Montvila, Rev. Juozas</td>\n      <td>male</td>\n      <td>27.0</td>\n      <td>0</td>\n      <td>0</td>\n      <td>211536</td>\n      <td>13.0000</td>\n      <td>NaN</td>\n      <td>S</td>\n      <td>Montvila</td>\n      <td>Rev.</td>\n    </tr>\n    <tr>\n      <th>887</th>\n      <td>888</td>\n      <td>1</td>\n      <td>1</td>\n      <td>Graham, Miss. Margaret Edith</td>\n      <td>female</td>\n      <td>19.0</td>\n      <td>0</td>\n      <td>0</td>\n      <td>112053</td>\n      <td>30.0000</td>\n      <td>B42</td>\n      <td>S</td>\n      <td>Graham</td>\n      <td>Miss.</td>\n    </tr>\n    <tr>\n      <th>888</th>\n      <td>889</td>\n      <td>0</td>\n      <td>3</td>\n      <td>Johnston, Miss. Catherine Helen \"Carrie\"</td>\n      <td>female</td>\n      <td>NaN</td>\n      <td>1</td>\n      <td>2</td>\n      <td>W./C. 6607</td>\n      <td>23.4500</td>\n      <td>NaN</td>\n      <td>S</td>\n      <td>Johnston</td>\n      <td>Miss.</td>\n    </tr>\n    <tr>\n      <th>889</th>\n      <td>890</td>\n      <td>1</td>\n      <td>1</td>\n      <td>Behr, Mr. Karl Howell</td>\n      <td>male</td>\n      <td>26.0</td>\n      <td>0</td>\n      <td>0</td>\n      <td>111369</td>\n      <td>30.0000</td>\n      <td>C148</td>\n      <td>C</td>\n      <td>Behr</td>\n      <td>Mr.</td>\n    </tr>\n    <tr>\n      <th>890</th>\n      <td>891</td>\n      <td>0</td>\n      <td>3</td>\n      <td>Dooley, Mr. Patrick</td>\n      <td>male</td>\n      <td>32.0</td>\n      <td>0</td>\n      <td>0</td>\n      <td>370376</td>\n      <td>7.7500</td>\n      <td>NaN</td>\n      <td>Q</td>\n      <td>Dooley</td>\n      <td>Mr.</td>\n    </tr>\n  </tbody>\n</table>\n<p>891 rows × 14 columns</p>\n</div>"
     },
     "metadata": {},
     "execution_count": 59
    }
   ],
   "source": [
    "df7"
   ]
  },
  {
   "cell_type": "code",
   "execution_count": 60,
   "metadata": {},
   "outputs": [],
   "source": [
    "#Exercise 8"
   ]
  },
  {
   "cell_type": "code",
   "execution_count": 61,
   "metadata": {},
   "outputs": [],
   "source": [
    "df8 = df_titanic.copy()"
   ]
  },
  {
   "cell_type": "code",
   "execution_count": 62,
   "metadata": {},
   "outputs": [],
   "source": [
    "df8_cabin = df8.dropna()"
   ]
  },
  {
   "cell_type": "code",
   "execution_count": 63,
   "metadata": {},
   "outputs": [],
   "source": [
    "df8_cabin[\"CabinLetter\"] = df8_cabin[\"Cabin\"].str[0]"
   ]
  },
  {
   "cell_type": "code",
   "execution_count": 64,
   "metadata": {},
   "outputs": [],
   "source": [
    "df8_female = df8_cabin[df8_cabin[\"Sex\"] == \"female\"]"
   ]
  },
  {
   "cell_type": "code",
   "execution_count": 65,
   "metadata": {},
   "outputs": [
    {
     "output_type": "execute_result",
     "data": {
      "text/plain": "     PassengerId  Survived  Pclass  \\\n1              2         1       1   \n3              4         1       1   \n10            11         1       3   \n11            12         1       1   \n52            53         1       1   \n..           ...       ...     ...   \n853          854         1       1   \n862          863         1       1   \n871          872         1       1   \n879          880         1       1   \n887          888         1       1   \n\n                                                  Name     Sex   Age  SibSp  \\\n1    Cumings, Mrs. John Bradley (Florence Briggs Th...  female  38.0      1   \n3         Futrelle, Mrs. Jacques Heath (Lily May Peel)  female  35.0      1   \n10                     Sandstrom, Miss. Marguerite Rut  female   4.0      1   \n11                            Bonnell, Miss. Elizabeth  female  58.0      0   \n52            Harper, Mrs. Henry Sleeper (Myna Haxtun)  female  49.0      1   \n..                                                 ...     ...   ...    ...   \n853                          Lines, Miss. Mary Conover  female  16.0      0   \n862  Swift, Mrs. Frederick Joel (Margaret Welles Ba...  female  48.0      0   \n871   Beckwith, Mrs. Richard Leonard (Sallie Monypeny)  female  47.0      1   \n879      Potter, Mrs. Thomas Jr (Lily Alexenia Wilson)  female  56.0      0   \n887                       Graham, Miss. Margaret Edith  female  19.0      0   \n\n     Parch    Ticket     Fare Cabin Embarked CabinLetter  \n1        0  PC 17599  71.2833   C85        C           C  \n3        0    113803  53.1000  C123        S           C  \n10       1   PP 9549  16.7000    G6        S           G  \n11       0    113783  26.5500  C103        S           C  \n52       0  PC 17572  76.7292   D33        C           D  \n..     ...       ...      ...   ...      ...         ...  \n853      1  PC 17592  39.4000   D28        S           D  \n862      0     17466  25.9292   D17        S           D  \n871      1     11751  52.5542   D35        S           D  \n879      1     11767  83.1583   C50        C           C  \n887      0    112053  30.0000   B42        S           B  \n\n[88 rows x 13 columns]",
      "text/html": "<div>\n<style scoped>\n    .dataframe tbody tr th:only-of-type {\n        vertical-align: middle;\n    }\n\n    .dataframe tbody tr th {\n        vertical-align: top;\n    }\n\n    .dataframe thead th {\n        text-align: right;\n    }\n</style>\n<table border=\"1\" class=\"dataframe\">\n  <thead>\n    <tr style=\"text-align: right;\">\n      <th></th>\n      <th>PassengerId</th>\n      <th>Survived</th>\n      <th>Pclass</th>\n      <th>Name</th>\n      <th>Sex</th>\n      <th>Age</th>\n      <th>SibSp</th>\n      <th>Parch</th>\n      <th>Ticket</th>\n      <th>Fare</th>\n      <th>Cabin</th>\n      <th>Embarked</th>\n      <th>CabinLetter</th>\n    </tr>\n  </thead>\n  <tbody>\n    <tr>\n      <th>1</th>\n      <td>2</td>\n      <td>1</td>\n      <td>1</td>\n      <td>Cumings, Mrs. John Bradley (Florence Briggs Th...</td>\n      <td>female</td>\n      <td>38.0</td>\n      <td>1</td>\n      <td>0</td>\n      <td>PC 17599</td>\n      <td>71.2833</td>\n      <td>C85</td>\n      <td>C</td>\n      <td>C</td>\n    </tr>\n    <tr>\n      <th>3</th>\n      <td>4</td>\n      <td>1</td>\n      <td>1</td>\n      <td>Futrelle, Mrs. Jacques Heath (Lily May Peel)</td>\n      <td>female</td>\n      <td>35.0</td>\n      <td>1</td>\n      <td>0</td>\n      <td>113803</td>\n      <td>53.1000</td>\n      <td>C123</td>\n      <td>S</td>\n      <td>C</td>\n    </tr>\n    <tr>\n      <th>10</th>\n      <td>11</td>\n      <td>1</td>\n      <td>3</td>\n      <td>Sandstrom, Miss. Marguerite Rut</td>\n      <td>female</td>\n      <td>4.0</td>\n      <td>1</td>\n      <td>1</td>\n      <td>PP 9549</td>\n      <td>16.7000</td>\n      <td>G6</td>\n      <td>S</td>\n      <td>G</td>\n    </tr>\n    <tr>\n      <th>11</th>\n      <td>12</td>\n      <td>1</td>\n      <td>1</td>\n      <td>Bonnell, Miss. Elizabeth</td>\n      <td>female</td>\n      <td>58.0</td>\n      <td>0</td>\n      <td>0</td>\n      <td>113783</td>\n      <td>26.5500</td>\n      <td>C103</td>\n      <td>S</td>\n      <td>C</td>\n    </tr>\n    <tr>\n      <th>52</th>\n      <td>53</td>\n      <td>1</td>\n      <td>1</td>\n      <td>Harper, Mrs. Henry Sleeper (Myna Haxtun)</td>\n      <td>female</td>\n      <td>49.0</td>\n      <td>1</td>\n      <td>0</td>\n      <td>PC 17572</td>\n      <td>76.7292</td>\n      <td>D33</td>\n      <td>C</td>\n      <td>D</td>\n    </tr>\n    <tr>\n      <th>...</th>\n      <td>...</td>\n      <td>...</td>\n      <td>...</td>\n      <td>...</td>\n      <td>...</td>\n      <td>...</td>\n      <td>...</td>\n      <td>...</td>\n      <td>...</td>\n      <td>...</td>\n      <td>...</td>\n      <td>...</td>\n      <td>...</td>\n    </tr>\n    <tr>\n      <th>853</th>\n      <td>854</td>\n      <td>1</td>\n      <td>1</td>\n      <td>Lines, Miss. Mary Conover</td>\n      <td>female</td>\n      <td>16.0</td>\n      <td>0</td>\n      <td>1</td>\n      <td>PC 17592</td>\n      <td>39.4000</td>\n      <td>D28</td>\n      <td>S</td>\n      <td>D</td>\n    </tr>\n    <tr>\n      <th>862</th>\n      <td>863</td>\n      <td>1</td>\n      <td>1</td>\n      <td>Swift, Mrs. Frederick Joel (Margaret Welles Ba...</td>\n      <td>female</td>\n      <td>48.0</td>\n      <td>0</td>\n      <td>0</td>\n      <td>17466</td>\n      <td>25.9292</td>\n      <td>D17</td>\n      <td>S</td>\n      <td>D</td>\n    </tr>\n    <tr>\n      <th>871</th>\n      <td>872</td>\n      <td>1</td>\n      <td>1</td>\n      <td>Beckwith, Mrs. Richard Leonard (Sallie Monypeny)</td>\n      <td>female</td>\n      <td>47.0</td>\n      <td>1</td>\n      <td>1</td>\n      <td>11751</td>\n      <td>52.5542</td>\n      <td>D35</td>\n      <td>S</td>\n      <td>D</td>\n    </tr>\n    <tr>\n      <th>879</th>\n      <td>880</td>\n      <td>1</td>\n      <td>1</td>\n      <td>Potter, Mrs. Thomas Jr (Lily Alexenia Wilson)</td>\n      <td>female</td>\n      <td>56.0</td>\n      <td>0</td>\n      <td>1</td>\n      <td>11767</td>\n      <td>83.1583</td>\n      <td>C50</td>\n      <td>C</td>\n      <td>C</td>\n    </tr>\n    <tr>\n      <th>887</th>\n      <td>888</td>\n      <td>1</td>\n      <td>1</td>\n      <td>Graham, Miss. Margaret Edith</td>\n      <td>female</td>\n      <td>19.0</td>\n      <td>0</td>\n      <td>0</td>\n      <td>112053</td>\n      <td>30.0000</td>\n      <td>B42</td>\n      <td>S</td>\n      <td>B</td>\n    </tr>\n  </tbody>\n</table>\n<p>88 rows × 13 columns</p>\n</div>"
     },
     "metadata": {},
     "execution_count": 65
    }
   ],
   "source": [
    "df8_female"
   ]
  },
  {
   "cell_type": "code",
   "execution_count": null,
   "metadata": {},
   "outputs": [],
   "source": []
  }
 ]
}