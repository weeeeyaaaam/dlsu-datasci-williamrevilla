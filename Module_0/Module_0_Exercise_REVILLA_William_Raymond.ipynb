{
 "metadata": {
  "language_info": {
   "codemirror_mode": {
    "name": "ipython",
    "version": 3
   },
   "file_extension": ".py",
   "mimetype": "text/x-python",
   "name": "python",
   "nbconvert_exporter": "python",
   "pygments_lexer": "ipython3",
   "version": "3.8.3-final"
  },
  "orig_nbformat": 2,
  "kernelspec": {
   "name": "python_defaultSpec_1597737191840",
   "display_name": "Python 3.8.3 64-bit ('base': conda)"
  }
 },
 "nbformat": 4,
 "nbformat_minor": 2,
 "cells": [
  {
   "cell_type": "code",
   "execution_count": 1,
   "metadata": {},
   "outputs": [],
   "source": [
    "#Imports\n",
    "import numpy as np\n",
    "import pandas as pd"
   ]
  },
  {
   "cell_type": "markdown",
   "metadata": {},
   "source": [
    "Exercise 1"
   ]
  },
  {
   "cell_type": "code",
   "execution_count": 2,
   "metadata": {
    "tags": []
   },
   "outputs": [
    {
     "output_type": "stream",
     "name": "stdout",
     "text": "[0, 1, 2, 3, 4]\n[0, 1, 2, 3, 4, 0, 1, 2, 3, 4, 5, 6, 7, 8, 9, 10, 11, 12, 13, 14, 15, 16, 17, 18, 19, 20, 21, 22, 23, 24]\n[0, 1, 2, 3, 4, 0, 1, 2, 3, 4, 5, 6, 7, 8, 9, 10, 11, 12, 13, 14, 15, 16, 17, 18, 19, 20, 21, 22, 23, 24, 0, 1, 2, 3, 4, 5, 6, 7, 8, 9, 10, 11, 12, 13, 14, 15, 16, 17, 18, 19, 20, 21, 22, 23, 24, 25, 26, 27, 28, 29, 30, 31, 32, 33, 34, 35, 36, 37, 38, 39, 40, 41, 42, 43, 44, 45, 46, 47, 48, 49]\n"
    }
   ],
   "source": [
    "a = [] #Initialize empty list\n",
    "#Function code\n",
    "def exercise_1(n):\n",
    "    for i in range(n):\n",
    "        a.append(i)\n",
    "    print(a)\n",
    "\n",
    "#Code execution\n",
    "exercise_1(5)\n",
    "exercise_1(25)\n",
    "exercise_1(50)"
   ]
  },
  {
   "cell_type": "markdown",
   "metadata": {},
   "source": [
    "Exercise 2"
   ]
  },
  {
   "cell_type": "code",
   "execution_count": 3,
   "metadata": {
    "tags": []
   },
   "outputs": [
    {
     "output_type": "stream",
     "name": "stdout",
     "text": "[0 1 2 3 4]\n<class 'numpy.ndarray'>\n[ 0  1  2  3  4  0  1  2  3  4  5  6  7  8  9 10 11 12 13 14 15 16 17 18\n 19 20 21 22 23 24]\n<class 'numpy.ndarray'>\n"
    }
   ],
   "source": [
    "a = [] #Initialize empty string\n",
    "\n",
    "#Function code\n",
    "def exercise_2(x):\n",
    "    for i in range(x):\n",
    "       a.append(i)\n",
    "    array = np.asarray(a)\n",
    "    print(array)\n",
    "    \n",
    "    print(type(array)) #Check if successfully converted to array\n",
    "\n",
    "exercise_2(5)\n",
    "exercise_2(25)"
   ]
  },
  {
   "cell_type": "markdown",
   "metadata": {},
   "source": [
    "Exercise 3"
   ]
  },
  {
   "cell_type": "code",
   "execution_count": 6,
   "metadata": {
    "tags": []
   },
   "outputs": [
    {
     "output_type": "stream",
     "name": "stdout",
     "text": "[20, 21, 22, 23, 24]\n[60, 61, 62]\n"
    }
   ],
   "source": [
    "def exercise_3(nums, n):\n",
    "    a=[]\n",
    "    for i in nums:\n",
    "        a.append(i + n)\n",
    "    print(a)\n",
    "exercise_3([0, 1, 2, 3, 4], 20)\n",
    "exercise_3([0, 1, 2], 60)\n"
   ]
  },
  {
   "cell_type": "markdown",
   "metadata": {},
   "source": [
    "Exercise 4"
   ]
  },
  {
   "cell_type": "markdown",
   "metadata": {},
   "source": [
    "Could not figure out exercise 4. Though of an algorithm but could not implement it in python."
   ]
  },
  {
   "cell_type": "markdown",
   "metadata": {},
   "source": [
    "Exercise 5"
   ]
  },
  {
   "cell_type": "code",
   "execution_count": 18,
   "metadata": {
    "tags": []
   },
   "outputs": [
    {
     "output_type": "stream",
     "name": "stdout",
     "text": "[]\n[2, 2]\n[5, 11, 23]\n[2, 11, 167]\n"
    }
   ],
   "source": [
    "#I had to look up on how to do this, I kinda get the logic, but it's still hard for me to think logically\n",
    "#Hope we get practice exercises that help us think of an algorithm\n",
    "def exercise_5(n):\n",
    "    factors = []\n",
    "    i = 2 \n",
    "    while i * i <= n:\n",
    "        if n % i:\n",
    "            i += 1\n",
    "        else:\n",
    "            n //= i\n",
    "            factors.append(i)\n",
    "    if n > 1:\n",
    "        factors.append(n)\n",
    "    print(factors)\n",
    "\n",
    "exercise_5(1)\n",
    "exercise_5(4)\n",
    "exercise_5(1265)\n",
    "exercise_5(3674)"
   ]
  },
  {
   "cell_type": "markdown",
   "metadata": {},
   "source": [
    "Exercise 6"
   ]
  },
  {
   "cell_type": "code",
   "execution_count": 19,
   "metadata": {
    "tags": []
   },
   "outputs": [
    {
     "output_type": "stream",
     "name": "stdout",
     "text": "[0, 3, 4, 6, 8, 9, 12, 15, 16, 18]\n[0, 17, 27, 34, 51, 54, 68, 81, 85, 102, 108, 119, 135, 136, 153, 162, 170, 187, 189, 204, 216, 221, 238, 243, 255, 270, 272, 289, 297]\n"
    }
   ],
   "source": [
    "def exercise_6(num, n1, n2):\n",
    "    a = []\n",
    "    for i in num:\n",
    "        if i % n1 == 0:\n",
    "            a.append(i)\n",
    "        elif i % n2 ==0:\n",
    "            a.append(i)\n",
    "            \n",
    "    print(a)\n",
    "\n",
    "exercise_6(np.arange(20),3,4)\n",
    "exercise_6(np.arange(300), 17, 27)"
   ]
  },
  {
   "cell_type": "markdown",
   "metadata": {},
   "source": [
    "Exercise 7"
   ]
  },
  {
   "cell_type": "code",
   "execution_count": 21,
   "metadata": {
    "tags": []
   },
   "outputs": [
    {
     "output_type": "stream",
     "name": "stdout",
     "text": "[22.0, 38.0, 26.0, 35.0, 35.0]\n"
    }
   ],
   "source": [
    "def exercise_7():\n",
    "    df = pd.read_csv('data/train.csv')\n",
    "    a = df[['Age','Sex']][0:5]\n",
    "    b = a['Age'].tolist()\n",
    "    print(b)\n",
    "exercise_7()"
   ]
  },
  {
   "cell_type": "markdown",
   "metadata": {},
   "source": [
    "Exercise 8"
   ]
  },
  {
   "cell_type": "code",
   "execution_count": 23,
   "metadata": {
    "tags": []
   },
   "outputs": [
    {
     "output_type": "stream",
     "name": "stdout",
     "text": "71.16\n"
    }
   ],
   "source": [
    "def exercise_8():\n",
    "    df = pd.read_csv('data/train.csv')\n",
    "    a = df[(df.Survived == 1) & (df.Age > 30) & (df.Sex == 'female')]\n",
    "    x = a['Fare'].mean()\n",
    "    print(round(x,2))\n",
    "exercise_8()"
   ]
  },
  {
   "cell_type": "markdown",
   "metadata": {},
   "source": [
    "Still a bit confused when it comes to pandas, I think I usually get confused in the number of data frames I make during exercise 7 and 8"
   ]
  },
  {
   "cell_type": "code",
   "execution_count": null,
   "metadata": {},
   "outputs": [],
   "source": []
  }
 ]
}