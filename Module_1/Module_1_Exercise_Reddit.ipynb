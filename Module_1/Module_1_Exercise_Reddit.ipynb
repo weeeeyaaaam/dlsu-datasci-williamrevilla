{
 "cells": [
  {
   "cell_type": "code",
   "execution_count": 73,
   "metadata": {},
   "outputs": [],
   "source": [
    "import pandas as pd \n",
    "import datetime\n",
    "import csv\n",
    "import os \n",
    "import requests \n",
    "import datetime as dt\n",
    "import time"
   ]
  },
  {
   "cell_type": "markdown",
   "metadata": {},
   "source": [
    "# Exercise"
   ]
  },
  {
   "cell_type": "markdown",
   "metadata": {},
   "source": [
    "For your exercise do the following:\n",
    "\n",
    "1. Choose a reddit page you want to crawl\n",
    "2. The following fields should be present when you crawl **(10 points)**:\n",
    "    - author\n",
    "    - subreddit\n",
    "    - date created \n",
    "    - number of comments \n",
    "    - score\n",
    "    - submission title \n",
    "    - submission description\n",
    "3. After crawling, save your results to a pandas dataframe **(3 points)**. \n",
    "4. Answer the following questions **(12 points)**:\n",
    "    - How many submissions were you able to gather? \n",
    "    - Who has the most submissions? \n",
    "    - Which submission has the highest score? \n",
    "    - Which submission has the highest number of comments?\n",
    "    - Which day of the week has the most submissions? \n",
    "    \n",
    "**Tip:** _For item#4, recall how to use the aggregation functions in `pandas` like count, value_counts, sum, etc. For getting the day of the week, look into how to get the `dayofweek` from a datetime object in `pandas`. (Hint: You may need to use `pd.to_datetime` to convert your date column...)_"
   ]
  },
  {
   "cell_type": "code",
   "execution_count": 148,
   "metadata": {
    "tags": []
   },
   "outputs": [
    {
     "output_type": "stream",
     "name": "stdout",
     "text": "Doing 2020-08-10 to 2020-08-11\n=====Done\nDoing 2020-08-11 to 2020-08-12\n=====Done\nDoing 2020-08-12 to 2020-08-13\n=====Done\nDoing 2020-08-13 to 2020-08-14\n=====Done\nDoing 2020-08-14 to 2020-08-15\n=====Done\nDoing 2020-08-15 to 2020-08-16\n=====Done\n"
    }
   ],
   "source": [
    "def to_utc(date):\n",
    "    #This function converts an object to UTC. This is to automate the conversion \n",
    "    #of dates instead of going to https://www.unixtimeconverter.io/ \n",
    "    return int(date.replace(tzinfo=dt.timezone.utc).timestamp())\n",
    "    \n",
    "def to_readable_date(timestamp):\n",
    "    #This function converts the UTC format to a Year-Month-Day format \n",
    "    return dt.datetime.fromtimestamp(timestamp).strftime(\"%Y-%m-%d\")\n",
    "\n",
    "#Declare start and end of reddit posts to extract \n",
    "start_date = dt.datetime.strptime(\"2020-08-10\", \"%Y-%m-%d\")\n",
    "end_date = dt.datetime.strptime(\"2020-08-15\", \"%Y-%m-%d\")\n",
    "\n",
    "date_range = (pd.date_range(\n",
    "                start_date, \n",
    "                periods=(end_date - start_date).days + 2)\n",
    "              .tolist())\n",
    "\n",
    "#prepare the parameters needed to call the API\n",
    "sort_type=\"score\"\n",
    "sort=\"desc\"\n",
    "fields=[\"author\",\"subreddit\",\"created_utc\",\"num_comments\",\"score\",\"title\",\"selftext\"]\n",
    "subreddit = 'ProRevenge'\n",
    "url = \"https://api.pushshift.io/reddit/submission/search/\"\n",
    "results = []\n",
    "#loop through the dates \n",
    "for i, s_date in enumerate(date_range):\n",
    "    #prevents us from getting an index out of range error\n",
    "    if i != len(date_range)-1:\n",
    "        #declare end date \n",
    "        e_date = date_range[i+1]\n",
    "        #call the API\n",
    "        r = requests.get(url = url, params={\n",
    "            'after': to_utc(s_date),\n",
    "            'before': to_utc(e_date),\n",
    "            'sort_type': sort_type,\n",
    "            'sort': sort,\n",
    "            'subreddit': subreddit,\n",
    "            'fields': fields,\n",
    "            \"size\": 500\n",
    "        })\n",
    "\n",
    "        #add logs \n",
    "        print(f\"Doing {s_date.strftime('%Y-%m-%d')} to {e_date.strftime('%Y-%m-%d')}\")\n",
    "        if r.status_code == 200:\n",
    "            results.append(r.json()['data'])\n",
    "            print(\"=====Done\")\n",
    "        else:\n",
    "            print(\"=====Skipped\")\n",
    "        #so that we dont get blocked from abusing the API we call it after pausing for 1 second\n",
    "        time.sleep(1)"
   ]
  },
  {
   "cell_type": "code",
   "execution_count": 149,
   "metadata": {},
   "outputs": [
    {
     "output_type": "display_data",
     "data": {
      "text/plain": "                 author  created_utc  num_comments  score  \\\n0  Picachu-I-Choose-You   1597031922            21      1   \n1      Chickennuggies79   1597025467             6      1   \n2               DSGyoyo   1597048325             2      1   \n3            _Book_Wurm   1597033674             6      1   \n4            LisaSKadel   1597091579            19      1   \n\n                                            selftext   subreddit  \\\n0  I tried to post this on Pettyrevenge, but it w...  ProRevenge   \n1  So this happened years ago. I used to live out...  ProRevenge   \n2                                          [removed]  ProRevenge   \n3  Not sure of this counts as \"pro\". You be the j...  ProRevenge   \n4  Okay so I've been friends with this woman for ...  ProRevenge   \n\n                                               title  \n0  I can’t walk my dog? Then say hello to my litt...  \n1                                 Treat me like dirt  \n2  Repot my dad for false allegation and call me ...  \n3  HVAC company fired me without cause. The E.P.A...  \n4                            Revenge on an ex friend  ",
      "text/html": "<div>\n<style scoped>\n    .dataframe tbody tr th:only-of-type {\n        vertical-align: middle;\n    }\n\n    .dataframe tbody tr th {\n        vertical-align: top;\n    }\n\n    .dataframe thead th {\n        text-align: right;\n    }\n</style>\n<table border=\"1\" class=\"dataframe\">\n  <thead>\n    <tr style=\"text-align: right;\">\n      <th></th>\n      <th>author</th>\n      <th>created_utc</th>\n      <th>num_comments</th>\n      <th>score</th>\n      <th>selftext</th>\n      <th>subreddit</th>\n      <th>title</th>\n    </tr>\n  </thead>\n  <tbody>\n    <tr>\n      <th>0</th>\n      <td>Picachu-I-Choose-You</td>\n      <td>1597031922</td>\n      <td>21</td>\n      <td>1</td>\n      <td>I tried to post this on Pettyrevenge, but it w...</td>\n      <td>ProRevenge</td>\n      <td>I can’t walk my dog? Then say hello to my litt...</td>\n    </tr>\n    <tr>\n      <th>1</th>\n      <td>Chickennuggies79</td>\n      <td>1597025467</td>\n      <td>6</td>\n      <td>1</td>\n      <td>So this happened years ago. I used to live out...</td>\n      <td>ProRevenge</td>\n      <td>Treat me like dirt</td>\n    </tr>\n    <tr>\n      <th>2</th>\n      <td>DSGyoyo</td>\n      <td>1597048325</td>\n      <td>2</td>\n      <td>1</td>\n      <td>[removed]</td>\n      <td>ProRevenge</td>\n      <td>Repot my dad for false allegation and call me ...</td>\n    </tr>\n    <tr>\n      <th>3</th>\n      <td>_Book_Wurm</td>\n      <td>1597033674</td>\n      <td>6</td>\n      <td>1</td>\n      <td>Not sure of this counts as \"pro\". You be the j...</td>\n      <td>ProRevenge</td>\n      <td>HVAC company fired me without cause. The E.P.A...</td>\n    </tr>\n    <tr>\n      <th>4</th>\n      <td>LisaSKadel</td>\n      <td>1597091579</td>\n      <td>19</td>\n      <td>1</td>\n      <td>Okay so I've been friends with this woman for ...</td>\n      <td>ProRevenge</td>\n      <td>Revenge on an ex friend</td>\n    </tr>\n  </tbody>\n</table>\n</div>"
     },
     "metadata": {}
    }
   ],
   "source": [
    "flat_list = []\n",
    "#loop through the reddit results\n",
    "for sublist in results:\n",
    "    #check if sublist is not empty. The reason we have empty lists is because there are days wherein there are no submissions\n",
    "    if sublist is not None:\n",
    "        #for each dictionary in the sublist add it to the flat list \n",
    "        for item in sublist:\n",
    "            flat_list.append(item)\n",
    "\n",
    "#pandas has a useful function called from_dict which will convert a list of dictionary objects into a dataframe\n",
    "df = pd.DataFrame.from_dict(flat_list)\n",
    "display(df.head())\n",
    "df.to_csv(\"reddit_ProRevenge.csv\")"
   ]
  },
  {
   "cell_type": "code",
   "execution_count": 150,
   "metadata": {},
   "outputs": [
    {
     "output_type": "execute_result",
     "data": {
      "text/plain": "                  author  created_utc  num_comments  score  \\\n0   Picachu-I-Choose-You   1597031922            21      1   \n1       Chickennuggies79   1597025467             6      1   \n2                DSGyoyo   1597048325             2      1   \n3             _Book_Wurm   1597033674             6      1   \n4             LisaSKadel   1597091579            19      1   \n..                   ...          ...           ...    ...   \n91   TheMissingChapstick   1597507372             2      1   \n92         Any-League382   1597511282             2      1   \n93  Illustrious_Tennis_7   1597499289             2      1   \n94            greenlady3   1597498254             2      1   \n95          LoneWolfK952   1597519535             2      1   \n\n                                             selftext   subreddit  \\\n0   I tried to post this on Pettyrevenge, but it w...  ProRevenge   \n1   So this happened years ago. I used to live out...  ProRevenge   \n2                                           [removed]  ProRevenge   \n3   Not sure of this counts as \"pro\". You be the j...  ProRevenge   \n4   Okay so I've been friends with this woman for ...  ProRevenge   \n..                                                ...         ...   \n91                                          [removed]  ProRevenge   \n92                                          [removed]  ProRevenge   \n93                                          [removed]  ProRevenge   \n94                                          [removed]  ProRevenge   \n95                                          [removed]  ProRevenge   \n\n                                                title  \n0   I can’t walk my dog? Then say hello to my litt...  \n1                                  Treat me like dirt  \n2   Repot my dad for false allegation and call me ...  \n3   HVAC company fired me without cause. The E.P.A...  \n4                             Revenge on an ex friend  \n..                                                ...  \n91  Girlfriend airdrops guys nudes in to everyone ...  \n92  I pushed my ex friend who betrayed me off a sk...  \n93                     Tried getting revenge for rape  \n94                                  Made lax brownies  \n95             Is this too much? I don't think so lol  \n\n[96 rows x 7 columns]",
      "text/html": "<div>\n<style scoped>\n    .dataframe tbody tr th:only-of-type {\n        vertical-align: middle;\n    }\n\n    .dataframe tbody tr th {\n        vertical-align: top;\n    }\n\n    .dataframe thead th {\n        text-align: right;\n    }\n</style>\n<table border=\"1\" class=\"dataframe\">\n  <thead>\n    <tr style=\"text-align: right;\">\n      <th></th>\n      <th>author</th>\n      <th>created_utc</th>\n      <th>num_comments</th>\n      <th>score</th>\n      <th>selftext</th>\n      <th>subreddit</th>\n      <th>title</th>\n    </tr>\n  </thead>\n  <tbody>\n    <tr>\n      <th>0</th>\n      <td>Picachu-I-Choose-You</td>\n      <td>1597031922</td>\n      <td>21</td>\n      <td>1</td>\n      <td>I tried to post this on Pettyrevenge, but it w...</td>\n      <td>ProRevenge</td>\n      <td>I can’t walk my dog? Then say hello to my litt...</td>\n    </tr>\n    <tr>\n      <th>1</th>\n      <td>Chickennuggies79</td>\n      <td>1597025467</td>\n      <td>6</td>\n      <td>1</td>\n      <td>So this happened years ago. I used to live out...</td>\n      <td>ProRevenge</td>\n      <td>Treat me like dirt</td>\n    </tr>\n    <tr>\n      <th>2</th>\n      <td>DSGyoyo</td>\n      <td>1597048325</td>\n      <td>2</td>\n      <td>1</td>\n      <td>[removed]</td>\n      <td>ProRevenge</td>\n      <td>Repot my dad for false allegation and call me ...</td>\n    </tr>\n    <tr>\n      <th>3</th>\n      <td>_Book_Wurm</td>\n      <td>1597033674</td>\n      <td>6</td>\n      <td>1</td>\n      <td>Not sure of this counts as \"pro\". You be the j...</td>\n      <td>ProRevenge</td>\n      <td>HVAC company fired me without cause. The E.P.A...</td>\n    </tr>\n    <tr>\n      <th>4</th>\n      <td>LisaSKadel</td>\n      <td>1597091579</td>\n      <td>19</td>\n      <td>1</td>\n      <td>Okay so I've been friends with this woman for ...</td>\n      <td>ProRevenge</td>\n      <td>Revenge on an ex friend</td>\n    </tr>\n    <tr>\n      <th>...</th>\n      <td>...</td>\n      <td>...</td>\n      <td>...</td>\n      <td>...</td>\n      <td>...</td>\n      <td>...</td>\n      <td>...</td>\n    </tr>\n    <tr>\n      <th>91</th>\n      <td>TheMissingChapstick</td>\n      <td>1597507372</td>\n      <td>2</td>\n      <td>1</td>\n      <td>[removed]</td>\n      <td>ProRevenge</td>\n      <td>Girlfriend airdrops guys nudes in to everyone ...</td>\n    </tr>\n    <tr>\n      <th>92</th>\n      <td>Any-League382</td>\n      <td>1597511282</td>\n      <td>2</td>\n      <td>1</td>\n      <td>[removed]</td>\n      <td>ProRevenge</td>\n      <td>I pushed my ex friend who betrayed me off a sk...</td>\n    </tr>\n    <tr>\n      <th>93</th>\n      <td>Illustrious_Tennis_7</td>\n      <td>1597499289</td>\n      <td>2</td>\n      <td>1</td>\n      <td>[removed]</td>\n      <td>ProRevenge</td>\n      <td>Tried getting revenge for rape</td>\n    </tr>\n    <tr>\n      <th>94</th>\n      <td>greenlady3</td>\n      <td>1597498254</td>\n      <td>2</td>\n      <td>1</td>\n      <td>[removed]</td>\n      <td>ProRevenge</td>\n      <td>Made lax brownies</td>\n    </tr>\n    <tr>\n      <th>95</th>\n      <td>LoneWolfK952</td>\n      <td>1597519535</td>\n      <td>2</td>\n      <td>1</td>\n      <td>[removed]</td>\n      <td>ProRevenge</td>\n      <td>Is this too much? I don't think so lol</td>\n    </tr>\n  </tbody>\n</table>\n<p>96 rows × 7 columns</p>\n</div>"
     },
     "metadata": {},
     "execution_count": 150
    }
   ],
   "source": [
    "#Pandas Datafram\n",
    "df"
   ]
  },
  {
   "cell_type": "code",
   "execution_count": 151,
   "metadata": {},
   "outputs": [],
   "source": [
    "#To conver UTC to proper date formatting\n",
    "df['created_utc'] = pd.to_datetime(df['created_utc'], unit='s')"
   ]
  },
  {
   "cell_type": "code",
   "execution_count": 152,
   "metadata": {},
   "outputs": [
    {
     "output_type": "execute_result",
     "data": {
      "text/plain": "                  author         created_utc  num_comments  score  \\\n0   Picachu-I-Choose-You 2020-08-10 03:58:42            21      1   \n1       Chickennuggies79 2020-08-10 02:11:07             6      1   \n2                DSGyoyo 2020-08-10 08:32:05             2      1   \n3             _Book_Wurm 2020-08-10 04:27:54             6      1   \n4             LisaSKadel 2020-08-10 20:32:59            19      1   \n..                   ...                 ...           ...    ...   \n91   TheMissingChapstick 2020-08-15 16:02:52             2      1   \n92         Any-League382 2020-08-15 17:08:02             2      1   \n93  Illustrious_Tennis_7 2020-08-15 13:48:09             2      1   \n94            greenlady3 2020-08-15 13:30:54             2      1   \n95          LoneWolfK952 2020-08-15 19:25:35             2      1   \n\n                                             selftext   subreddit  \\\n0   I tried to post this on Pettyrevenge, but it w...  ProRevenge   \n1   So this happened years ago. I used to live out...  ProRevenge   \n2                                           [removed]  ProRevenge   \n3   Not sure of this counts as \"pro\". You be the j...  ProRevenge   \n4   Okay so I've been friends with this woman for ...  ProRevenge   \n..                                                ...         ...   \n91                                          [removed]  ProRevenge   \n92                                          [removed]  ProRevenge   \n93                                          [removed]  ProRevenge   \n94                                          [removed]  ProRevenge   \n95                                          [removed]  ProRevenge   \n\n                                                title  \n0   I can’t walk my dog? Then say hello to my litt...  \n1                                  Treat me like dirt  \n2   Repot my dad for false allegation and call me ...  \n3   HVAC company fired me without cause. The E.P.A...  \n4                             Revenge on an ex friend  \n..                                                ...  \n91  Girlfriend airdrops guys nudes in to everyone ...  \n92  I pushed my ex friend who betrayed me off a sk...  \n93                     Tried getting revenge for rape  \n94                                  Made lax brownies  \n95             Is this too much? I don't think so lol  \n\n[96 rows x 7 columns]",
      "text/html": "<div>\n<style scoped>\n    .dataframe tbody tr th:only-of-type {\n        vertical-align: middle;\n    }\n\n    .dataframe tbody tr th {\n        vertical-align: top;\n    }\n\n    .dataframe thead th {\n        text-align: right;\n    }\n</style>\n<table border=\"1\" class=\"dataframe\">\n  <thead>\n    <tr style=\"text-align: right;\">\n      <th></th>\n      <th>author</th>\n      <th>created_utc</th>\n      <th>num_comments</th>\n      <th>score</th>\n      <th>selftext</th>\n      <th>subreddit</th>\n      <th>title</th>\n    </tr>\n  </thead>\n  <tbody>\n    <tr>\n      <th>0</th>\n      <td>Picachu-I-Choose-You</td>\n      <td>2020-08-10 03:58:42</td>\n      <td>21</td>\n      <td>1</td>\n      <td>I tried to post this on Pettyrevenge, but it w...</td>\n      <td>ProRevenge</td>\n      <td>I can’t walk my dog? Then say hello to my litt...</td>\n    </tr>\n    <tr>\n      <th>1</th>\n      <td>Chickennuggies79</td>\n      <td>2020-08-10 02:11:07</td>\n      <td>6</td>\n      <td>1</td>\n      <td>So this happened years ago. I used to live out...</td>\n      <td>ProRevenge</td>\n      <td>Treat me like dirt</td>\n    </tr>\n    <tr>\n      <th>2</th>\n      <td>DSGyoyo</td>\n      <td>2020-08-10 08:32:05</td>\n      <td>2</td>\n      <td>1</td>\n      <td>[removed]</td>\n      <td>ProRevenge</td>\n      <td>Repot my dad for false allegation and call me ...</td>\n    </tr>\n    <tr>\n      <th>3</th>\n      <td>_Book_Wurm</td>\n      <td>2020-08-10 04:27:54</td>\n      <td>6</td>\n      <td>1</td>\n      <td>Not sure of this counts as \"pro\". You be the j...</td>\n      <td>ProRevenge</td>\n      <td>HVAC company fired me without cause. The E.P.A...</td>\n    </tr>\n    <tr>\n      <th>4</th>\n      <td>LisaSKadel</td>\n      <td>2020-08-10 20:32:59</td>\n      <td>19</td>\n      <td>1</td>\n      <td>Okay so I've been friends with this woman for ...</td>\n      <td>ProRevenge</td>\n      <td>Revenge on an ex friend</td>\n    </tr>\n    <tr>\n      <th>...</th>\n      <td>...</td>\n      <td>...</td>\n      <td>...</td>\n      <td>...</td>\n      <td>...</td>\n      <td>...</td>\n      <td>...</td>\n    </tr>\n    <tr>\n      <th>91</th>\n      <td>TheMissingChapstick</td>\n      <td>2020-08-15 16:02:52</td>\n      <td>2</td>\n      <td>1</td>\n      <td>[removed]</td>\n      <td>ProRevenge</td>\n      <td>Girlfriend airdrops guys nudes in to everyone ...</td>\n    </tr>\n    <tr>\n      <th>92</th>\n      <td>Any-League382</td>\n      <td>2020-08-15 17:08:02</td>\n      <td>2</td>\n      <td>1</td>\n      <td>[removed]</td>\n      <td>ProRevenge</td>\n      <td>I pushed my ex friend who betrayed me off a sk...</td>\n    </tr>\n    <tr>\n      <th>93</th>\n      <td>Illustrious_Tennis_7</td>\n      <td>2020-08-15 13:48:09</td>\n      <td>2</td>\n      <td>1</td>\n      <td>[removed]</td>\n      <td>ProRevenge</td>\n      <td>Tried getting revenge for rape</td>\n    </tr>\n    <tr>\n      <th>94</th>\n      <td>greenlady3</td>\n      <td>2020-08-15 13:30:54</td>\n      <td>2</td>\n      <td>1</td>\n      <td>[removed]</td>\n      <td>ProRevenge</td>\n      <td>Made lax brownies</td>\n    </tr>\n    <tr>\n      <th>95</th>\n      <td>LoneWolfK952</td>\n      <td>2020-08-15 19:25:35</td>\n      <td>2</td>\n      <td>1</td>\n      <td>[removed]</td>\n      <td>ProRevenge</td>\n      <td>Is this too much? I don't think so lol</td>\n    </tr>\n  </tbody>\n</table>\n<p>96 rows × 7 columns</p>\n</div>"
     },
     "metadata": {},
     "execution_count": 152
    }
   ],
   "source": [
    "df"
   ]
  },
  {
   "cell_type": "code",
   "execution_count": 153,
   "metadata": {},
   "outputs": [
    {
     "output_type": "execute_result",
     "data": {
      "text/plain": "0    giganticfuel\ndtype: object"
     },
     "metadata": {},
     "execution_count": 153
    }
   ],
   "source": [
    "# To find most submissions\n",
    "df.author.mode()"
   ]
  },
  {
   "cell_type": "code",
   "execution_count": 154,
   "metadata": {},
   "outputs": [
    {
     "output_type": "execute_result",
     "data": {
      "text/plain": "348"
     },
     "metadata": {},
     "execution_count": 154
    }
   ],
   "source": [
    "a = df.num_comments.max()\n",
    "a"
   ]
  },
  {
   "cell_type": "code",
   "execution_count": 155,
   "metadata": {},
   "outputs": [
    {
     "output_type": "execute_result",
     "data": {
      "text/plain": "7    Don't scam a Bot Developer\nName: title, dtype: object"
     },
     "metadata": {},
     "execution_count": 155
    }
   ],
   "source": [
    "most_comments = df[df.num_comments == 348]\n",
    "most_comments.head()\n",
    "most_comments.title"
   ]
  },
  {
   "cell_type": "code",
   "execution_count": 157,
   "metadata": {},
   "outputs": [],
   "source": [
    "s = pd.date_range('2020-08-09', '2020-08-15', freq='D').to_series()"
   ]
  },
  {
   "cell_type": "code",
   "execution_count": 158,
   "metadata": {},
   "outputs": [
    {
     "output_type": "execute_result",
     "data": {
      "text/plain": "2020-08-09    6\n2020-08-10    0\n2020-08-11    1\n2020-08-12    2\n2020-08-13    3\n2020-08-14    4\n2020-08-15    5\nFreq: D, dtype: int64"
     },
     "metadata": {},
     "execution_count": 158
    }
   ],
   "source": [
    "s.dt.dayofweek"
   ]
  },
  {
   "cell_type": "code",
   "execution_count": 159,
   "metadata": {},
   "outputs": [],
   "source": [
    "df['created_utc'] = pd.to_datetime(df['created_utc'].dt.date)"
   ]
  },
  {
   "cell_type": "code",
   "execution_count": 160,
   "metadata": {},
   "outputs": [
    {
     "output_type": "execute_result",
     "data": {
      "text/plain": "                  author created_utc  num_comments  score  \\\n0   Picachu-I-Choose-You  2020-08-10            21      1   \n1       Chickennuggies79  2020-08-10             6      1   \n2                DSGyoyo  2020-08-10             2      1   \n3             _Book_Wurm  2020-08-10             6      1   \n4             LisaSKadel  2020-08-10            19      1   \n..                   ...         ...           ...    ...   \n91   TheMissingChapstick  2020-08-15             2      1   \n92         Any-League382  2020-08-15             2      1   \n93  Illustrious_Tennis_7  2020-08-15             2      1   \n94            greenlady3  2020-08-15             2      1   \n95          LoneWolfK952  2020-08-15             2      1   \n\n                                             selftext   subreddit  \\\n0   I tried to post this on Pettyrevenge, but it w...  ProRevenge   \n1   So this happened years ago. I used to live out...  ProRevenge   \n2                                           [removed]  ProRevenge   \n3   Not sure of this counts as \"pro\". You be the j...  ProRevenge   \n4   Okay so I've been friends with this woman for ...  ProRevenge   \n..                                                ...         ...   \n91                                          [removed]  ProRevenge   \n92                                          [removed]  ProRevenge   \n93                                          [removed]  ProRevenge   \n94                                          [removed]  ProRevenge   \n95                                          [removed]  ProRevenge   \n\n                                                title  \n0   I can’t walk my dog? Then say hello to my litt...  \n1                                  Treat me like dirt  \n2   Repot my dad for false allegation and call me ...  \n3   HVAC company fired me without cause. The E.P.A...  \n4                             Revenge on an ex friend  \n..                                                ...  \n91  Girlfriend airdrops guys nudes in to everyone ...  \n92  I pushed my ex friend who betrayed me off a sk...  \n93                     Tried getting revenge for rape  \n94                                  Made lax brownies  \n95             Is this too much? I don't think so lol  \n\n[96 rows x 7 columns]",
      "text/html": "<div>\n<style scoped>\n    .dataframe tbody tr th:only-of-type {\n        vertical-align: middle;\n    }\n\n    .dataframe tbody tr th {\n        vertical-align: top;\n    }\n\n    .dataframe thead th {\n        text-align: right;\n    }\n</style>\n<table border=\"1\" class=\"dataframe\">\n  <thead>\n    <tr style=\"text-align: right;\">\n      <th></th>\n      <th>author</th>\n      <th>created_utc</th>\n      <th>num_comments</th>\n      <th>score</th>\n      <th>selftext</th>\n      <th>subreddit</th>\n      <th>title</th>\n    </tr>\n  </thead>\n  <tbody>\n    <tr>\n      <th>0</th>\n      <td>Picachu-I-Choose-You</td>\n      <td>2020-08-10</td>\n      <td>21</td>\n      <td>1</td>\n      <td>I tried to post this on Pettyrevenge, but it w...</td>\n      <td>ProRevenge</td>\n      <td>I can’t walk my dog? Then say hello to my litt...</td>\n    </tr>\n    <tr>\n      <th>1</th>\n      <td>Chickennuggies79</td>\n      <td>2020-08-10</td>\n      <td>6</td>\n      <td>1</td>\n      <td>So this happened years ago. I used to live out...</td>\n      <td>ProRevenge</td>\n      <td>Treat me like dirt</td>\n    </tr>\n    <tr>\n      <th>2</th>\n      <td>DSGyoyo</td>\n      <td>2020-08-10</td>\n      <td>2</td>\n      <td>1</td>\n      <td>[removed]</td>\n      <td>ProRevenge</td>\n      <td>Repot my dad for false allegation and call me ...</td>\n    </tr>\n    <tr>\n      <th>3</th>\n      <td>_Book_Wurm</td>\n      <td>2020-08-10</td>\n      <td>6</td>\n      <td>1</td>\n      <td>Not sure of this counts as \"pro\". You be the j...</td>\n      <td>ProRevenge</td>\n      <td>HVAC company fired me without cause. The E.P.A...</td>\n    </tr>\n    <tr>\n      <th>4</th>\n      <td>LisaSKadel</td>\n      <td>2020-08-10</td>\n      <td>19</td>\n      <td>1</td>\n      <td>Okay so I've been friends with this woman for ...</td>\n      <td>ProRevenge</td>\n      <td>Revenge on an ex friend</td>\n    </tr>\n    <tr>\n      <th>...</th>\n      <td>...</td>\n      <td>...</td>\n      <td>...</td>\n      <td>...</td>\n      <td>...</td>\n      <td>...</td>\n      <td>...</td>\n    </tr>\n    <tr>\n      <th>91</th>\n      <td>TheMissingChapstick</td>\n      <td>2020-08-15</td>\n      <td>2</td>\n      <td>1</td>\n      <td>[removed]</td>\n      <td>ProRevenge</td>\n      <td>Girlfriend airdrops guys nudes in to everyone ...</td>\n    </tr>\n    <tr>\n      <th>92</th>\n      <td>Any-League382</td>\n      <td>2020-08-15</td>\n      <td>2</td>\n      <td>1</td>\n      <td>[removed]</td>\n      <td>ProRevenge</td>\n      <td>I pushed my ex friend who betrayed me off a sk...</td>\n    </tr>\n    <tr>\n      <th>93</th>\n      <td>Illustrious_Tennis_7</td>\n      <td>2020-08-15</td>\n      <td>2</td>\n      <td>1</td>\n      <td>[removed]</td>\n      <td>ProRevenge</td>\n      <td>Tried getting revenge for rape</td>\n    </tr>\n    <tr>\n      <th>94</th>\n      <td>greenlady3</td>\n      <td>2020-08-15</td>\n      <td>2</td>\n      <td>1</td>\n      <td>[removed]</td>\n      <td>ProRevenge</td>\n      <td>Made lax brownies</td>\n    </tr>\n    <tr>\n      <th>95</th>\n      <td>LoneWolfK952</td>\n      <td>2020-08-15</td>\n      <td>2</td>\n      <td>1</td>\n      <td>[removed]</td>\n      <td>ProRevenge</td>\n      <td>Is this too much? I don't think so lol</td>\n    </tr>\n  </tbody>\n</table>\n<p>96 rows × 7 columns</p>\n</div>"
     },
     "metadata": {},
     "execution_count": 160
    }
   ],
   "source": [
    "df"
   ]
  },
  {
   "cell_type": "code",
   "execution_count": 163,
   "metadata": {},
   "outputs": [],
   "source": [
    "#For day of the week counts\n",
    "a = df['created_utc'].value_counts()"
   ]
  },
  {
   "cell_type": "code",
   "execution_count": 164,
   "metadata": {},
   "outputs": [
    {
     "output_type": "execute_result",
     "data": {
      "text/plain": "2020-08-15    20\n2020-08-10    20\n2020-08-12    17\n2020-08-13    13\n2020-08-11    13\n2020-08-14    13\nName: created_utc, dtype: int64"
     },
     "metadata": {},
     "execution_count": 164
    }
   ],
   "source": [
    "a"
   ]
  },
  {
   "cell_type": "code",
   "execution_count": null,
   "metadata": {},
   "outputs": [],
   "source": [
    "# How many submissions were you able to gather?\n",
    "# - 117 Submissions gathered\n",
    "# Who has the most submissions?\n",
    "# - 2 modes are found with most submissions, each with 3 submissions.\n",
    "# Which submission has the highest score?\n",
    "# -Can't seem to understand why scores are registering as \"1\"s, tried to sort it by score, but everything is still at 1.\n",
    "\n",
    "# Which submission has the highest number of comments?\n",
    "# - Highest number of comments is the post \"Don't scam a Bot developer\"\n",
    "\n",
    "# Which day of the week has the most submissions?\n",
    "# -There was a tie in day of the most submissions on day of the week that are on August 15 and August 10, with reference to the day of the week being converted, it is on day 0 and 5 which is Monday and Saturday"
   ]
  }
 ],
 "metadata": {
  "kernelspec": {
   "display_name": "Python 3.8.3 64-bit ('base': conda)",
   "language": "python",
   "name": "python_defaultSpec_1598009087886"
  },
  "language_info": {
   "codemirror_mode": {
    "name": "ipython",
    "version": 3
   },
   "file_extension": ".py",
   "mimetype": "text/x-python",
   "name": "python",
   "nbconvert_exporter": "python",
   "pygments_lexer": "ipython3",
   "version": "3.8.3-final"
  }
 },
 "nbformat": 4,
 "nbformat_minor": 4
}