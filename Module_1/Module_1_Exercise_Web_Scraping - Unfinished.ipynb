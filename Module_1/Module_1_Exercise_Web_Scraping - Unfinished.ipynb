{
 "metadata": {
  "language_info": {
   "codemirror_mode": {
    "name": "ipython",
    "version": 3
   },
   "file_extension": ".py",
   "mimetype": "text/x-python",
   "name": "python",
   "nbconvert_exporter": "python",
   "pygments_lexer": "ipython3",
   "version": "3.8.3-final"
  },
  "orig_nbformat": 2,
  "kernelspec": {
   "name": "python_defaultSpec_1598026984409",
   "display_name": "Python 3.8.3 64-bit ('base': conda)"
  }
 },
 "nbformat": 4,
 "nbformat_minor": 2,
 "cells": [
  {
   "cell_type": "code",
   "execution_count": 26,
   "metadata": {},
   "outputs": [],
   "source": [
    "from bs4 import BeautifulSoup\n",
    "import requests\n",
    "import pandas as pd"
   ]
  },
  {
   "cell_type": "code",
   "execution_count": 27,
   "metadata": {},
   "outputs": [],
   "source": [
    "base_url = \"http://books.toscrape.com/\"\n",
    "list_links = [] \n",
    "    #get the html for the url that was given\n",
    "page = requests.get(base_url)\n",
    "    #parse the html file for beautifulsoup to query on\n",
    "soup = BeautifulSoup(page.text, 'html.parser')\n",
    "    #inspecting the page we notice that the books are placed under \n",
    "    #the article tag so we get all articles\n",
    "for article in soup.find_all('article'):\n",
    "        #the article tag has an anchor tag so we find it and get the href\n",
    "    if \"catalogue\" not in article.find(\"a\")['href']:\n",
    "        url = base_url + \"catalogue/\" + article.find(\"a\")['href']\n",
    "    else:\n",
    "        url = base_url + article.find(\"a\")['href']\n",
    "        #add the title url to our list of titles \n",
    "    list_links.append(url)\n",
    "try:\n",
    "    next_url = base_url + soup.find_all('a')[-1].get('href')\n",
    "    #if none we return None :)     \n",
    "except:\n",
    "    next_url = None"
   ]
  },
  {
   "cell_type": "code",
   "execution_count": 29,
   "metadata": {},
   "outputs": [
    {
     "output_type": "execute_result",
     "data": {
      "text/plain": "(['http://books.toscrape.com/catalogue/a-light-in-the-attic_1000/index.html',\n  'http://books.toscrape.com/catalogue/tipping-the-velvet_999/index.html',\n  'http://books.toscrape.com/catalogue/soumission_998/index.html',\n  'http://books.toscrape.com/catalogue/sharp-objects_997/index.html',\n  'http://books.toscrape.com/catalogue/sapiens-a-brief-history-of-humankind_996/index.html',\n  'http://books.toscrape.com/catalogue/the-requiem-red_995/index.html',\n  'http://books.toscrape.com/catalogue/the-dirty-little-secrets-of-getting-your-dream-job_994/index.html',\n  'http://books.toscrape.com/catalogue/the-coming-woman-a-novel-based-on-the-life-of-the-infamous-feminist-victoria-woodhull_993/index.html',\n  'http://books.toscrape.com/catalogue/the-boys-in-the-boat-nine-americans-and-their-epic-quest-for-gold-at-the-1936-berlin-olympics_992/index.html',\n  'http://books.toscrape.com/catalogue/the-black-maria_991/index.html',\n  'http://books.toscrape.com/catalogue/starving-hearts-triangular-trade-trilogy-1_990/index.html',\n  'http://books.toscrape.com/catalogue/shakespeares-sonnets_989/index.html',\n  'http://books.toscrape.com/catalogue/set-me-free_988/index.html',\n  'http://books.toscrape.com/catalogue/scott-pilgrims-precious-little-life-scott-pilgrim-1_987/index.html',\n  'http://books.toscrape.com/catalogue/rip-it-up-and-start-again_986/index.html',\n  'http://books.toscrape.com/catalogue/our-band-could-be-your-life-scenes-from-the-american-indie-underground-1981-1991_985/index.html',\n  'http://books.toscrape.com/catalogue/olio_984/index.html',\n  'http://books.toscrape.com/catalogue/mesaerion-the-best-science-fiction-stories-1800-1849_983/index.html',\n  'http://books.toscrape.com/catalogue/libertarianism-for-beginners_982/index.html',\n  'http://books.toscrape.com/catalogue/its-only-the-himalayas_981/index.html'],\n 'http://books.toscrape.com/catalogue/page-2.html')"
     },
     "metadata": {},
     "execution_count": 29
    }
   ],
   "source": [
    "list_links,next_url"
   ]
  },
  {
   "cell_type": "code",
   "execution_count": null,
   "metadata": {},
   "outputs": [],
   "source": []
  }
 ]
}